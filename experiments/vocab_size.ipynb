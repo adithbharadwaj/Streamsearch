{
 "cells": [
  {
   "attachments": {},
   "cell_type": "markdown",
   "metadata": {},
   "source": [
    "# Experiments on dataset `m-st5000`"
   ]
  },
  {
   "cell_type": "code",
   "execution_count": 1,
   "metadata": {},
   "outputs": [],
   "source": [
    "import logging\n",
    "import os\n",
    "import sys\n",
    "\n",
    "import pandas as pd"
   ]
  },
  {
   "cell_type": "code",
   "execution_count": 2,
   "metadata": {},
   "outputs": [],
   "source": [
    "sys.path.append(os.path.join('..'))\n",
    "from recommender.model import Recommender"
   ]
  },
  {
   "cell_type": "code",
   "execution_count": 3,
   "metadata": {},
   "outputs": [],
   "source": [
    "logging.basicConfig(level=logging.INFO)"
   ]
  },
  {
   "cell_type": "code",
   "execution_count": 4,
   "metadata": {},
   "outputs": [],
   "source": [
    "credits = pd.read_csv(os.path.join('data', 'm-st5000', 'tmdb_5000_credits.csv'), index_col='movie_id')\n",
    "movies = pd.read_csv(os.path.join('data', 'm-st5000', 'tmdb_5000_movies.csv'), index_col='id')\n",
    "\n",
    "credits = credits.drop(columns=['title'])\n",
    "movies = movies.join(credits)\n",
    "\n",
    "del credits"
   ]
  },
  {
   "cell_type": "code",
   "execution_count": null,
   "metadata": {},
   "outputs": [],
   "source": [
    "EXPT_DIR = os.path.join('models', 'st5000')"
   ]
  },
  {
   "attachments": {},
   "cell_type": "markdown",
   "metadata": {},
   "source": [
    "## Experiment 1\n",
    "\n",
    "* Complete vocabulary\n",
    "* No dimensionality reduction"
   ]
  },
  {
   "cell_type": "code",
   "execution_count": null,
   "metadata": {},
   "outputs": [],
   "source": [
    "model_path = os.path.join(EXPT_DIR, 'vall-dall')"
   ]
  },
  {
   "cell_type": "code",
   "execution_count": null,
   "metadata": {},
   "outputs": [],
   "source": [
    "rec = Recommender()\n",
    "rec.train(movies, vocab_size=None, embedding_dim=None)\n",
    "rec.save(model_path, inference=True)\n",
    "\n",
    "del rec"
   ]
  },
  {
   "cell_type": "code",
   "execution_count": null,
   "metadata": {},
   "outputs": [],
   "source": [
    "rec = Recommender.load(model_path, inference=True)\n",
    "\n",
    "rec.recommend_pprint(movies['title'], 425); print()\n",
    "rec.recommend_pprint(movies['title'], 411); print()\n",
    "rec.recommend_pprint(movies['title'], 24428)\n",
    "\n",
    "del rec"
   ]
  },
  {
   "attachments": {},
   "cell_type": "markdown",
   "metadata": {},
   "source": [
    "## Experiment 2\n",
    "\n",
    "* Vocabulary size: $10000$\n",
    "* No dimensionality reduction"
   ]
  },
  {
   "cell_type": "code",
   "execution_count": null,
   "metadata": {},
   "outputs": [],
   "source": [
    "model_path = os.path.join(EXPT_DIR, 'v10k-dall')"
   ]
  },
  {
   "cell_type": "code",
   "execution_count": null,
   "metadata": {},
   "outputs": [],
   "source": [
    "rec = Recommender()\n",
    "rec.train(movies, vocab_size=10000, embedding_dim=None)\n",
    "rec.save(model_path, inference=True)\n",
    "\n",
    "del rec"
   ]
  },
  {
   "cell_type": "code",
   "execution_count": null,
   "metadata": {},
   "outputs": [],
   "source": [
    "rec = Recommender.load(model_path, inference=True)\n",
    "\n",
    "rec.recommend_pprint(movies['title'], 425); print()\n",
    "rec.recommend_pprint(movies['title'], 411); print()\n",
    "rec.recommend_pprint(movies['title'], 24428)\n",
    "\n",
    "del rec"
   ]
  },
  {
   "attachments": {},
   "cell_type": "markdown",
   "metadata": {},
   "source": [
    "## Experiment 3\n",
    "\n",
    "* Vocabulary size: 5000\n",
    "* No dimensionality reduction"
   ]
  },
  {
   "cell_type": "code",
   "execution_count": null,
   "metadata": {},
   "outputs": [],
   "source": [
    "model_path = os.path.join(EXPT_DIR, 'v5k-dall')"
   ]
  },
  {
   "cell_type": "code",
   "execution_count": null,
   "metadata": {},
   "outputs": [],
   "source": [
    "rec = Recommender()\n",
    "rec.train(movies, vocab_size=5000, embedding_dim=None)\n",
    "rec.save(model_path, inference=True)\n",
    "\n",
    "del rec"
   ]
  },
  {
   "cell_type": "code",
   "execution_count": null,
   "metadata": {},
   "outputs": [],
   "source": [
    "rec = Recommender.load(model_path, inference=True)\n",
    "\n",
    "rec.recommend_pprint(movies['title'], 425); print()\n",
    "rec.recommend_pprint(movies['title'], 411); print()\n",
    "rec.recommend_pprint(movies['title'], 24428)\n",
    "\n",
    "del rec"
   ]
  },
  {
   "attachments": {},
   "cell_type": "markdown",
   "metadata": {},
   "source": [
    "## Experiment 4\n",
    "\n",
    "* Vocabulary size: $3000$\n",
    "* No dimensionality reduction"
   ]
  },
  {
   "cell_type": "code",
   "execution_count": null,
   "metadata": {},
   "outputs": [],
   "source": [
    "model_path = os.path.join(EXPT_DIR, 'v3k-dall')"
   ]
  },
  {
   "cell_type": "code",
   "execution_count": null,
   "metadata": {},
   "outputs": [],
   "source": [
    "rec = Recommender()\n",
    "rec.train(movies, vocab_size=3000, embedding_dim=None)\n",
    "rec.save(model_path, inference=True)\n",
    "\n",
    "del rec"
   ]
  },
  {
   "cell_type": "code",
   "execution_count": null,
   "metadata": {},
   "outputs": [],
   "source": [
    "rec = Recommender.load(model_path, inference=True)\n",
    "\n",
    "rec.recommend_pprint(movies['title'], 425); print()\n",
    "rec.recommend_pprint(movies['title'], 411); print()\n",
    "rec.recommend_pprint(movies['title'], 24428)\n",
    "\n",
    "del rec"
   ]
  },
  {
   "attachments": {},
   "cell_type": "markdown",
   "metadata": {},
   "source": [
    "## Experiment 5\n",
    "\n",
    "* Vocabulary size: $1000$\n",
    "* No dimensionality reduction"
   ]
  },
  {
   "cell_type": "code",
   "execution_count": null,
   "metadata": {},
   "outputs": [],
   "source": [
    "model_path = os.path.join(EXPT_DIR, 'v1k-dall')"
   ]
  },
  {
   "cell_type": "code",
   "execution_count": null,
   "metadata": {},
   "outputs": [],
   "source": [
    "rec = Recommender()\n",
    "rec.train(movies, vocab_size=1000, embedding_dim=None)\n",
    "rec.save(model_path, inference=True)\n",
    "\n",
    "del rec"
   ]
  },
  {
   "cell_type": "code",
   "execution_count": null,
   "metadata": {},
   "outputs": [],
   "source": [
    "rec = Recommender.load(model_path, inference=True)\n",
    "\n",
    "rec.recommend_pprint(movies['title'], 425); print()\n",
    "rec.recommend_pprint(movies['title'], 411); print()\n",
    "rec.recommend_pprint(movies['title'], 24428)\n",
    "\n",
    "del rec"
   ]
  },
  {
   "attachments": {},
   "cell_type": "markdown",
   "metadata": {},
   "source": [
    "## Experiment 6\n",
    "\n",
    "* Vocabulary size: $100$\n",
    "* No dimensionality reduction"
   ]
  },
  {
   "cell_type": "code",
   "execution_count": null,
   "metadata": {},
   "outputs": [],
   "source": [
    "model_path = os.path.join(EXPT_DIR, 'v100-dall')"
   ]
  },
  {
   "cell_type": "code",
   "execution_count": null,
   "metadata": {},
   "outputs": [],
   "source": [
    "rec = Recommender()\n",
    "rec.train(movies, vocab_size=100, embedding_dim=None)\n",
    "rec.save(model_path, inference=True)\n",
    "\n",
    "del rec"
   ]
  },
  {
   "cell_type": "code",
   "execution_count": null,
   "metadata": {},
   "outputs": [],
   "source": [
    "rec = Recommender.load(model_path, inference=True)\n",
    "\n",
    "rec.recommend_pprint(movies['title'], 425); print()\n",
    "rec.recommend_pprint(movies['title'], 411); print()\n",
    "rec.recommend_pprint(movies['title'], 24428)\n",
    "\n",
    "del rec"
   ]
  },
  {
   "attachments": {},
   "cell_type": "markdown",
   "metadata": {},
   "source": [
    "## Experiment 7\n",
    "\n",
    "* Vocabulary size: $10$\n",
    "* No dimensionality reduction"
   ]
  },
  {
   "cell_type": "code",
   "execution_count": null,
   "metadata": {},
   "outputs": [],
   "source": [
    "model_path = os.path.join(EXPT_DIR, 'v10-dall')"
   ]
  },
  {
   "cell_type": "code",
   "execution_count": null,
   "metadata": {},
   "outputs": [],
   "source": [
    "rec = Recommender()\n",
    "rec.train(movies, vocab_size=10, embedding_dim=None)\n",
    "rec.save(model_path, inference=False)\n",
    "\n",
    "del rec"
   ]
  },
  {
   "cell_type": "code",
   "execution_count": null,
   "metadata": {},
   "outputs": [],
   "source": [
    "rec = Recommender.load(model_path, inference=False)\n",
    "\n",
    "print(f'Vocab: {rec.vocab}')\n",
    "\n",
    "rec.recommend_pprint(movies['title'], 425); print()\n",
    "rec.recommend_pprint(movies['title'], 411); print()\n",
    "rec.recommend_pprint(movies['title'], 24428)\n",
    "\n",
    "del rec"
   ]
  }
 ],
 "metadata": {
  "kernelspec": {
   "display_name": "venv",
   "language": "python",
   "name": "python3"
  },
  "language_info": {
   "codemirror_mode": {
    "name": "ipython",
    "version": 3
   },
   "file_extension": ".py",
   "mimetype": "text/x-python",
   "name": "python",
   "nbconvert_exporter": "python",
   "pygments_lexer": "ipython3",
   "version": "3.7.12"
  },
  "orig_nbformat": 4
 },
 "nbformat": 4,
 "nbformat_minor": 2
}
