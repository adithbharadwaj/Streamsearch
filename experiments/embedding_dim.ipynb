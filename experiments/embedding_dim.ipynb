{
 "cells": [
  {
   "attachments": {},
   "cell_type": "markdown",
   "metadata": {},
   "source": [
    "# Determining optimum embedding dimension\n",
    "\n",
    "Reducing `embedding_dim` decreases time to calculate similarity."
   ]
  },
  {
   "cell_type": "code",
   "execution_count": 1,
   "metadata": {},
   "outputs": [],
   "source": [
    "import logging\n",
    "import os\n",
    "import sys\n",
    "\n",
    "import numpy as np\n",
    "import pandas as pd"
   ]
  },
  {
   "cell_type": "code",
   "execution_count": 2,
   "metadata": {},
   "outputs": [],
   "source": [
    "sys.path.append(os.path.join('..'))\n",
    "from recommender.model import Embedder, Recommender"
   ]
  },
  {
   "cell_type": "code",
   "execution_count": 3,
   "metadata": {},
   "outputs": [],
   "source": [
    "logging.basicConfig(level=logging.INFO)"
   ]
  },
  {
   "cell_type": "code",
   "execution_count": 4,
   "metadata": {},
   "outputs": [],
   "source": [
    "credits = pd.read_csv(os.path.join('data', 'm-st5000', 'tmdb_5000_credits.csv'), index_col='movie_id')\n",
    "movies = pd.read_csv(os.path.join('data', 'm-st5000', 'tmdb_5000_movies.csv'), index_col='id')\n",
    "\n",
    "credits = credits.drop(columns=['title'])\n",
    "movies = movies.join(credits)\n",
    "\n",
    "movies = movies.sample(frac=1, random_state=1)\n",
    "\n",
    "del credits"
   ]
  },
  {
   "cell_type": "code",
   "execution_count": 5,
   "metadata": {},
   "outputs": [],
   "source": [
    "train = movies.iloc[:4000, :]\n",
    "test = movies.iloc[4000:, :]"
   ]
  },
  {
   "cell_type": "code",
   "execution_count": 6,
   "metadata": {},
   "outputs": [],
   "source": [
    "VOCAB_SIZE = 5000"
   ]
  },
  {
   "cell_type": "code",
   "execution_count": 7,
   "metadata": {},
   "outputs": [],
   "source": [
    "def calc_density(sparse_mat):\n",
    "    return sparse_mat.nnz / np.prod(sparse_mat.shape)"
   ]
  },
  {
   "attachments": {},
   "cell_type": "markdown",
   "metadata": {},
   "source": [
    "## `embedding_dim = 1024`"
   ]
  },
  {
   "cell_type": "code",
   "execution_count": 8,
   "metadata": {},
   "outputs": [
    {
     "name": "stderr",
     "output_type": "stream",
     "text": [
      "INFO:root:Embedder in [train] mode.\n",
      "INFO:root:Preprocessing 'genres'\n",
      "INFO:root:Encoding 'genres'\n",
      "INFO:root:Preprocessing 'overview'\n",
      "INFO:root:Vectorizing 'overview'...\n",
      "INFO:root:Vectorizing 'overview' took 18.585 s, for a vocabulary size of 5000.\n",
      "INFO:root:Stacking vectorized overview onto encoded 'genres'\n",
      "INFO:root:Reducing dimension to 1024...\n",
      "INFO:root:Dimensionality reduction took 68 s.\n"
     ]
    }
   ],
   "source": [
    "embedder = Embedder()\n",
    "embedder.train(train, vocab_size=VOCAB_SIZE, embedding_dim=1024)"
   ]
  },
  {
   "cell_type": "code",
   "execution_count": 9,
   "metadata": {},
   "outputs": [
    {
     "name": "stderr",
     "output_type": "stream",
     "text": [
      "INFO:root:Embedder in [infer] mode.\n",
      "INFO:root:Preprocessing 'genres'\n",
      "INFO:root:Encoding 'genres'\n",
      "INFO:root:Preprocessing 'overview'\n",
      "INFO:root:Vectorizing 'overview'...\n",
      "INFO:root:Vectorizing 'overview' took 19.5326 s, for a vocabulary size of 5000.\n",
      "INFO:root:Stacking vectorized overview onto encoded 'genres'\n",
      "INFO:root:Reducing dimension to 1024...\n",
      "INFO:root:Dimensionality reduction took 0 s.\n",
      "INFO:root:Sparsifying embeddings...\n",
      "INFO:root:Sparsifying embeddings took 0 s.\n"
     ]
    }
   ],
   "source": [
    "embeddings, ids = embedder.embed(movies, save_path=None)"
   ]
  },
  {
   "cell_type": "code",
   "execution_count": 10,
   "metadata": {},
   "outputs": [],
   "source": [
    "rec = Recommender(embeddings, ids)"
   ]
  },
  {
   "cell_type": "code",
   "execution_count": 11,
   "metadata": {},
   "outputs": [
    {
     "name": "stdout",
     "output_type": "stream",
     "text": [
      "Top 10 similar movies to \"Harry Potter and the Goblet of Fire\":\n",
      "* Harry Potter and the Prisoner of Azkaban\n",
      "* Harry Potter and the Chamber of Secrets\n",
      "* Harry Potter and the Philosopher's Stone\n",
      "* Harry Potter and the Half-Blood Prince\n",
      "* The Chronicles of Narnia: The Voyage of the Dawn Treader\n",
      "* The Chronicles of Narnia: Prince Caspian\n",
      "* The Chronicles of Narnia: The Lion, the Witch and the Wardrobe\n",
      "* Pete's Dragon\n",
      "* Pan\n",
      "* Oz: The Great and Powerful\n"
     ]
    }
   ],
   "source": [
    "rec.recommend_pprint(674, movies['title'])"
   ]
  },
  {
   "cell_type": "code",
   "execution_count": 12,
   "metadata": {},
   "outputs": [
    {
     "name": "stdout",
     "output_type": "stream",
     "text": [
      "Top 10 similar movies to \"Toy Story 3\":\n",
      "* Toy Story\n",
      "* Toy Story 2\n",
      "* Free Birds\n",
      "* Doug's 1st Movie\n",
      "* Meet the Deedles\n",
      "* Barnyard\n",
      "* The Simpsons Movie\n",
      "* Looney Tunes: Back in Action\n",
      "* Garfield: A Tail of Two Kitties\n",
      "* The SpongeBob SquarePants Movie\n"
     ]
    }
   ],
   "source": [
    "rec.recommend_pprint(10193, movies['title'])"
   ]
  },
  {
   "cell_type": "code",
   "execution_count": 13,
   "metadata": {},
   "outputs": [
    {
     "name": "stdout",
     "output_type": "stream",
     "text": [
      "Density = 100.0%\n"
     ]
    }
   ],
   "source": [
    "print(f'Density = {np.round(calc_density(embeddings) * 100, 4)}%')"
   ]
  },
  {
   "attachments": {},
   "cell_type": "markdown",
   "metadata": {},
   "source": [
    "## `embedding_dim = 512`"
   ]
  },
  {
   "cell_type": "code",
   "execution_count": 14,
   "metadata": {},
   "outputs": [
    {
     "name": "stderr",
     "output_type": "stream",
     "text": [
      "INFO:root:Embedder in [train] mode.\n",
      "INFO:root:Preprocessing 'genres'\n",
      "INFO:root:Encoding 'genres'\n",
      "INFO:root:Preprocessing 'overview'\n",
      "INFO:root:Vectorizing 'overview'...\n",
      "INFO:root:Vectorizing 'overview' took 22.6051 s, for a vocabulary size of 5000.\n",
      "INFO:root:Stacking vectorized overview onto encoded 'genres'\n",
      "INFO:root:Reducing dimension to 512...\n",
      "INFO:root:Dimensionality reduction took 17 s.\n"
     ]
    }
   ],
   "source": [
    "embedder = Embedder()\n",
    "embedder.train(train, vocab_size=VOCAB_SIZE, embedding_dim=512)"
   ]
  },
  {
   "cell_type": "code",
   "execution_count": 15,
   "metadata": {},
   "outputs": [
    {
     "name": "stderr",
     "output_type": "stream",
     "text": [
      "INFO:root:Embedder in [infer] mode.\n",
      "INFO:root:Preprocessing 'genres'\n",
      "INFO:root:Encoding 'genres'\n",
      "INFO:root:Preprocessing 'overview'\n",
      "INFO:root:Vectorizing 'overview'...\n",
      "INFO:root:Vectorizing 'overview' took 19.5244 s, for a vocabulary size of 5000.\n",
      "INFO:root:Stacking vectorized overview onto encoded 'genres'\n",
      "INFO:root:Reducing dimension to 512...\n",
      "INFO:root:Dimensionality reduction took 0 s.\n",
      "INFO:root:Sparsifying embeddings...\n",
      "INFO:root:Sparsifying embeddings took 0 s.\n"
     ]
    }
   ],
   "source": [
    "embeddings, ids = embedder.embed(movies, save_path=None)"
   ]
  },
  {
   "cell_type": "code",
   "execution_count": 16,
   "metadata": {},
   "outputs": [],
   "source": [
    "rec = Recommender(embeddings, ids)"
   ]
  },
  {
   "cell_type": "code",
   "execution_count": 17,
   "metadata": {},
   "outputs": [
    {
     "name": "stdout",
     "output_type": "stream",
     "text": [
      "Top 10 similar movies to \"Harry Potter and the Goblet of Fire\":\n",
      "* Harry Potter and the Prisoner of Azkaban\n",
      "* Harry Potter and the Chamber of Secrets\n",
      "* Harry Potter and the Philosopher's Stone\n",
      "* Harry Potter and the Half-Blood Prince\n",
      "* The Chronicles of Narnia: Prince Caspian\n",
      "* The Chronicles of Narnia: The Lion, the Witch and the Wardrobe\n",
      "* The Chronicles of Narnia: The Voyage of the Dawn Treader\n",
      "* Oz: The Great and Powerful\n",
      "* Pete's Dragon\n",
      "* Pan\n"
     ]
    }
   ],
   "source": [
    "rec.recommend_pprint(674, movies['title'])"
   ]
  },
  {
   "cell_type": "code",
   "execution_count": 18,
   "metadata": {},
   "outputs": [
    {
     "name": "stdout",
     "output_type": "stream",
     "text": [
      "Top 10 similar movies to \"Toy Story 3\":\n",
      "* Toy Story 2\n",
      "* Toy Story\n",
      "* Doug's 1st Movie\n",
      "* Garfield: A Tail of Two Kitties\n",
      "* The Simpsons Movie\n",
      "* Meet the Deedles\n",
      "* Looney Tunes: Back in Action\n",
      "* Free Birds\n",
      "* Hoodwinked!\n",
      "* Barnyard\n"
     ]
    }
   ],
   "source": [
    "rec.recommend_pprint(10193, movies['title'])"
   ]
  },
  {
   "cell_type": "code",
   "execution_count": 19,
   "metadata": {},
   "outputs": [
    {
     "name": "stdout",
     "output_type": "stream",
     "text": [
      "Density = 100.0%\n"
     ]
    }
   ],
   "source": [
    "print(f'Density = {np.round(calc_density(embeddings) * 100, 4)}%')"
   ]
  },
  {
   "attachments": {},
   "cell_type": "markdown",
   "metadata": {},
   "source": [
    "## `embedding_dim = 256`"
   ]
  },
  {
   "cell_type": "code",
   "execution_count": 20,
   "metadata": {},
   "outputs": [
    {
     "name": "stderr",
     "output_type": "stream",
     "text": [
      "INFO:root:Embedder in [train] mode.\n",
      "INFO:root:Preprocessing 'genres'\n",
      "INFO:root:Encoding 'genres'\n",
      "INFO:root:Preprocessing 'overview'\n",
      "INFO:root:Vectorizing 'overview'...\n",
      "INFO:root:Vectorizing 'overview' took 15.1989 s, for a vocabulary size of 5000.\n",
      "INFO:root:Stacking vectorized overview onto encoded 'genres'\n",
      "INFO:root:Reducing dimension to 256...\n",
      "INFO:root:Dimensionality reduction took 4 s.\n"
     ]
    }
   ],
   "source": [
    "embedder = Embedder()\n",
    "embedder.train(train, vocab_size=VOCAB_SIZE, embedding_dim=256)"
   ]
  },
  {
   "cell_type": "code",
   "execution_count": 21,
   "metadata": {},
   "outputs": [
    {
     "name": "stderr",
     "output_type": "stream",
     "text": [
      "INFO:root:Embedder in [infer] mode.\n",
      "INFO:root:Preprocessing 'genres'\n",
      "INFO:root:Encoding 'genres'\n",
      "INFO:root:Preprocessing 'overview'\n",
      "INFO:root:Vectorizing 'overview'...\n",
      "INFO:root:Vectorizing 'overview' took 17.9241 s, for a vocabulary size of 5000.\n",
      "INFO:root:Stacking vectorized overview onto encoded 'genres'\n",
      "INFO:root:Reducing dimension to 256...\n",
      "INFO:root:Dimensionality reduction took 0 s.\n",
      "INFO:root:Sparsifying embeddings...\n",
      "INFO:root:Sparsifying embeddings took 0 s.\n"
     ]
    }
   ],
   "source": [
    "embeddings, ids = embedder.embed(movies, save_path=None)"
   ]
  },
  {
   "cell_type": "code",
   "execution_count": 22,
   "metadata": {},
   "outputs": [],
   "source": [
    "rec = Recommender(embeddings, ids)"
   ]
  },
  {
   "cell_type": "code",
   "execution_count": 23,
   "metadata": {},
   "outputs": [
    {
     "name": "stdout",
     "output_type": "stream",
     "text": [
      "Top 10 similar movies to \"Harry Potter and the Goblet of Fire\":\n",
      "* Harry Potter and the Prisoner of Azkaban\n",
      "* The Chronicles of Narnia: Prince Caspian\n",
      "* Harry Potter and the Chamber of Secrets\n",
      "* Harry Potter and the Philosopher's Stone\n",
      "* The Chronicles of Narnia: The Lion, the Witch and the Wardrobe\n",
      "* Oz: The Great and Powerful\n",
      "* The Chronicles of Narnia: The Voyage of the Dawn Treader\n",
      "* Pete's Dragon\n",
      "* Harry Potter and the Half-Blood Prince\n",
      "* The Adventurer: The Curse of the Midas Box\n"
     ]
    }
   ],
   "source": [
    "rec.recommend_pprint(674, movies['title'])"
   ]
  },
  {
   "cell_type": "code",
   "execution_count": 24,
   "metadata": {},
   "outputs": [
    {
     "name": "stdout",
     "output_type": "stream",
     "text": [
      "Top 10 similar movies to \"Toy Story 3\":\n",
      "* Toy Story 2\n",
      "* Toy Story\n",
      "* The Simpsons Movie\n",
      "* Garfield: A Tail of Two Kitties\n",
      "* Looney Tunes: Back in Action\n",
      "* Doug's 1st Movie\n",
      "* Meet the Deedles\n",
      "* Hoodwinked!\n",
      "* Chicken Run\n",
      "* Hoodwinked Too! Hood VS. Evil\n"
     ]
    }
   ],
   "source": [
    "rec.recommend_pprint(10193, movies['title'])"
   ]
  },
  {
   "cell_type": "code",
   "execution_count": 25,
   "metadata": {},
   "outputs": [
    {
     "name": "stdout",
     "output_type": "stream",
     "text": [
      "Density = 100.0%\n"
     ]
    }
   ],
   "source": [
    "print(f'Density = {np.round(calc_density(embeddings) * 100, 4)}%')"
   ]
  },
  {
   "attachments": {},
   "cell_type": "markdown",
   "metadata": {},
   "source": [
    "## `embedding_dim = 128`"
   ]
  },
  {
   "cell_type": "code",
   "execution_count": 26,
   "metadata": {},
   "outputs": [
    {
     "name": "stderr",
     "output_type": "stream",
     "text": [
      "INFO:root:Embedder in [train] mode.\n",
      "INFO:root:Preprocessing 'genres'\n",
      "INFO:root:Encoding 'genres'\n",
      "INFO:root:Preprocessing 'overview'\n",
      "INFO:root:Vectorizing 'overview'...\n",
      "INFO:root:Vectorizing 'overview' took 15.3339 s, for a vocabulary size of 5000.\n",
      "INFO:root:Stacking vectorized overview onto encoded 'genres'\n",
      "INFO:root:Reducing dimension to 128...\n",
      "INFO:root:Dimensionality reduction took 1 s.\n"
     ]
    }
   ],
   "source": [
    "embedder = Embedder()\n",
    "embedder.train(train, vocab_size=VOCAB_SIZE, embedding_dim=128)"
   ]
  },
  {
   "cell_type": "code",
   "execution_count": 27,
   "metadata": {},
   "outputs": [
    {
     "name": "stderr",
     "output_type": "stream",
     "text": [
      "INFO:root:Embedder in [infer] mode.\n",
      "INFO:root:Preprocessing 'genres'\n",
      "INFO:root:Encoding 'genres'\n",
      "INFO:root:Preprocessing 'overview'\n",
      "INFO:root:Vectorizing 'overview'...\n",
      "INFO:root:Vectorizing 'overview' took 17.7321 s, for a vocabulary size of 5000.\n",
      "INFO:root:Stacking vectorized overview onto encoded 'genres'\n",
      "INFO:root:Reducing dimension to 128...\n",
      "INFO:root:Dimensionality reduction took 0 s.\n",
      "INFO:root:Sparsifying embeddings...\n",
      "INFO:root:Sparsifying embeddings took 0 s.\n"
     ]
    }
   ],
   "source": [
    "embeddings, ids = embedder.embed(movies, save_path=None)"
   ]
  },
  {
   "cell_type": "code",
   "execution_count": 28,
   "metadata": {},
   "outputs": [],
   "source": [
    "rec = Recommender(embeddings, ids)"
   ]
  },
  {
   "cell_type": "code",
   "execution_count": 29,
   "metadata": {},
   "outputs": [
    {
     "name": "stdout",
     "output_type": "stream",
     "text": [
      "Top 10 similar movies to \"Harry Potter and the Goblet of Fire\":\n",
      "* The Chronicles of Narnia: Prince Caspian\n",
      "* The BFG\n",
      "* Harry Potter and the Prisoner of Azkaban\n",
      "* Oz: The Great and Powerful\n",
      "* The Chronicles of Narnia: The Lion, the Witch and the Wardrobe\n",
      "* Alice in Wonderland\n",
      "* The Chronicles of Narnia: The Voyage of the Dawn Treader\n",
      "* Harry Potter and the Chamber of Secrets\n",
      "* Pete's Dragon\n",
      "* Percy Jackson & the Olympians: The Lightning Thief\n"
     ]
    }
   ],
   "source": [
    "rec.recommend_pprint(674, movies['title'])"
   ]
  },
  {
   "cell_type": "code",
   "execution_count": 30,
   "metadata": {},
   "outputs": [
    {
     "name": "stdout",
     "output_type": "stream",
     "text": [
      "Top 10 similar movies to \"Toy Story 3\":\n",
      "* Toy Story 2\n",
      "* Toy Story\n",
      "* Looney Tunes: Back in Action\n",
      "* Garfield: A Tail of Two Kitties\n",
      "* Doug's 1st Movie\n",
      "* Hoodwinked!\n",
      "* The Simpsons Movie\n",
      "* Barnyard\n",
      "* Meet the Deedles\n",
      "* Cloudy with a Chance of Meatballs\n"
     ]
    }
   ],
   "source": [
    "rec.recommend_pprint(10193, movies['title'])"
   ]
  },
  {
   "cell_type": "code",
   "execution_count": 31,
   "metadata": {},
   "outputs": [
    {
     "name": "stdout",
     "output_type": "stream",
     "text": [
      "Density = 100.0%\n"
     ]
    }
   ],
   "source": [
    "print(f'Density = {np.round(calc_density(embeddings) * 100, 4)}%')"
   ]
  },
  {
   "attachments": {},
   "cell_type": "markdown",
   "metadata": {},
   "source": [
    "## `embedding_dim = 64`"
   ]
  },
  {
   "cell_type": "code",
   "execution_count": 32,
   "metadata": {},
   "outputs": [
    {
     "name": "stderr",
     "output_type": "stream",
     "text": [
      "INFO:root:Embedder in [train] mode.\n",
      "INFO:root:Preprocessing 'genres'\n",
      "INFO:root:Encoding 'genres'\n",
      "INFO:root:Preprocessing 'overview'\n",
      "INFO:root:Vectorizing 'overview'...\n",
      "INFO:root:Vectorizing 'overview' took 14.6883 s, for a vocabulary size of 5000.\n",
      "INFO:root:Stacking vectorized overview onto encoded 'genres'\n",
      "INFO:root:Reducing dimension to 64...\n",
      "INFO:root:Dimensionality reduction took 0 s.\n"
     ]
    }
   ],
   "source": [
    "embedder = Embedder()\n",
    "embedder.train(train, vocab_size=VOCAB_SIZE, embedding_dim=64)"
   ]
  },
  {
   "cell_type": "code",
   "execution_count": 33,
   "metadata": {},
   "outputs": [
    {
     "name": "stderr",
     "output_type": "stream",
     "text": [
      "INFO:root:Embedder in [infer] mode.\n",
      "INFO:root:Preprocessing 'genres'\n",
      "INFO:root:Encoding 'genres'\n",
      "INFO:root:Preprocessing 'overview'\n",
      "INFO:root:Vectorizing 'overview'...\n",
      "INFO:root:Vectorizing 'overview' took 19.1767 s, for a vocabulary size of 5000.\n",
      "INFO:root:Stacking vectorized overview onto encoded 'genres'\n",
      "INFO:root:Reducing dimension to 64...\n",
      "INFO:root:Dimensionality reduction took 0 s.\n",
      "INFO:root:Sparsifying embeddings...\n",
      "INFO:root:Sparsifying embeddings took 0 s.\n"
     ]
    }
   ],
   "source": [
    "embeddings, ids = embedder.embed(movies, save_path=None)"
   ]
  },
  {
   "cell_type": "code",
   "execution_count": 34,
   "metadata": {},
   "outputs": [],
   "source": [
    "rec = Recommender(embeddings, ids)"
   ]
  },
  {
   "cell_type": "code",
   "execution_count": 35,
   "metadata": {},
   "outputs": [
    {
     "name": "stdout",
     "output_type": "stream",
     "text": [
      "Top 10 similar movies to \"Harry Potter and the Goblet of Fire\":\n",
      "* The BFG\n",
      "* The Chronicles of Narnia: Prince Caspian\n",
      "* Oz: The Great and Powerful\n",
      "* The Chronicles of Narnia: The Lion, the Witch and the Wardrobe\n",
      "* Alice in Wonderland\n",
      "* Harry Potter and the Prisoner of Azkaban\n",
      "* The Chronicles of Narnia: The Voyage of the Dawn Treader\n",
      "* Harry Potter and the Philosopher's Stone\n",
      "* Pete's Dragon\n",
      "* Pan\n"
     ]
    }
   ],
   "source": [
    "rec.recommend_pprint(674, movies['title'])"
   ]
  },
  {
   "cell_type": "code",
   "execution_count": 36,
   "metadata": {},
   "outputs": [
    {
     "name": "stdout",
     "output_type": "stream",
     "text": [
      "Top 10 similar movies to \"Toy Story 3\":\n",
      "* Garfield\n",
      "* Toy Story\n",
      "* Garfield: A Tail of Two Kitties\n",
      "* Meet the Deedles\n",
      "* Toy Story 2\n",
      "* Looney Tunes: Back in Action\n",
      "* Hoodwinked!\n",
      "* Barnyard\n",
      "* Doug's 1st Movie\n",
      "* Cloudy with a Chance of Meatballs\n"
     ]
    }
   ],
   "source": [
    "rec.recommend_pprint(10193, movies['title'])"
   ]
  },
  {
   "cell_type": "code",
   "execution_count": 37,
   "metadata": {},
   "outputs": [
    {
     "name": "stdout",
     "output_type": "stream",
     "text": [
      "Density = 100.0%\n"
     ]
    }
   ],
   "source": [
    "print(f'Density = {np.round(calc_density(embeddings) * 100, 4)}%')"
   ]
  },
  {
   "attachments": {},
   "cell_type": "markdown",
   "metadata": {},
   "source": [
    "## `embedding_dim = 32`"
   ]
  },
  {
   "cell_type": "code",
   "execution_count": 38,
   "metadata": {},
   "outputs": [
    {
     "name": "stderr",
     "output_type": "stream",
     "text": [
      "INFO:root:Embedder in [train] mode.\n",
      "INFO:root:Preprocessing 'genres'\n",
      "INFO:root:Encoding 'genres'\n",
      "INFO:root:Preprocessing 'overview'\n",
      "INFO:root:Vectorizing 'overview'...\n",
      "INFO:root:Vectorizing 'overview' took 23.5811 s, for a vocabulary size of 5000.\n",
      "INFO:root:Stacking vectorized overview onto encoded 'genres'\n",
      "INFO:root:Reducing dimension to 32...\n",
      "INFO:root:Dimensionality reduction took 2 s.\n"
     ]
    }
   ],
   "source": [
    "embedder = Embedder()\n",
    "embedder.train(train, vocab_size=VOCAB_SIZE, embedding_dim=32)"
   ]
  },
  {
   "cell_type": "code",
   "execution_count": 39,
   "metadata": {},
   "outputs": [
    {
     "name": "stderr",
     "output_type": "stream",
     "text": [
      "INFO:root:Embedder in [infer] mode.\n",
      "INFO:root:Preprocessing 'genres'\n",
      "INFO:root:Encoding 'genres'\n",
      "INFO:root:Preprocessing 'overview'\n",
      "INFO:root:Vectorizing 'overview'...\n",
      "INFO:root:Vectorizing 'overview' took 21.5968 s, for a vocabulary size of 5000.\n",
      "INFO:root:Stacking vectorized overview onto encoded 'genres'\n",
      "INFO:root:Reducing dimension to 32...\n",
      "INFO:root:Dimensionality reduction took 0 s.\n",
      "INFO:root:Sparsifying embeddings...\n",
      "INFO:root:Sparsifying embeddings took 0 s.\n"
     ]
    }
   ],
   "source": [
    "embeddings, ids = embedder.embed(movies, save_path=None)"
   ]
  },
  {
   "cell_type": "code",
   "execution_count": 40,
   "metadata": {},
   "outputs": [],
   "source": [
    "rec = Recommender(embeddings, ids)"
   ]
  },
  {
   "cell_type": "code",
   "execution_count": 41,
   "metadata": {},
   "outputs": [
    {
     "name": "stdout",
     "output_type": "stream",
     "text": [
      "Top 10 similar movies to \"Harry Potter and the Goblet of Fire\":\n",
      "* The Chronicles of Narnia: The Lion, the Witch and the Wardrobe\n",
      "* Harry Potter and the Prisoner of Azkaban\n",
      "* The BFG\n",
      "* Oz: The Great and Powerful\n",
      "* Alice in Wonderland\n",
      "* Harry Potter and the Chamber of Secrets\n",
      "* Percy Jackson: Sea of Monsters\n",
      "* The Chronicles of Narnia: Prince Caspian\n",
      "* Harry Potter and the Half-Blood Prince\n",
      "* The Chronicles of Narnia: The Voyage of the Dawn Treader\n"
     ]
    }
   ],
   "source": [
    "rec.recommend_pprint(674, movies['title'])"
   ]
  },
  {
   "cell_type": "code",
   "execution_count": 42,
   "metadata": {},
   "outputs": [
    {
     "name": "stdout",
     "output_type": "stream",
     "text": [
      "Top 10 similar movies to \"Toy Story 3\":\n",
      "* Garfield\n",
      "* Doug's 1st Movie\n",
      "* Animals United\n",
      "* Chicken Run\n",
      "* Barnyard\n",
      "* Toy Story 2\n",
      "* Toy Story\n",
      "* Hoodwinked!\n",
      "* Garfield: A Tail of Two Kitties\n",
      "* Meet the Deedles\n"
     ]
    }
   ],
   "source": [
    "rec.recommend_pprint(10193, movies['title'])"
   ]
  },
  {
   "cell_type": "code",
   "execution_count": 43,
   "metadata": {},
   "outputs": [
    {
     "name": "stdout",
     "output_type": "stream",
     "text": [
      "Density = 100.0%\n"
     ]
    }
   ],
   "source": [
    "print(f'Density = {np.round(calc_density(embeddings) * 100, 4)}%')"
   ]
  },
  {
   "attachments": {},
   "cell_type": "markdown",
   "metadata": {},
   "source": [
    "## `embedding_dim = 16`"
   ]
  },
  {
   "cell_type": "code",
   "execution_count": 44,
   "metadata": {},
   "outputs": [
    {
     "name": "stderr",
     "output_type": "stream",
     "text": [
      "INFO:root:Embedder in [train] mode.\n",
      "INFO:root:Preprocessing 'genres'\n",
      "INFO:root:Encoding 'genres'\n",
      "INFO:root:Preprocessing 'overview'\n",
      "INFO:root:Vectorizing 'overview'...\n",
      "INFO:root:Vectorizing 'overview' took 13.6423 s, for a vocabulary size of 5000.\n",
      "INFO:root:Stacking vectorized overview onto encoded 'genres'\n",
      "INFO:root:Reducing dimension to 16...\n",
      "INFO:root:Dimensionality reduction took 0 s.\n"
     ]
    }
   ],
   "source": [
    "embedder = Embedder()\n",
    "embedder.train(train, vocab_size=VOCAB_SIZE, embedding_dim=16)"
   ]
  },
  {
   "cell_type": "code",
   "execution_count": 45,
   "metadata": {},
   "outputs": [
    {
     "name": "stderr",
     "output_type": "stream",
     "text": [
      "INFO:root:Embedder in [infer] mode.\n",
      "INFO:root:Preprocessing 'genres'\n",
      "INFO:root:Encoding 'genres'\n",
      "INFO:root:Preprocessing 'overview'\n",
      "INFO:root:Vectorizing 'overview'...\n",
      "INFO:root:Vectorizing 'overview' took 16.5206 s, for a vocabulary size of 5000.\n",
      "INFO:root:Stacking vectorized overview onto encoded 'genres'\n",
      "INFO:root:Reducing dimension to 16...\n",
      "INFO:root:Dimensionality reduction took 0 s.\n",
      "INFO:root:Sparsifying embeddings...\n",
      "INFO:root:Sparsifying embeddings took 0 s.\n"
     ]
    }
   ],
   "source": [
    "embeddings, ids = embedder.embed(movies, save_path=None)"
   ]
  },
  {
   "cell_type": "code",
   "execution_count": 46,
   "metadata": {},
   "outputs": [],
   "source": [
    "rec = Recommender(embeddings, ids)"
   ]
  },
  {
   "cell_type": "code",
   "execution_count": 47,
   "metadata": {},
   "outputs": [
    {
     "name": "stdout",
     "output_type": "stream",
     "text": [
      "Top 10 similar movies to \"Harry Potter and the Goblet of Fire\":\n",
      "* The BFG\n",
      "* The Spiderwick Chronicles\n",
      "* The Adventurer: The Curse of the Midas Box\n",
      "* Harry Potter and the Prisoner of Azkaban\n",
      "* Harry Potter and the Chamber of Secrets\n",
      "* Oz: The Great and Powerful\n",
      "* The Chronicles of Narnia: The Voyage of the Dawn Treader\n",
      "* The Indian in the Cupboard\n",
      "* Alice in Wonderland\n",
      "* The Chronicles of Narnia: The Lion, the Witch and the Wardrobe\n"
     ]
    }
   ],
   "source": [
    "rec.recommend_pprint(674, movies['title'])"
   ]
  },
  {
   "cell_type": "code",
   "execution_count": 48,
   "metadata": {},
   "outputs": [
    {
     "name": "stdout",
     "output_type": "stream",
     "text": [
      "Top 10 similar movies to \"Toy Story 3\":\n",
      "* Monsters, Inc.\n",
      "* Doug's 1st Movie\n",
      "* Barnyard\n",
      "* Over the Hedge\n",
      "* Surf's Up\n",
      "* Frankenweenie\n",
      "* The SpongeBob SquarePants Movie\n",
      "* Hoodwinked Too! Hood VS. Evil\n",
      "* Toy Story\n",
      "* The Simpsons Movie\n"
     ]
    }
   ],
   "source": [
    "rec.recommend_pprint(10193, movies['title'])"
   ]
  },
  {
   "cell_type": "code",
   "execution_count": 49,
   "metadata": {},
   "outputs": [
    {
     "name": "stdout",
     "output_type": "stream",
     "text": [
      "Density = 100.0%\n"
     ]
    }
   ],
   "source": [
    "print(f'Density = {np.round(calc_density(embeddings) * 100, 4)}%')"
   ]
  },
  {
   "attachments": {},
   "cell_type": "markdown",
   "metadata": {},
   "source": [
    "## `embedding_dim = 8`"
   ]
  },
  {
   "cell_type": "code",
   "execution_count": 50,
   "metadata": {},
   "outputs": [
    {
     "name": "stderr",
     "output_type": "stream",
     "text": [
      "INFO:root:Embedder in [train] mode.\n",
      "INFO:root:Preprocessing 'genres'\n",
      "INFO:root:Encoding 'genres'\n",
      "INFO:root:Preprocessing 'overview'\n",
      "INFO:root:Vectorizing 'overview'...\n",
      "INFO:root:Vectorizing 'overview' took 13.6143 s, for a vocabulary size of 5000.\n",
      "INFO:root:Stacking vectorized overview onto encoded 'genres'\n",
      "INFO:root:Reducing dimension to 8...\n",
      "INFO:root:Dimensionality reduction took 0 s.\n"
     ]
    }
   ],
   "source": [
    "embedder = Embedder()\n",
    "embedder.train(train, vocab_size=VOCAB_SIZE, embedding_dim=8)"
   ]
  },
  {
   "cell_type": "code",
   "execution_count": 51,
   "metadata": {},
   "outputs": [
    {
     "name": "stderr",
     "output_type": "stream",
     "text": [
      "INFO:root:Embedder in [infer] mode.\n",
      "INFO:root:Preprocessing 'genres'\n",
      "INFO:root:Encoding 'genres'\n",
      "INFO:root:Preprocessing 'overview'\n",
      "INFO:root:Vectorizing 'overview'...\n",
      "INFO:root:Vectorizing 'overview' took 16.2972 s, for a vocabulary size of 5000.\n",
      "INFO:root:Stacking vectorized overview onto encoded 'genres'\n",
      "INFO:root:Reducing dimension to 8...\n",
      "INFO:root:Dimensionality reduction took 0 s.\n",
      "INFO:root:Sparsifying embeddings...\n",
      "INFO:root:Sparsifying embeddings took 0 s.\n"
     ]
    }
   ],
   "source": [
    "embeddings, ids = embedder.embed(movies, save_path=None)"
   ]
  },
  {
   "cell_type": "code",
   "execution_count": 52,
   "metadata": {},
   "outputs": [],
   "source": [
    "rec = Recommender(embeddings, ids)"
   ]
  },
  {
   "cell_type": "code",
   "execution_count": 53,
   "metadata": {},
   "outputs": [
    {
     "name": "stdout",
     "output_type": "stream",
     "text": [
      "Top 10 similar movies to \"Harry Potter and the Goblet of Fire\":\n",
      "* The Chronicles of Narnia: The Lion, the Witch and the Wardrobe\n",
      "* The Chronicles of Narnia: The Voyage of the Dawn Treader\n",
      "* The BFG\n",
      "* The Spiderwick Chronicles\n",
      "* Percy Jackson & the Olympians: The Lightning Thief\n",
      "* Alice in Wonderland\n",
      "* Oz: The Great and Powerful\n",
      "* Harry Potter and the Chamber of Secrets\n",
      "* Harry Potter and the Prisoner of Azkaban\n",
      "* Percy Jackson: Sea of Monsters\n"
     ]
    }
   ],
   "source": [
    "rec.recommend_pprint(674, movies['title'])"
   ]
  },
  {
   "cell_type": "code",
   "execution_count": 54,
   "metadata": {},
   "outputs": [
    {
     "name": "stdout",
     "output_type": "stream",
     "text": [
      "Top 10 similar movies to \"Toy Story 3\":\n",
      "* Frankenweenie\n",
      "* Cloudy with a Chance of Meatballs\n",
      "* Looney Tunes: Back in Action\n",
      "* Surf's Up\n",
      "* Happy Feet Two\n",
      "* Hop\n",
      "* Barnyard\n",
      "* Monsters, Inc.\n",
      "* Doug's 1st Movie\n",
      "* Toy Story 2\n"
     ]
    }
   ],
   "source": [
    "rec.recommend_pprint(10193, movies['title'])"
   ]
  },
  {
   "cell_type": "code",
   "execution_count": 55,
   "metadata": {},
   "outputs": [
    {
     "name": "stdout",
     "output_type": "stream",
     "text": [
      "Density = 100.0%\n"
     ]
    }
   ],
   "source": [
    "print(f'Density = {np.round(calc_density(embeddings) * 100, 4)}%')"
   ]
  }
 ],
 "metadata": {
  "kernelspec": {
   "display_name": "venv",
   "language": "python",
   "name": "python3"
  },
  "language_info": {
   "codemirror_mode": {
    "name": "ipython",
    "version": 3
   },
   "file_extension": ".py",
   "mimetype": "text/x-python",
   "name": "python",
   "nbconvert_exporter": "python",
   "pygments_lexer": "ipython3",
   "version": "3.7.12"
  },
  "orig_nbformat": 4
 },
 "nbformat": 4,
 "nbformat_minor": 2
}
