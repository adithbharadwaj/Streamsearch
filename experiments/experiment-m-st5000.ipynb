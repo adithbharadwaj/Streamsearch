{
 "cells": [
  {
   "attachments": {},
   "cell_type": "markdown",
   "metadata": {},
   "source": [
    "# Experiments on dataset `m-st5000`"
   ]
  },
  {
   "cell_type": "code",
   "execution_count": 1,
   "metadata": {},
   "outputs": [],
   "source": [
    "import logging\n",
    "import os\n",
    "import sys\n",
    "\n",
    "import pandas as pd"
   ]
  },
  {
   "cell_type": "code",
   "execution_count": 2,
   "metadata": {},
   "outputs": [],
   "source": [
    "sys.path.append(os.path.join('..'))\n",
    "from recommender.model import Recommender"
   ]
  },
  {
   "cell_type": "code",
   "execution_count": 3,
   "metadata": {},
   "outputs": [],
   "source": [
    "logging.basicConfig(level=logging.INFO)"
   ]
  },
  {
   "cell_type": "code",
   "execution_count": 4,
   "metadata": {},
   "outputs": [],
   "source": [
    "credits = pd.read_csv(os.path.join('data', 'm-st5000', 'tmdb_5000_credits.csv'), index_col='movie_id')\n",
    "movies = pd.read_csv(os.path.join('data', 'm-st5000', 'tmdb_5000_movies.csv'), index_col='id')\n",
    "\n",
    "credits = credits.drop(columns=['title'])\n",
    "movies = movies.join(credits)\n",
    "\n",
    "del credits"
   ]
  },
  {
   "cell_type": "code",
   "execution_count": 5,
   "metadata": {},
   "outputs": [],
   "source": [
    "EXPT_DIR = os.path.join('models', 'st5000')"
   ]
  },
  {
   "attachments": {},
   "cell_type": "markdown",
   "metadata": {},
   "source": [
    "## Experiment 1\n",
    "\n",
    "* Complete vocabulary\n",
    "* No dimensionality reduction"
   ]
  },
  {
   "cell_type": "code",
   "execution_count": 6,
   "metadata": {},
   "outputs": [],
   "source": [
    "model_path = os.path.join(EXPT_DIR, 'vall-dall')"
   ]
  },
  {
   "cell_type": "code",
   "execution_count": 7,
   "metadata": {},
   "outputs": [
    {
     "name": "stderr",
     "output_type": "stream",
     "text": [
      "INFO:root:Preprocessing 'genres'\n",
      "INFO:root:Encoding 'genres'\n",
      "INFO:root:Preprocessing 'overview'\n",
      "INFO:root:Injecting 'keywords' into 'overview'\n",
      "INFO:root:Encoding 'overview'...\n",
      "INFO:root:Encoding 'overview' took 42.654 s, for a vocabulary size of 18551.\n",
      "INFO:root:Computing cosine similarity...\n",
      "INFO:root:Computing cosine similarity took 14.5051 s.\n"
     ]
    }
   ],
   "source": [
    "rec = Recommender()\n",
    "rec.train(movies, vocab_size=None, embedding_dim=None)\n",
    "rec.save(model_path, inference=True)\n",
    "\n",
    "del rec"
   ]
  },
  {
   "cell_type": "code",
   "execution_count": 8,
   "metadata": {},
   "outputs": [
    {
     "name": "stdout",
     "output_type": "stream",
     "text": [
      "Top 10 similar movies to \"Ice Age\":\n",
      "* Ice Age: The Meltdown\n",
      "* Ice Age: Dawn of the Dinosaurs\n",
      "* Ice Age: Continental Drift\n",
      "* Kung Fu Panda\n",
      "* Antz\n",
      "* TMNT\n",
      "* Bee Movie\n",
      "* Up\n",
      "* Cars\n",
      "* Curious George\n",
      "\n",
      "Top 10 similar movies to \"The Chronicles of Narnia: The Lion, the Witch and the Wardrobe\":\n",
      "* The Chronicles of Narnia: Prince Caspian\n",
      "* The Wizard of Oz\n",
      "* The Chronicles of Narnia: The Voyage of the Dawn Treader\n",
      "* Harry Potter and the Chamber of Secrets\n",
      "* Harry Potter and the Philosopher's Stone\n",
      "* The Indian in the Cupboard\n",
      "* The Spiderwick Chronicles\n",
      "* Oz: The Great and Powerful\n",
      "* Harry Potter and the Half-Blood Prince\n",
      "* Pan\n",
      "\n",
      "Top 10 similar movies to \"The Avengers\":\n",
      "* Avengers: Age of Ultron\n",
      "* Fantastic Four\n",
      "* Captain America: Civil War\n",
      "* Iron Man 2\n",
      "* Captain America: The First Avenger\n",
      "* X-Men\n",
      "* Iron Man\n",
      "* Iron Man 3\n",
      "* Captain America: The Winter Soldier\n",
      "* Ant-Man\n"
     ]
    }
   ],
   "source": [
    "rec = Recommender.load(model_path, inference=True)\n",
    "\n",
    "rec.recommend_pprint(movies['title'], 425); print()\n",
    "rec.recommend_pprint(movies['title'], 411); print()\n",
    "rec.recommend_pprint(movies['title'], 24428)\n",
    "\n",
    "del rec"
   ]
  },
  {
   "attachments": {},
   "cell_type": "markdown",
   "metadata": {},
   "source": [
    "## Experiment 2\n",
    "\n",
    "* Vocabulary size: $10000$\n",
    "* No dimensionality reduction"
   ]
  },
  {
   "cell_type": "code",
   "execution_count": 9,
   "metadata": {},
   "outputs": [],
   "source": [
    "model_path = os.path.join(EXPT_DIR, 'v10k-dall')"
   ]
  },
  {
   "cell_type": "code",
   "execution_count": 10,
   "metadata": {},
   "outputs": [
    {
     "name": "stderr",
     "output_type": "stream",
     "text": [
      "INFO:root:Preprocessing 'genres'\n",
      "INFO:root:Encoding 'genres'\n",
      "INFO:root:Preprocessing 'overview'\n",
      "INFO:root:Injecting 'keywords' into 'overview'\n",
      "INFO:root:Encoding 'overview'...\n",
      "INFO:root:Encoding 'overview' took 35.5649 s, for a vocabulary size of 10000.\n",
      "INFO:root:Computing cosine similarity...\n",
      "INFO:root:Computing cosine similarity took 8.0549 s.\n"
     ]
    }
   ],
   "source": [
    "rec = Recommender()\n",
    "rec.train(movies, vocab_size=10000, embedding_dim=None)\n",
    "rec.save(model_path, inference=True)\n",
    "\n",
    "del rec"
   ]
  },
  {
   "cell_type": "code",
   "execution_count": 11,
   "metadata": {},
   "outputs": [
    {
     "name": "stdout",
     "output_type": "stream",
     "text": [
      "Top 10 similar movies to \"Ice Age\":\n",
      "* Ice Age: Dawn of the Dinosaurs\n",
      "* Ice Age: The Meltdown\n",
      "* Ice Age: Continental Drift\n",
      "* Kung Fu Panda\n",
      "* Bee Movie\n",
      "* Antz\n",
      "* Up\n",
      "* TMNT\n",
      "* Cars\n",
      "* The Nut Job\n",
      "\n",
      "Top 10 similar movies to \"The Chronicles of Narnia: The Lion, the Witch and the Wardrobe\":\n",
      "* The Chronicles of Narnia: Prince Caspian\n",
      "* The Chronicles of Narnia: The Voyage of the Dawn Treader\n",
      "* The Wizard of Oz\n",
      "* Harry Potter and the Chamber of Secrets\n",
      "* Harry Potter and the Philosopher's Stone\n",
      "* The Spiderwick Chronicles\n",
      "* The Indian in the Cupboard\n",
      "* Oz: The Great and Powerful\n",
      "* Harry Potter and the Half-Blood Prince\n",
      "* Pan\n",
      "\n",
      "Top 10 similar movies to \"The Avengers\":\n",
      "* Avengers: Age of Ultron\n",
      "* Fantastic Four\n",
      "* Captain America: Civil War\n",
      "* Iron Man\n",
      "* Iron Man 2\n",
      "* Captain America: The First Avenger\n",
      "* X-Men\n",
      "* Iron Man 3\n",
      "* Guardians of the Galaxy\n",
      "* The Incredible Hulk\n"
     ]
    }
   ],
   "source": [
    "rec = Recommender.load(model_path, inference=True)\n",
    "\n",
    "rec.recommend_pprint(movies['title'], 425); print()\n",
    "rec.recommend_pprint(movies['title'], 411); print()\n",
    "rec.recommend_pprint(movies['title'], 24428)\n",
    "\n",
    "del rec"
   ]
  },
  {
   "attachments": {},
   "cell_type": "markdown",
   "metadata": {},
   "source": [
    "## Experiment 3\n",
    "\n",
    "* Vocabulary size: 5000\n",
    "* No dimensionality reduction"
   ]
  },
  {
   "cell_type": "code",
   "execution_count": 12,
   "metadata": {},
   "outputs": [],
   "source": [
    "model_path = os.path.join(EXPT_DIR, 'v5k-dall')"
   ]
  },
  {
   "cell_type": "code",
   "execution_count": 13,
   "metadata": {},
   "outputs": [
    {
     "name": "stderr",
     "output_type": "stream",
     "text": [
      "INFO:root:Preprocessing 'genres'\n",
      "INFO:root:Encoding 'genres'\n",
      "INFO:root:Preprocessing 'overview'\n",
      "INFO:root:Injecting 'keywords' into 'overview'\n",
      "INFO:root:Encoding 'overview'...\n",
      "INFO:root:Encoding 'overview' took 37.3858 s, for a vocabulary size of 5000.\n",
      "INFO:root:Computing cosine similarity...\n",
      "INFO:root:Computing cosine similarity took 3.7418 s.\n"
     ]
    }
   ],
   "source": [
    "rec = Recommender()\n",
    "rec.train(movies, vocab_size=5000, embedding_dim=None)\n",
    "rec.save(model_path, inference=True)\n",
    "\n",
    "del rec"
   ]
  },
  {
   "cell_type": "code",
   "execution_count": 14,
   "metadata": {},
   "outputs": [
    {
     "name": "stdout",
     "output_type": "stream",
     "text": [
      "Top 10 similar movies to \"Ice Age\":\n",
      "* Ice Age: Continental Drift\n",
      "* Ice Age: The Meltdown\n",
      "* Ice Age: Dawn of the Dinosaurs\n",
      "* Kung Fu Panda\n",
      "* Flushed Away\n",
      "* TMNT\n",
      "* Up\n",
      "* Cars\n",
      "* Antz\n",
      "* Bee Movie\n",
      "\n",
      "Top 10 similar movies to \"The Chronicles of Narnia: The Lion, the Witch and the Wardrobe\":\n",
      "* The Chronicles of Narnia: Prince Caspian\n",
      "* The Chronicles of Narnia: The Voyage of the Dawn Treader\n",
      "* The Wizard of Oz\n",
      "* Harry Potter and the Chamber of Secrets\n",
      "* Harry Potter and the Philosopher's Stone\n",
      "* The Spiderwick Chronicles\n",
      "* Percy Jackson: Sea of Monsters\n",
      "* Harry Potter and the Half-Blood Prince\n",
      "* Oz: The Great and Powerful\n",
      "* Pan\n",
      "\n",
      "Top 10 similar movies to \"The Avengers\":\n",
      "* Avengers: Age of Ultron\n",
      "* Ant-Man\n",
      "* Fantastic Four\n",
      "* Captain America: Civil War\n",
      "* Captain America: The First Avenger\n",
      "* Iron Man 2\n",
      "* Iron Man 3\n",
      "* Iron Man\n",
      "* Guardians of the Galaxy\n",
      "* X-Men\n"
     ]
    }
   ],
   "source": [
    "rec = Recommender.load(model_path, inference=True)\n",
    "\n",
    "rec.recommend_pprint(movies['title'], 425); print()\n",
    "rec.recommend_pprint(movies['title'], 411); print()\n",
    "rec.recommend_pprint(movies['title'], 24428)\n",
    "\n",
    "del rec"
   ]
  },
  {
   "attachments": {},
   "cell_type": "markdown",
   "metadata": {},
   "source": [
    "## Experiment 4\n",
    "\n",
    "* Vocabulary size: $3000$\n",
    "* No dimensionality reduction"
   ]
  },
  {
   "cell_type": "code",
   "execution_count": 15,
   "metadata": {},
   "outputs": [],
   "source": [
    "model_path = os.path.join(EXPT_DIR, 'v3k-dall')"
   ]
  },
  {
   "cell_type": "code",
   "execution_count": 16,
   "metadata": {},
   "outputs": [
    {
     "name": "stderr",
     "output_type": "stream",
     "text": [
      "INFO:root:Preprocessing 'genres'\n",
      "INFO:root:Encoding 'genres'\n",
      "INFO:root:Preprocessing 'overview'\n",
      "INFO:root:Injecting 'keywords' into 'overview'\n",
      "INFO:root:Encoding 'overview'...\n",
      "INFO:root:Encoding 'overview' took 38.5387 s, for a vocabulary size of 3000.\n",
      "INFO:root:Computing cosine similarity...\n",
      "INFO:root:Computing cosine similarity took 4.0739 s.\n"
     ]
    }
   ],
   "source": [
    "rec = Recommender()\n",
    "rec.train(movies, vocab_size=3000, embedding_dim=None)\n",
    "rec.save(model_path, inference=True)\n",
    "\n",
    "del rec"
   ]
  },
  {
   "cell_type": "code",
   "execution_count": 17,
   "metadata": {},
   "outputs": [
    {
     "name": "stdout",
     "output_type": "stream",
     "text": [
      "Top 10 similar movies to \"Ice Age\":\n",
      "* Ice Age: Continental Drift\n",
      "* Ice Age: The Meltdown\n",
      "* Ice Age: Dawn of the Dinosaurs\n",
      "* Kung Fu Panda\n",
      "* A Bug's Life\n",
      "* Antz\n",
      "* Cars\n",
      "* Bee Movie\n",
      "* The Curse of the Were-Rabbit\n",
      "* Up\n",
      "\n",
      "Top 10 similar movies to \"The Chronicles of Narnia: The Lion, the Witch and the Wardrobe\":\n",
      "* The Wizard of Oz\n",
      "* The Chronicles of Narnia: Prince Caspian\n",
      "* The Chronicles of Narnia: The Voyage of the Dawn Treader\n",
      "* Harry Potter and the Chamber of Secrets\n",
      "* Harry Potter and the Philosopher's Stone\n",
      "* Harry Potter and the Half-Blood Prince\n",
      "* Oz: The Great and Powerful\n",
      "* The Spiderwick Chronicles\n",
      "* Percy Jackson: Sea of Monsters\n",
      "* Pan\n",
      "\n",
      "Top 10 similar movies to \"The Avengers\":\n",
      "* Avengers: Age of Ultron\n",
      "* Fantastic Four\n",
      "* Ant-Man\n",
      "* Captain America: Civil War\n",
      "* Iron Man 3\n",
      "* Iron Man 2\n",
      "* The Incredible Hulk\n",
      "* Captain America: The First Avenger\n",
      "* Iron Man\n",
      "* Guardians of the Galaxy\n"
     ]
    }
   ],
   "source": [
    "rec = Recommender.load(model_path, inference=True)\n",
    "\n",
    "rec.recommend_pprint(movies['title'], 425); print()\n",
    "rec.recommend_pprint(movies['title'], 411); print()\n",
    "rec.recommend_pprint(movies['title'], 24428)\n",
    "\n",
    "del rec"
   ]
  },
  {
   "attachments": {},
   "cell_type": "markdown",
   "metadata": {},
   "source": [
    "## Experiment 5\n",
    "\n",
    "* Vocabulary size: $1000$\n",
    "* No dimensionality reduction"
   ]
  },
  {
   "cell_type": "code",
   "execution_count": 18,
   "metadata": {},
   "outputs": [],
   "source": [
    "model_path = os.path.join(EXPT_DIR, 'v1k-dall')"
   ]
  },
  {
   "cell_type": "code",
   "execution_count": 19,
   "metadata": {},
   "outputs": [
    {
     "name": "stderr",
     "output_type": "stream",
     "text": [
      "INFO:root:Preprocessing 'genres'\n",
      "INFO:root:Encoding 'genres'\n",
      "INFO:root:Preprocessing 'overview'\n",
      "INFO:root:Injecting 'keywords' into 'overview'\n",
      "INFO:root:Encoding 'overview'...\n",
      "INFO:root:Encoding 'overview' took 38.6074 s, for a vocabulary size of 1000.\n",
      "INFO:root:Computing cosine similarity...\n",
      "INFO:root:Computing cosine similarity took 1.1334 s.\n"
     ]
    }
   ],
   "source": [
    "rec = Recommender()\n",
    "rec.train(movies, vocab_size=1000, embedding_dim=None)\n",
    "rec.save(model_path, inference=True)\n",
    "\n",
    "del rec"
   ]
  },
  {
   "cell_type": "code",
   "execution_count": 20,
   "metadata": {},
   "outputs": [
    {
     "name": "stdout",
     "output_type": "stream",
     "text": [
      "Top 10 similar movies to \"Ice Age\":\n",
      "* Ice Age: The Meltdown\n",
      "* Ice Age: Continental Drift\n",
      "* Ice Age: Dawn of the Dinosaurs\n",
      "* Kung Fu Panda\n",
      "* A Bug's Life\n",
      "* Bee Movie\n",
      "* Rio\n",
      "* Flushed Away\n",
      "* Cars\n",
      "* Curious George\n",
      "\n",
      "Top 10 similar movies to \"The Chronicles of Narnia: The Lion, the Witch and the Wardrobe\":\n",
      "* The Wizard of Oz\n",
      "* The Chronicles of Narnia: Prince Caspian\n",
      "* Oz: The Great and Powerful\n",
      "* Harry Potter and the Chamber of Secrets\n",
      "* Percy Jackson: Sea of Monsters\n",
      "* The Chronicles of Narnia: The Voyage of the Dawn Treader\n",
      "* Harry Potter and the Philosopher's Stone\n",
      "* The Spiderwick Chronicles\n",
      "* Pan\n",
      "* Harry Potter and the Half-Blood Prince\n",
      "\n",
      "Top 10 similar movies to \"The Avengers\":\n",
      "* Fantastic Four\n",
      "* Avengers: Age of Ultron\n",
      "* Iron Man\n",
      "* Iron Man 3\n",
      "* Iron Man 2\n",
      "* Ant-Man\n",
      "* The Incredible Hulk\n",
      "* Captain America: Civil War\n",
      "* Captain America: The First Avenger\n",
      "* X-Men\n"
     ]
    }
   ],
   "source": [
    "rec = Recommender.load(model_path, inference=True)\n",
    "\n",
    "rec.recommend_pprint(movies['title'], 425); print()\n",
    "rec.recommend_pprint(movies['title'], 411); print()\n",
    "rec.recommend_pprint(movies['title'], 24428)\n",
    "\n",
    "del rec"
   ]
  },
  {
   "attachments": {},
   "cell_type": "markdown",
   "metadata": {},
   "source": [
    "## Experiment 6\n",
    "\n",
    "* Vocabulary size: $5$\n",
    "* No dimensionality reduction"
   ]
  },
  {
   "cell_type": "code",
   "execution_count": 21,
   "metadata": {},
   "outputs": [],
   "source": [
    "model_path = os.path.join(EXPT_DIR, 'v5-dall')"
   ]
  },
  {
   "cell_type": "code",
   "execution_count": 25,
   "metadata": {},
   "outputs": [
    {
     "name": "stderr",
     "output_type": "stream",
     "text": [
      "INFO:root:Preprocessing 'genres'\n",
      "INFO:root:Encoding 'genres'\n",
      "INFO:root:Preprocessing 'overview'\n",
      "INFO:root:Injecting 'keywords' into 'overview'\n",
      "INFO:root:Encoding 'overview'...\n",
      "INFO:root:Encoding 'overview' took 35.2017 s, for a vocabulary size of 5.\n",
      "INFO:root:Computing cosine similarity...\n",
      "INFO:root:Computing cosine similarity took 0.447 s.\n"
     ]
    },
    {
     "name": "stdout",
     "output_type": "stream",
     "text": [
      "['id' 'life' 'love' 'new' 'woman']\n"
     ]
    }
   ],
   "source": [
    "rec = Recommender()\n",
    "rec.train(movies, vocab_size=5, embedding_dim=None)\n",
    "rec.save(model_path, inference=False)\n",
    "\n",
    "del rec"
   ]
  },
  {
   "cell_type": "code",
   "execution_count": 23,
   "metadata": {},
   "outputs": [
    {
     "name": "stdout",
     "output_type": "stream",
     "text": [
      "Top 10 similar movies to \"Ice Age\":\n",
      "* Penguins of Madagascar\n",
      "* Minions\n",
      "* Rio 2\n",
      "* A Bug's Life\n",
      "* Cars 2\n",
      "* Ice Age\n",
      "* The Lion of Judah\n",
      "* Stuart Little 2\n",
      "* Wreck-It Ralph\n",
      "* Rugrats in Paris: The Movie\n",
      "\n",
      "Top 10 similar movies to \"The Chronicles of Narnia: The Lion, the Witch and the Wardrobe\":\n",
      "* Alice in Wonderland\n",
      "* The Chronicles of Narnia: The Lion, the Witch and the Wardrobe\n",
      "* City of Ember\n",
      "* The Chronicles of Narnia: The Voyage of the Dawn Treader\n",
      "* Harry Potter and the Goblet of Fire\n",
      "* The Spiderwick Chronicles\n",
      "* Harry Potter and the Half-Blood Prince\n",
      "* Harry Potter and the Prisoner of Azkaban\n",
      "* Oz: The Great and Powerful\n",
      "* Percy Jackson: Sea of Monsters\n",
      "\n",
      "Top 10 similar movies to \"The Avengers\":\n",
      "* Star Wars: Episode III - Revenge of the Sith\n",
      "* X-Men: First Class\n",
      "* The Incredible Hulk\n",
      "* Captain America: The First Avenger\n",
      "* Ant-Man\n",
      "* Captain America: The Winter Soldier\n",
      "* Return of the Jedi\n",
      "* The Empire Strikes Back\n",
      "* Star Wars\n",
      "* TRON: Legacy\n"
     ]
    }
   ],
   "source": [
    "rec = Recommender.load(model_path, inference=False)\n",
    "\n",
    "print(f'Vocab: {rec.vocab}')\n",
    "\n",
    "rec.recommend_pprint(movies['title'], 425); print()\n",
    "rec.recommend_pprint(movies['title'], 411); print()\n",
    "rec.recommend_pprint(movies['title'], 24428)\n",
    "\n",
    "del rec"
   ]
  },
  {
   "cell_type": "code",
   "execution_count": null,
   "metadata": {},
   "outputs": [],
   "source": []
  }
 ],
 "metadata": {
  "kernelspec": {
   "display_name": "venv",
   "language": "python",
   "name": "python3"
  },
  "language_info": {
   "codemirror_mode": {
    "name": "ipython",
    "version": 3
   },
   "file_extension": ".py",
   "mimetype": "text/x-python",
   "name": "python",
   "nbconvert_exporter": "python",
   "pygments_lexer": "ipython3",
   "version": "3.7.12"
  },
  "orig_nbformat": 4
 },
 "nbformat": 4,
 "nbformat_minor": 2
}
