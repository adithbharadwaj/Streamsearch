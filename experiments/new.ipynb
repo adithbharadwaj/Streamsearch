{
 "cells": [
  {
   "cell_type": "code",
   "execution_count": 1,
   "metadata": {},
   "outputs": [],
   "source": [
    "import logging\n",
    "import os\n",
    "import sys\n",
    "\n",
    "import pandas as pd"
   ]
  },
  {
   "cell_type": "code",
   "execution_count": 2,
   "metadata": {},
   "outputs": [],
   "source": [
    "sys.path.append(os.path.join('..'))\n",
    "from recommender.model import Embedder, Recommender, ids_to_titles"
   ]
  },
  {
   "cell_type": "code",
   "execution_count": 3,
   "metadata": {},
   "outputs": [],
   "source": [
    "logging.basicConfig(level=logging.INFO)"
   ]
  },
  {
   "cell_type": "code",
   "execution_count": 4,
   "metadata": {},
   "outputs": [],
   "source": [
    "credits = pd.read_csv(os.path.join('data', 'm-st5000', 'tmdb_5000_credits.csv'), index_col='movie_id')\n",
    "movies = pd.read_csv(os.path.join('data', 'm-st5000', 'tmdb_5000_movies.csv'), index_col='id')\n",
    "\n",
    "credits = credits.drop(columns=['title'])\n",
    "movies = movies.join(credits)\n",
    "\n",
    "del credits"
   ]
  },
  {
   "cell_type": "code",
   "execution_count": 5,
   "metadata": {},
   "outputs": [
    {
     "name": "stderr",
     "output_type": "stream",
     "text": [
      "INFO:root:Embedder in [train] mode.\n",
      "INFO:root:Preprocessing 'genres'\n",
      "INFO:root:Encoding 'genres'\n",
      "INFO:root:Preprocessing 'overview'\n",
      "INFO:root:Injecting 'keywords' into 'overview'\n",
      "INFO:root:Vectorizing 'overview'...\n",
      "INFO:root:Vectorizing 'overview' took 31.8165 s, for a vocabulary size of 5000.\n",
      "INFO:root:Stacking vectorized overview onto encoded 'genres'\n",
      "INFO:root:Reducing dimension to 16...\n",
      "INFO:root:Dimensionality reduction took 0 s.\n"
     ]
    }
   ],
   "source": [
    "embedder = Embedder()\n",
    "embedder.train(movies, vocab_size=5000, embedding_dim=16)"
   ]
  },
  {
   "cell_type": "code",
   "execution_count": 6,
   "metadata": {},
   "outputs": [
    {
     "name": "stderr",
     "output_type": "stream",
     "text": [
      "INFO:root:Embedder in [infer] mode.\n",
      "INFO:root:Preprocessing 'genres'\n",
      "INFO:root:Encoding 'genres'\n",
      "INFO:root:Preprocessing 'overview'\n",
      "INFO:root:Injecting 'keywords' into 'overview'\n",
      "INFO:root:Vectorizing 'overview'...\n",
      "INFO:root:Vectorizing 'overview' took 33.4879 s, for a vocabulary size of 5000.\n",
      "INFO:root:Stacking vectorized overview onto encoded 'genres'\n",
      "INFO:root:Reducing dimension to None...\n",
      "INFO:root:Dimensionality reduction took 0 s.\n",
      "INFO:root:Sparsifying embeddings...\n",
      "INFO:root:Sparsifying embeddings took 0 s.\n",
      "INFO:root:Saving embeddings to \"temp.npz\"\n"
     ]
    },
    {
     "data": {
      "text/plain": [
       "(<4803x16 sparse matrix of type '<class 'numpy.float64'>'\n",
       " \twith 76848 stored elements in Compressed Sparse Row format>,\n",
       " array([ 19995,    285, 206647, ..., 231617, 126186,  25975]))"
      ]
     },
     "execution_count": 6,
     "metadata": {},
     "output_type": "execute_result"
    }
   ],
   "source": [
    "embedder.embed(movies, save_path='temp.npz')"
   ]
  },
  {
   "cell_type": "code",
   "execution_count": 5,
   "metadata": {},
   "outputs": [],
   "source": [
    "rec = Recommender('.')"
   ]
  },
  {
   "cell_type": "code",
   "execution_count": 6,
   "metadata": {},
   "outputs": [
    {
     "data": {
      "text/plain": [
       "[425, 8355, 9487, 82690, 57800, 5559, 9975, 950, 533, 8916]"
      ]
     },
     "execution_count": 6,
     "metadata": {},
     "output_type": "execute_result"
    }
   ],
   "source": [
    "rec.recommend_by_id(425)"
   ]
  },
  {
   "cell_type": "code",
   "execution_count": 7,
   "metadata": {},
   "outputs": [
    {
     "name": "stdout",
     "output_type": "stream",
     "text": [
      "Top 10 similar movies to \"Ice Age\":\n",
      "* Ice Age\n",
      "* Ice Age: Dawn of the Dinosaurs\n",
      "* A Bug's Life\n",
      "* Wreck-It Ralph\n",
      "* Ice Age: Continental Drift\n",
      "* Bee Movie\n",
      "* Curious George\n",
      "* Ice Age: The Meltdown\n",
      "* The Curse of the Were-Rabbit\n",
      "* Antz\n"
     ]
    }
   ],
   "source": [
    "rec.recommend_pprint(425, movies['title'])"
   ]
  }
 ],
 "metadata": {
  "kernelspec": {
   "display_name": "venv",
   "language": "python",
   "name": "python3"
  },
  "language_info": {
   "codemirror_mode": {
    "name": "ipython",
    "version": 3
   },
   "file_extension": ".py",
   "mimetype": "text/x-python",
   "name": "python",
   "nbconvert_exporter": "python",
   "pygments_lexer": "ipython3",
   "version": "3.7.12"
  },
  "orig_nbformat": 4
 },
 "nbformat": 4,
 "nbformat_minor": 2
}
