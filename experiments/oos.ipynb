{
 "cells": [
  {
   "attachments": {},
   "cell_type": "markdown",
   "metadata": {},
   "source": [
    "# Testing performance on out-of-sample"
   ]
  },
  {
   "cell_type": "code",
   "execution_count": 1,
   "metadata": {},
   "outputs": [],
   "source": [
    "import logging\n",
    "import os\n",
    "import sys\n",
    "\n",
    "import numpy as np\n",
    "import pandas as pd"
   ]
  },
  {
   "cell_type": "code",
   "execution_count": 2,
   "metadata": {},
   "outputs": [],
   "source": [
    "sys.path.append(os.path.join('..'))\n",
    "from recommender.model import Embedder, Recommender"
   ]
  },
  {
   "cell_type": "code",
   "execution_count": 3,
   "metadata": {},
   "outputs": [],
   "source": [
    "logging.basicConfig(level=logging.INFO)"
   ]
  },
  {
   "cell_type": "code",
   "execution_count": 4,
   "metadata": {},
   "outputs": [],
   "source": [
    "credits = pd.read_csv(os.path.join('data', 'm-st5000', 'tmdb_5000_credits.csv'), index_col='movie_id')\n",
    "movies = pd.read_csv(os.path.join('data', 'm-st5000', 'tmdb_5000_movies.csv'), index_col='id')\n",
    "\n",
    "credits = credits.drop(columns=['title'])\n",
    "movies = movies.join(credits)\n",
    "\n",
    "movies = movies.sample(frac=1, random_state=1)\n",
    "\n",
    "del credits"
   ]
  },
  {
   "cell_type": "code",
   "execution_count": 5,
   "metadata": {},
   "outputs": [],
   "source": [
    "train = movies.iloc[:4000, :]\n",
    "test = movies.iloc[4000:, :]"
   ]
  },
  {
   "cell_type": "code",
   "execution_count": 6,
   "metadata": {},
   "outputs": [
    {
     "name": "stderr",
     "output_type": "stream",
     "text": [
      "INFO:root:Embedder in [train] mode.\n",
      "INFO:root:Preprocessing 'genres'\n",
      "INFO:root:Encoding 'genres'\n",
      "INFO:root:Preprocessing 'overview'\n",
      "INFO:root:Vectorizing 'overview'...\n",
      "INFO:root:Vectorizing 'overview' took 18.802 s, for a vocabulary size of 5000.\n",
      "INFO:root:Stacking vectorized overview onto encoded 'genres'\n"
     ]
    }
   ],
   "source": [
    "embedder = Embedder()\n",
    "embedder.train(train, vocab_size=5000, embedding_dim=None)"
   ]
  },
  {
   "cell_type": "code",
   "execution_count": 7,
   "metadata": {},
   "outputs": [
    {
     "name": "stderr",
     "output_type": "stream",
     "text": [
      "INFO:root:Embedder in [infer] mode.\n",
      "INFO:root:Preprocessing 'genres'\n",
      "INFO:root:Encoding 'genres'\n",
      "INFO:root:Preprocessing 'overview'\n",
      "INFO:root:Vectorizing 'overview'...\n",
      "INFO:root:Vectorizing 'overview' took 19.225 s, for a vocabulary size of 5000.\n",
      "INFO:root:Stacking vectorized overview onto encoded 'genres'\n"
     ]
    }
   ],
   "source": [
    "embeddings, ids = embedder.embed(movies, save_path=None)"
   ]
  },
  {
   "cell_type": "code",
   "execution_count": 8,
   "metadata": {},
   "outputs": [],
   "source": [
    "rec = Recommender(embeddings, ids)"
   ]
  },
  {
   "cell_type": "code",
   "execution_count": 9,
   "metadata": {},
   "outputs": [
    {
     "data": {
      "text/plain": [
       "False"
      ]
     },
     "execution_count": 9,
     "metadata": {},
     "output_type": "execute_result"
    }
   ],
   "source": [
    "674 in train.index      # Harry Potter and the Goblet of Fire"
   ]
  },
  {
   "cell_type": "code",
   "execution_count": 10,
   "metadata": {},
   "outputs": [
    {
     "name": "stdout",
     "output_type": "stream",
     "text": [
      "Top 10 similar movies to \"Harry Potter and the Goblet of Fire\":\n",
      "* Harry Potter and the Prisoner of Azkaban\n",
      "* Harry Potter and the Chamber of Secrets\n",
      "* Harry Potter and the Half-Blood Prince\n",
      "* Harry Potter and the Philosopher's Stone\n",
      "* Percy Jackson: Sea of Monsters\n",
      "* The Chronicles of Narnia: Prince Caspian\n",
      "* Oz: The Great and Powerful\n",
      "* Inkheart\n",
      "* Harry Potter and the Order of the Phoenix\n",
      "* City of Ember\n"
     ]
    }
   ],
   "source": [
    "rec.recommend_pprint(674, movies['title'])"
   ]
  },
  {
   "attachments": {},
   "cell_type": "markdown",
   "metadata": {},
   "source": [
    "Seems to generalize pretty well!"
   ]
  },
  {
   "cell_type": "code",
   "execution_count": 11,
   "metadata": {},
   "outputs": [
    {
     "data": {
      "text/plain": [
       "False"
      ]
     },
     "execution_count": 11,
     "metadata": {},
     "output_type": "execute_result"
    }
   ],
   "source": [
    "10193 in train.index    # Toy Story 3"
   ]
  },
  {
   "cell_type": "code",
   "execution_count": 12,
   "metadata": {},
   "outputs": [
    {
     "name": "stdout",
     "output_type": "stream",
     "text": [
      "Top 10 similar movies to \"Toy Story 3\":\n",
      "* Toy Story\n",
      "* Toy Story 2\n",
      "* The Simpsons Movie\n",
      "* Chicken Little\n",
      "* Hop\n",
      "* Looney Tunes: Back in Action\n",
      "* Monsters, Inc.\n",
      "* Cloudy with a Chance of Meatballs 2\n",
      "* Hotel Transylvania 2\n",
      "* Chicken Run\n"
     ]
    }
   ],
   "source": [
    "rec.recommend_pprint(10193, movies['title'])"
   ]
  },
  {
   "attachments": {},
   "cell_type": "markdown",
   "metadata": {},
   "source": [
    "## Was sparsifying worth it?"
   ]
  },
  {
   "cell_type": "code",
   "execution_count": 13,
   "metadata": {},
   "outputs": [
    {
     "data": {
      "text/plain": [
       "<4803x5020 sparse matrix of type '<class 'numpy.float64'>'\n",
       "\twith 111031 stored elements in Compressed Sparse Row format>"
      ]
     },
     "execution_count": 13,
     "metadata": {},
     "output_type": "execute_result"
    }
   ],
   "source": [
    "embeddings"
   ]
  },
  {
   "cell_type": "code",
   "execution_count": 14,
   "metadata": {},
   "outputs": [
    {
     "data": {
      "text/plain": [
       "24111060"
      ]
     },
     "execution_count": 14,
     "metadata": {},
     "output_type": "execute_result"
    }
   ],
   "source": [
    "np.prod(embeddings.shape)"
   ]
  },
  {
   "cell_type": "code",
   "execution_count": 15,
   "metadata": {},
   "outputs": [
    {
     "data": {
      "text/plain": [
       "111031"
      ]
     },
     "execution_count": 15,
     "metadata": {},
     "output_type": "execute_result"
    }
   ],
   "source": [
    "embeddings.nnz"
   ]
  },
  {
   "cell_type": "code",
   "execution_count": 16,
   "metadata": {},
   "outputs": [
    {
     "name": "stdout",
     "output_type": "stream",
     "text": [
      "Density = 0.4605%\n"
     ]
    }
   ],
   "source": [
    "print(f'Density = {np.round((embeddings.nnz / np.prod(embeddings.shape)) * 100, 4)}%')"
   ]
  },
  {
   "attachments": {},
   "cell_type": "markdown",
   "metadata": {},
   "source": [
    "While SVD (applied later) can increase density, it is still beneficial to\n",
    "sparsify the data since the intermediate steps involved in the process can\n",
    "result in large matrices that occupy space, unless they are sparsified."
   ]
  }
 ],
 "metadata": {
  "kernelspec": {
   "display_name": "venv",
   "language": "python",
   "name": "python3"
  },
  "language_info": {
   "codemirror_mode": {
    "name": "ipython",
    "version": 3
   },
   "file_extension": ".py",
   "mimetype": "text/x-python",
   "name": "python",
   "nbconvert_exporter": "python",
   "pygments_lexer": "ipython3",
   "version": "3.7.12"
  },
  "orig_nbformat": 4
 },
 "nbformat": 4,
 "nbformat_minor": 2
}
