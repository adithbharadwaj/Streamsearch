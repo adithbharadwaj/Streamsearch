{
 "cells": [
  {
   "attachments": {},
   "cell_type": "markdown",
   "metadata": {},
   "source": [
    "Generates train (in-sample) and test (out-of-sample) embeddings using TF-IDF\n",
    "trained on top $10,000$ movies, performs SVD to reduce dimension to $128$."
   ]
  },
  {
   "cell_type": "code",
   "execution_count": 1,
   "metadata": {},
   "outputs": [],
   "source": [
    "import logging\n",
    "import os\n",
    "import sys\n",
    "\n",
    "import pandas as pd"
   ]
  },
  {
   "cell_type": "code",
   "execution_count": 2,
   "metadata": {},
   "outputs": [],
   "source": [
    "sys.path.append(os.path.join('..'))\n",
    "from recommender.model import Embedder, Recommender"
   ]
  },
  {
   "cell_type": "code",
   "execution_count": 3,
   "metadata": {},
   "outputs": [],
   "source": [
    "logging.basicConfig(level=logging.INFO)"
   ]
  },
  {
   "cell_type": "code",
   "execution_count": 4,
   "metadata": {},
   "outputs": [],
   "source": [
    "medias = pd.read_csv(os.path.join('data', 'movies.csv'), index_col='id')\n",
    "medias = medias.sort_values(by='popularity', ascending=False)"
   ]
  },
  {
   "cell_type": "code",
   "execution_count": 5,
   "metadata": {},
   "outputs": [],
   "source": [
    "TOP_N = 10000\n",
    "\n",
    "train = medias.iloc[:TOP_N, :]\n",
    "test = medias.iloc[TOP_N:, :]"
   ]
  },
  {
   "cell_type": "code",
   "execution_count": 6,
   "metadata": {},
   "outputs": [],
   "source": [
    "MODEL_PATH = os.path.join('embeddings', 'movie', '10k-128')"
   ]
  },
  {
   "cell_type": "code",
   "execution_count": 7,
   "metadata": {},
   "outputs": [
    {
     "name": "stderr",
     "output_type": "stream",
     "text": [
      "INFO:root:Embedder in [train] mode.\n",
      "INFO:root:Preprocessing 'genres'\n",
      "INFO:root:Encoding 'genres'\n",
      "INFO:root:Preprocessing 'overview'\n",
      "INFO:root:Vectorizing 'overview'...\n",
      "INFO:root:Vectorizing 'overview' took 42.7681 s, for a vocabulary size of 5000.\n",
      "INFO:root:Stacking vectorized overview onto encoded 'genres'\n",
      "INFO:root:Reducing dimension to 128...\n",
      "INFO:root:Dimensionality reduction took 2 s.\n"
     ]
    }
   ],
   "source": [
    "# %%script false --no-raise-error\n",
    "\n",
    "embedder = Embedder()\n",
    "embedder.train(train, vocab_size=5000, embedding_dim=128)\n",
    "embedder.save(MODEL_PATH)"
   ]
  },
  {
   "cell_type": "code",
   "execution_count": 8,
   "metadata": {},
   "outputs": [
    {
     "name": "stderr",
     "output_type": "stream",
     "text": [
      "INFO:root:Embedder in [infer] mode.\n",
      "INFO:root:Preprocessing 'genres'\n"
     ]
    },
    {
     "name": "stdout",
     "output_type": "stream",
     "text": [
      "BATCH 1/90\n",
      "\n"
     ]
    },
    {
     "name": "stderr",
     "output_type": "stream",
     "text": [
      "INFO:root:Encoding 'genres'\n",
      "INFO:root:Preprocessing 'overview'\n",
      "INFO:root:Vectorizing 'overview'...\n",
      "INFO:root:Vectorizing 'overview' took 36.0086 s, for a vocabulary size of 5000.\n",
      "INFO:root:Stacking vectorized overview onto encoded 'genres'\n",
      "INFO:root:Reducing dimension to 128...\n",
      "INFO:root:Dimensionality reduction took 0 s.\n",
      "INFO:root:Sparsifying embeddings...\n",
      "INFO:root:Sparsifying embeddings took 0 s.\n",
      "INFO:root:Saving embeddings to \"embeddings/movie/10k-128/embeddings-1.npz\"\n",
      "INFO:root:Embedder in [infer] mode.\n",
      "INFO:root:Preprocessing 'genres'\n"
     ]
    },
    {
     "name": "stdout",
     "output_type": "stream",
     "text": [
      "––––––––––––––––––––––––––––––––––––––––––––––––––––––––––––––––––––––––––––––––\n",
      "BATCH 2/90\n",
      "\n"
     ]
    },
    {
     "name": "stderr",
     "output_type": "stream",
     "text": [
      "INFO:root:Encoding 'genres'\n",
      "INFO:root:Preprocessing 'overview'\n",
      "INFO:root:Vectorizing 'overview'...\n",
      "INFO:root:Vectorizing 'overview' took 44.9388 s, for a vocabulary size of 5000.\n",
      "INFO:root:Stacking vectorized overview onto encoded 'genres'\n",
      "INFO:root:Reducing dimension to 128...\n",
      "INFO:root:Dimensionality reduction took 0 s.\n",
      "INFO:root:Sparsifying embeddings...\n",
      "INFO:root:Sparsifying embeddings took 0 s.\n",
      "INFO:root:Saving embeddings to \"embeddings/movie/10k-128/embeddings-2.npz\"\n",
      "INFO:root:Embedder in [infer] mode.\n",
      "INFO:root:Preprocessing 'genres'\n"
     ]
    },
    {
     "name": "stdout",
     "output_type": "stream",
     "text": [
      "––––––––––––––––––––––––––––––––––––––––––––––––––––––––––––––––––––––––––––––––\n",
      "BATCH 3/90\n",
      "\n"
     ]
    },
    {
     "name": "stderr",
     "output_type": "stream",
     "text": [
      "INFO:root:Encoding 'genres'\n",
      "INFO:root:Preprocessing 'overview'\n",
      "INFO:root:Vectorizing 'overview'...\n",
      "INFO:root:Vectorizing 'overview' took 35.2454 s, for a vocabulary size of 5000.\n",
      "INFO:root:Stacking vectorized overview onto encoded 'genres'\n",
      "INFO:root:Reducing dimension to 128...\n",
      "INFO:root:Dimensionality reduction took 0 s.\n",
      "INFO:root:Sparsifying embeddings...\n",
      "INFO:root:Sparsifying embeddings took 0 s.\n",
      "INFO:root:Saving embeddings to \"embeddings/movie/10k-128/embeddings-3.npz\"\n",
      "INFO:root:Embedder in [infer] mode.\n",
      "INFO:root:Preprocessing 'genres'\n"
     ]
    },
    {
     "name": "stdout",
     "output_type": "stream",
     "text": [
      "––––––––––––––––––––––––––––––––––––––––––––––––––––––––––––––––––––––––––––––––\n",
      "BATCH 4/90\n",
      "\n"
     ]
    },
    {
     "name": "stderr",
     "output_type": "stream",
     "text": [
      "INFO:root:Encoding 'genres'\n",
      "INFO:root:Preprocessing 'overview'\n",
      "INFO:root:Vectorizing 'overview'...\n",
      "INFO:root:Vectorizing 'overview' took 35.5757 s, for a vocabulary size of 5000.\n",
      "INFO:root:Stacking vectorized overview onto encoded 'genres'\n",
      "INFO:root:Reducing dimension to 128...\n",
      "INFO:root:Dimensionality reduction took 0 s.\n",
      "INFO:root:Sparsifying embeddings...\n",
      "INFO:root:Sparsifying embeddings took 0 s.\n",
      "INFO:root:Saving embeddings to \"embeddings/movie/10k-128/embeddings-4.npz\"\n",
      "INFO:root:Embedder in [infer] mode.\n",
      "INFO:root:Preprocessing 'genres'\n"
     ]
    },
    {
     "name": "stdout",
     "output_type": "stream",
     "text": [
      "––––––––––––––––––––––––––––––––––––––––––––––––––––––––––––––––––––––––––––––––\n",
      "BATCH 5/90\n",
      "\n"
     ]
    },
    {
     "name": "stderr",
     "output_type": "stream",
     "text": [
      "INFO:root:Encoding 'genres'\n",
      "INFO:root:Preprocessing 'overview'\n",
      "INFO:root:Vectorizing 'overview'...\n",
      "INFO:root:Vectorizing 'overview' took 36.511 s, for a vocabulary size of 5000.\n",
      "INFO:root:Stacking vectorized overview onto encoded 'genres'\n",
      "INFO:root:Reducing dimension to 128...\n",
      "INFO:root:Dimensionality reduction took 0 s.\n",
      "INFO:root:Sparsifying embeddings...\n",
      "INFO:root:Sparsifying embeddings took 0 s.\n",
      "INFO:root:Saving embeddings to \"embeddings/movie/10k-128/embeddings-5.npz\"\n",
      "INFO:root:Embedder in [infer] mode.\n",
      "INFO:root:Preprocessing 'genres'\n"
     ]
    },
    {
     "name": "stdout",
     "output_type": "stream",
     "text": [
      "––––––––––––––––––––––––––––––––––––––––––––––––––––––––––––––––––––––––––––––––\n",
      "BATCH 6/90\n",
      "\n"
     ]
    },
    {
     "name": "stderr",
     "output_type": "stream",
     "text": [
      "INFO:root:Encoding 'genres'\n",
      "INFO:root:Preprocessing 'overview'\n",
      "INFO:root:Vectorizing 'overview'...\n",
      "INFO:root:Vectorizing 'overview' took 35.9887 s, for a vocabulary size of 5000.\n",
      "INFO:root:Stacking vectorized overview onto encoded 'genres'\n",
      "INFO:root:Reducing dimension to 128...\n",
      "INFO:root:Dimensionality reduction took 0 s.\n",
      "INFO:root:Sparsifying embeddings...\n",
      "INFO:root:Sparsifying embeddings took 0 s.\n",
      "INFO:root:Saving embeddings to \"embeddings/movie/10k-128/embeddings-6.npz\"\n",
      "INFO:root:Embedder in [infer] mode.\n",
      "INFO:root:Preprocessing 'genres'\n"
     ]
    },
    {
     "name": "stdout",
     "output_type": "stream",
     "text": [
      "––––––––––––––––––––––––––––––––––––––––––––––––––––––––––––––––––––––––––––––––\n",
      "BATCH 7/90\n",
      "\n"
     ]
    },
    {
     "name": "stderr",
     "output_type": "stream",
     "text": [
      "INFO:root:Encoding 'genres'\n",
      "INFO:root:Preprocessing 'overview'\n",
      "INFO:root:Vectorizing 'overview'...\n",
      "INFO:root:Vectorizing 'overview' took 37.6228 s, for a vocabulary size of 5000.\n",
      "INFO:root:Stacking vectorized overview onto encoded 'genres'\n",
      "INFO:root:Reducing dimension to 128...\n",
      "INFO:root:Dimensionality reduction took 0 s.\n",
      "INFO:root:Sparsifying embeddings...\n",
      "INFO:root:Sparsifying embeddings took 0 s.\n",
      "INFO:root:Saving embeddings to \"embeddings/movie/10k-128/embeddings-7.npz\"\n",
      "INFO:root:Embedder in [infer] mode.\n",
      "INFO:root:Preprocessing 'genres'\n"
     ]
    },
    {
     "name": "stdout",
     "output_type": "stream",
     "text": [
      "––––––––––––––––––––––––––––––––––––––––––––––––––––––––––––––––––––––––––––––––\n",
      "BATCH 8/90\n",
      "\n"
     ]
    },
    {
     "name": "stderr",
     "output_type": "stream",
     "text": [
      "INFO:root:Encoding 'genres'\n",
      "INFO:root:Preprocessing 'overview'\n",
      "INFO:root:Vectorizing 'overview'...\n",
      "INFO:root:Vectorizing 'overview' took 37.8233 s, for a vocabulary size of 5000.\n",
      "INFO:root:Stacking vectorized overview onto encoded 'genres'\n",
      "INFO:root:Reducing dimension to 128...\n",
      "INFO:root:Dimensionality reduction took 0 s.\n",
      "INFO:root:Sparsifying embeddings...\n",
      "INFO:root:Sparsifying embeddings took 0 s.\n",
      "INFO:root:Saving embeddings to \"embeddings/movie/10k-128/embeddings-8.npz\"\n",
      "INFO:root:Embedder in [infer] mode.\n",
      "INFO:root:Preprocessing 'genres'\n"
     ]
    },
    {
     "name": "stdout",
     "output_type": "stream",
     "text": [
      "––––––––––––––––––––––––––––––––––––––––––––––––––––––––––––––––––––––––––––––––\n",
      "BATCH 9/90\n",
      "\n"
     ]
    },
    {
     "name": "stderr",
     "output_type": "stream",
     "text": [
      "INFO:root:Encoding 'genres'\n",
      "INFO:root:Preprocessing 'overview'\n",
      "INFO:root:Vectorizing 'overview'...\n",
      "INFO:root:Vectorizing 'overview' took 37.8556 s, for a vocabulary size of 5000.\n",
      "INFO:root:Stacking vectorized overview onto encoded 'genres'\n",
      "INFO:root:Reducing dimension to 128...\n",
      "INFO:root:Dimensionality reduction took 0 s.\n",
      "INFO:root:Sparsifying embeddings...\n",
      "INFO:root:Sparsifying embeddings took 0 s.\n",
      "INFO:root:Saving embeddings to \"embeddings/movie/10k-128/embeddings-9.npz\"\n",
      "INFO:root:Embedder in [infer] mode.\n",
      "INFO:root:Preprocessing 'genres'\n"
     ]
    },
    {
     "name": "stdout",
     "output_type": "stream",
     "text": [
      "––––––––––––––––––––––––––––––––––––––––––––––––––––––––––––––––––––––––––––––––\n",
      "BATCH 10/90\n",
      "\n"
     ]
    },
    {
     "name": "stderr",
     "output_type": "stream",
     "text": [
      "INFO:root:Encoding 'genres'\n",
      "INFO:root:Preprocessing 'overview'\n",
      "INFO:root:Vectorizing 'overview'...\n",
      "INFO:root:Vectorizing 'overview' took 47.5352 s, for a vocabulary size of 5000.\n",
      "INFO:root:Stacking vectorized overview onto encoded 'genres'\n",
      "INFO:root:Reducing dimension to 128...\n",
      "INFO:root:Dimensionality reduction took 0 s.\n",
      "INFO:root:Sparsifying embeddings...\n",
      "INFO:root:Sparsifying embeddings took 0 s.\n",
      "INFO:root:Saving embeddings to \"embeddings/movie/10k-128/embeddings-10.npz\"\n",
      "INFO:root:Embedder in [infer] mode.\n",
      "INFO:root:Preprocessing 'genres'\n"
     ]
    },
    {
     "name": "stdout",
     "output_type": "stream",
     "text": [
      "––––––––––––––––––––––––––––––––––––––––––––––––––––––––––––––––––––––––––––––––\n",
      "BATCH 11/90\n",
      "\n"
     ]
    },
    {
     "name": "stderr",
     "output_type": "stream",
     "text": [
      "INFO:root:Encoding 'genres'\n",
      "INFO:root:Preprocessing 'overview'\n",
      "INFO:root:Vectorizing 'overview'...\n",
      "INFO:root:Vectorizing 'overview' took 38.8048 s, for a vocabulary size of 5000.\n",
      "INFO:root:Stacking vectorized overview onto encoded 'genres'\n",
      "INFO:root:Reducing dimension to 128...\n",
      "INFO:root:Dimensionality reduction took 0 s.\n",
      "INFO:root:Sparsifying embeddings...\n",
      "INFO:root:Sparsifying embeddings took 0 s.\n",
      "INFO:root:Saving embeddings to \"embeddings/movie/10k-128/embeddings-11.npz\"\n",
      "INFO:root:Embedder in [infer] mode.\n",
      "INFO:root:Preprocessing 'genres'\n"
     ]
    },
    {
     "name": "stdout",
     "output_type": "stream",
     "text": [
      "––––––––––––––––––––––––––––––––––––––––––––––––––––––––––––––––––––––––––––––––\n",
      "BATCH 12/90\n",
      "\n"
     ]
    },
    {
     "name": "stderr",
     "output_type": "stream",
     "text": [
      "INFO:root:Encoding 'genres'\n",
      "INFO:root:Preprocessing 'overview'\n",
      "INFO:root:Vectorizing 'overview'...\n",
      "INFO:root:Vectorizing 'overview' took 37.5955 s, for a vocabulary size of 5000.\n",
      "INFO:root:Stacking vectorized overview onto encoded 'genres'\n",
      "INFO:root:Reducing dimension to 128...\n",
      "INFO:root:Dimensionality reduction took 0 s.\n",
      "INFO:root:Sparsifying embeddings...\n",
      "INFO:root:Sparsifying embeddings took 0 s.\n",
      "INFO:root:Saving embeddings to \"embeddings/movie/10k-128/embeddings-12.npz\"\n",
      "INFO:root:Embedder in [infer] mode.\n",
      "INFO:root:Preprocessing 'genres'\n"
     ]
    },
    {
     "name": "stdout",
     "output_type": "stream",
     "text": [
      "––––––––––––––––––––––––––––––––––––––––––––––––––––––––––––––––––––––––––––––––\n",
      "BATCH 13/90\n",
      "\n"
     ]
    },
    {
     "name": "stderr",
     "output_type": "stream",
     "text": [
      "INFO:root:Encoding 'genres'\n",
      "INFO:root:Preprocessing 'overview'\n",
      "INFO:root:Vectorizing 'overview'...\n",
      "INFO:root:Vectorizing 'overview' took 44.0121 s, for a vocabulary size of 5000.\n",
      "INFO:root:Stacking vectorized overview onto encoded 'genres'\n",
      "INFO:root:Reducing dimension to 128...\n",
      "INFO:root:Dimensionality reduction took 0 s.\n",
      "INFO:root:Sparsifying embeddings...\n",
      "INFO:root:Sparsifying embeddings took 0 s.\n",
      "INFO:root:Saving embeddings to \"embeddings/movie/10k-128/embeddings-13.npz\"\n",
      "INFO:root:Embedder in [infer] mode.\n",
      "INFO:root:Preprocessing 'genres'\n"
     ]
    },
    {
     "name": "stdout",
     "output_type": "stream",
     "text": [
      "––––––––––––––––––––––––––––––––––––––––––––––––––––––––––––––––––––––––––––––––\n",
      "BATCH 14/90\n",
      "\n"
     ]
    },
    {
     "name": "stderr",
     "output_type": "stream",
     "text": [
      "INFO:root:Encoding 'genres'\n",
      "INFO:root:Preprocessing 'overview'\n",
      "INFO:root:Vectorizing 'overview'...\n",
      "INFO:root:Vectorizing 'overview' took 48.8576 s, for a vocabulary size of 5000.\n",
      "INFO:root:Stacking vectorized overview onto encoded 'genres'\n",
      "INFO:root:Reducing dimension to 128...\n",
      "INFO:root:Dimensionality reduction took 0 s.\n",
      "INFO:root:Sparsifying embeddings...\n",
      "INFO:root:Sparsifying embeddings took 0 s.\n",
      "INFO:root:Saving embeddings to \"embeddings/movie/10k-128/embeddings-14.npz\"\n",
      "INFO:root:Embedder in [infer] mode.\n",
      "INFO:root:Preprocessing 'genres'\n"
     ]
    },
    {
     "name": "stdout",
     "output_type": "stream",
     "text": [
      "––––––––––––––––––––––––––––––––––––––––––––––––––––––––––––––––––––––––––––––––\n",
      "BATCH 15/90\n",
      "\n"
     ]
    },
    {
     "name": "stderr",
     "output_type": "stream",
     "text": [
      "INFO:root:Encoding 'genres'\n",
      "INFO:root:Preprocessing 'overview'\n",
      "INFO:root:Vectorizing 'overview'...\n",
      "INFO:root:Vectorizing 'overview' took 42.0655 s, for a vocabulary size of 5000.\n",
      "INFO:root:Stacking vectorized overview onto encoded 'genres'\n",
      "INFO:root:Reducing dimension to 128...\n",
      "INFO:root:Dimensionality reduction took 0 s.\n",
      "INFO:root:Sparsifying embeddings...\n",
      "INFO:root:Sparsifying embeddings took 0 s.\n",
      "INFO:root:Saving embeddings to \"embeddings/movie/10k-128/embeddings-15.npz\"\n",
      "INFO:root:Embedder in [infer] mode.\n",
      "INFO:root:Preprocessing 'genres'\n"
     ]
    },
    {
     "name": "stdout",
     "output_type": "stream",
     "text": [
      "––––––––––––––––––––––––––––––––––––––––––––––––––––––––––––––––––––––––––––––––\n",
      "BATCH 16/90\n",
      "\n"
     ]
    },
    {
     "name": "stderr",
     "output_type": "stream",
     "text": [
      "INFO:root:Encoding 'genres'\n",
      "INFO:root:Preprocessing 'overview'\n",
      "INFO:root:Vectorizing 'overview'...\n",
      "INFO:root:Vectorizing 'overview' took 37.0032 s, for a vocabulary size of 5000.\n",
      "INFO:root:Stacking vectorized overview onto encoded 'genres'\n",
      "INFO:root:Reducing dimension to 128...\n",
      "INFO:root:Dimensionality reduction took 0 s.\n",
      "INFO:root:Sparsifying embeddings...\n",
      "INFO:root:Sparsifying embeddings took 0 s.\n",
      "INFO:root:Saving embeddings to \"embeddings/movie/10k-128/embeddings-16.npz\"\n",
      "INFO:root:Embedder in [infer] mode.\n",
      "INFO:root:Preprocessing 'genres'\n"
     ]
    },
    {
     "name": "stdout",
     "output_type": "stream",
     "text": [
      "––––––––––––––––––––––––––––––––––––––––––––––––––––––––––––––––––––––––––––––––\n",
      "BATCH 17/90\n",
      "\n"
     ]
    },
    {
     "name": "stderr",
     "output_type": "stream",
     "text": [
      "INFO:root:Encoding 'genres'\n",
      "INFO:root:Preprocessing 'overview'\n",
      "INFO:root:Vectorizing 'overview'...\n",
      "INFO:root:Vectorizing 'overview' took 46.454 s, for a vocabulary size of 5000.\n",
      "INFO:root:Stacking vectorized overview onto encoded 'genres'\n",
      "INFO:root:Reducing dimension to 128...\n",
      "INFO:root:Dimensionality reduction took 0 s.\n",
      "INFO:root:Sparsifying embeddings...\n",
      "INFO:root:Sparsifying embeddings took 0 s.\n",
      "INFO:root:Saving embeddings to \"embeddings/movie/10k-128/embeddings-17.npz\"\n",
      "INFO:root:Embedder in [infer] mode.\n",
      "INFO:root:Preprocessing 'genres'\n"
     ]
    },
    {
     "name": "stdout",
     "output_type": "stream",
     "text": [
      "––––––––––––––––––––––––––––––––––––––––––––––––––––––––––––––––––––––––––––––––\n",
      "BATCH 18/90\n",
      "\n"
     ]
    },
    {
     "name": "stderr",
     "output_type": "stream",
     "text": [
      "INFO:root:Encoding 'genres'\n",
      "INFO:root:Preprocessing 'overview'\n",
      "INFO:root:Vectorizing 'overview'...\n",
      "INFO:root:Vectorizing 'overview' took 36.4627 s, for a vocabulary size of 5000.\n",
      "INFO:root:Stacking vectorized overview onto encoded 'genres'\n",
      "INFO:root:Reducing dimension to 128...\n",
      "INFO:root:Dimensionality reduction took 0 s.\n",
      "INFO:root:Sparsifying embeddings...\n",
      "INFO:root:Sparsifying embeddings took 0 s.\n",
      "INFO:root:Saving embeddings to \"embeddings/movie/10k-128/embeddings-18.npz\"\n",
      "INFO:root:Embedder in [infer] mode.\n",
      "INFO:root:Preprocessing 'genres'\n"
     ]
    },
    {
     "name": "stdout",
     "output_type": "stream",
     "text": [
      "––––––––––––––––––––––––––––––––––––––––––––––––––––––––––––––––––––––––––––––––\n",
      "BATCH 19/90\n",
      "\n"
     ]
    },
    {
     "name": "stderr",
     "output_type": "stream",
     "text": [
      "INFO:root:Encoding 'genres'\n",
      "INFO:root:Preprocessing 'overview'\n",
      "INFO:root:Vectorizing 'overview'...\n",
      "INFO:root:Vectorizing 'overview' took 48.2416 s, for a vocabulary size of 5000.\n",
      "INFO:root:Stacking vectorized overview onto encoded 'genres'\n",
      "INFO:root:Reducing dimension to 128...\n",
      "INFO:root:Dimensionality reduction took 0 s.\n",
      "INFO:root:Sparsifying embeddings...\n",
      "INFO:root:Sparsifying embeddings took 0 s.\n",
      "INFO:root:Saving embeddings to \"embeddings/movie/10k-128/embeddings-19.npz\"\n",
      "INFO:root:Embedder in [infer] mode.\n",
      "INFO:root:Preprocessing 'genres'\n"
     ]
    },
    {
     "name": "stdout",
     "output_type": "stream",
     "text": [
      "––––––––––––––––––––––––––––––––––––––––––––––––––––––––––––––––––––––––––––––––\n",
      "BATCH 20/90\n",
      "\n"
     ]
    },
    {
     "name": "stderr",
     "output_type": "stream",
     "text": [
      "INFO:root:Encoding 'genres'\n",
      "INFO:root:Preprocessing 'overview'\n",
      "INFO:root:Vectorizing 'overview'...\n",
      "INFO:root:Vectorizing 'overview' took 42.221 s, for a vocabulary size of 5000.\n",
      "INFO:root:Stacking vectorized overview onto encoded 'genres'\n",
      "INFO:root:Reducing dimension to 128...\n",
      "INFO:root:Dimensionality reduction took 0 s.\n",
      "INFO:root:Sparsifying embeddings...\n",
      "INFO:root:Sparsifying embeddings took 0 s.\n",
      "INFO:root:Saving embeddings to \"embeddings/movie/10k-128/embeddings-20.npz\"\n",
      "INFO:root:Embedder in [infer] mode.\n",
      "INFO:root:Preprocessing 'genres'\n"
     ]
    },
    {
     "name": "stdout",
     "output_type": "stream",
     "text": [
      "––––––––––––––––––––––––––––––––––––––––––––––––––––––––––––––––––––––––––––––––\n",
      "BATCH 21/90\n",
      "\n"
     ]
    },
    {
     "name": "stderr",
     "output_type": "stream",
     "text": [
      "INFO:root:Encoding 'genres'\n",
      "INFO:root:Preprocessing 'overview'\n",
      "INFO:root:Vectorizing 'overview'...\n",
      "INFO:root:Vectorizing 'overview' took 42.3891 s, for a vocabulary size of 5000.\n",
      "INFO:root:Stacking vectorized overview onto encoded 'genres'\n",
      "INFO:root:Reducing dimension to 128...\n",
      "INFO:root:Dimensionality reduction took 0 s.\n",
      "INFO:root:Sparsifying embeddings...\n",
      "INFO:root:Sparsifying embeddings took 0 s.\n",
      "INFO:root:Saving embeddings to \"embeddings/movie/10k-128/embeddings-21.npz\"\n",
      "INFO:root:Embedder in [infer] mode.\n",
      "INFO:root:Preprocessing 'genres'\n"
     ]
    },
    {
     "name": "stdout",
     "output_type": "stream",
     "text": [
      "––––––––––––––––––––––––––––––––––––––––––––––––––––––––––––––––––––––––––––––––\n",
      "BATCH 22/90\n",
      "\n"
     ]
    },
    {
     "name": "stderr",
     "output_type": "stream",
     "text": [
      "INFO:root:Encoding 'genres'\n",
      "INFO:root:Preprocessing 'overview'\n",
      "INFO:root:Vectorizing 'overview'...\n",
      "INFO:root:Vectorizing 'overview' took 37.2432 s, for a vocabulary size of 5000.\n",
      "INFO:root:Stacking vectorized overview onto encoded 'genres'\n",
      "INFO:root:Reducing dimension to 128...\n",
      "INFO:root:Dimensionality reduction took 0 s.\n",
      "INFO:root:Sparsifying embeddings...\n",
      "INFO:root:Sparsifying embeddings took 0 s.\n",
      "INFO:root:Saving embeddings to \"embeddings/movie/10k-128/embeddings-22.npz\"\n",
      "INFO:root:Embedder in [infer] mode.\n",
      "INFO:root:Preprocessing 'genres'\n"
     ]
    },
    {
     "name": "stdout",
     "output_type": "stream",
     "text": [
      "––––––––––––––––––––––––––––––––––––––––––––––––––––––––––––––––––––––––––––––––\n",
      "BATCH 23/90\n",
      "\n"
     ]
    },
    {
     "name": "stderr",
     "output_type": "stream",
     "text": [
      "INFO:root:Encoding 'genres'\n",
      "INFO:root:Preprocessing 'overview'\n",
      "INFO:root:Vectorizing 'overview'...\n",
      "INFO:root:Vectorizing 'overview' took 43.8233 s, for a vocabulary size of 5000.\n",
      "INFO:root:Stacking vectorized overview onto encoded 'genres'\n",
      "INFO:root:Reducing dimension to 128...\n",
      "INFO:root:Dimensionality reduction took 0 s.\n",
      "INFO:root:Sparsifying embeddings...\n",
      "INFO:root:Sparsifying embeddings took 0 s.\n",
      "INFO:root:Saving embeddings to \"embeddings/movie/10k-128/embeddings-23.npz\"\n",
      "INFO:root:Embedder in [infer] mode.\n",
      "INFO:root:Preprocessing 'genres'\n"
     ]
    },
    {
     "name": "stdout",
     "output_type": "stream",
     "text": [
      "––––––––––––––––––––––––––––––––––––––––––––––––––––––––––––––––––––––––––––––––\n",
      "BATCH 24/90\n",
      "\n"
     ]
    },
    {
     "name": "stderr",
     "output_type": "stream",
     "text": [
      "INFO:root:Encoding 'genres'\n",
      "INFO:root:Preprocessing 'overview'\n",
      "INFO:root:Vectorizing 'overview'...\n",
      "INFO:root:Vectorizing 'overview' took 35.5085 s, for a vocabulary size of 5000.\n",
      "INFO:root:Stacking vectorized overview onto encoded 'genres'\n",
      "INFO:root:Reducing dimension to 128...\n",
      "INFO:root:Dimensionality reduction took 0 s.\n",
      "INFO:root:Sparsifying embeddings...\n",
      "INFO:root:Sparsifying embeddings took 0 s.\n",
      "INFO:root:Saving embeddings to \"embeddings/movie/10k-128/embeddings-24.npz\"\n",
      "INFO:root:Embedder in [infer] mode.\n",
      "INFO:root:Preprocessing 'genres'\n"
     ]
    },
    {
     "name": "stdout",
     "output_type": "stream",
     "text": [
      "––––––––––––––––––––––––––––––––––––––––––––––––––––––––––––––––––––––––––––––––\n",
      "BATCH 25/90\n",
      "\n"
     ]
    },
    {
     "name": "stderr",
     "output_type": "stream",
     "text": [
      "INFO:root:Encoding 'genres'\n",
      "INFO:root:Preprocessing 'overview'\n",
      "INFO:root:Vectorizing 'overview'...\n",
      "INFO:root:Vectorizing 'overview' took 31.5294 s, for a vocabulary size of 5000.\n",
      "INFO:root:Stacking vectorized overview onto encoded 'genres'\n",
      "INFO:root:Reducing dimension to 128...\n",
      "INFO:root:Dimensionality reduction took 0 s.\n",
      "INFO:root:Sparsifying embeddings...\n",
      "INFO:root:Sparsifying embeddings took 0 s.\n",
      "INFO:root:Saving embeddings to \"embeddings/movie/10k-128/embeddings-25.npz\"\n",
      "INFO:root:Embedder in [infer] mode.\n",
      "INFO:root:Preprocessing 'genres'\n"
     ]
    },
    {
     "name": "stdout",
     "output_type": "stream",
     "text": [
      "––––––––––––––––––––––––––––––––––––––––––––––––––––––––––––––––––––––––––––––––\n",
      "BATCH 26/90\n",
      "\n"
     ]
    },
    {
     "name": "stderr",
     "output_type": "stream",
     "text": [
      "INFO:root:Encoding 'genres'\n",
      "INFO:root:Preprocessing 'overview'\n",
      "INFO:root:Vectorizing 'overview'...\n",
      "INFO:root:Vectorizing 'overview' took 28.5137 s, for a vocabulary size of 5000.\n",
      "INFO:root:Stacking vectorized overview onto encoded 'genres'\n",
      "INFO:root:Reducing dimension to 128...\n",
      "INFO:root:Dimensionality reduction took 0 s.\n",
      "INFO:root:Sparsifying embeddings...\n",
      "INFO:root:Sparsifying embeddings took 0 s.\n",
      "INFO:root:Saving embeddings to \"embeddings/movie/10k-128/embeddings-26.npz\"\n",
      "INFO:root:Embedder in [infer] mode.\n"
     ]
    },
    {
     "name": "stdout",
     "output_type": "stream",
     "text": [
      "––––––––––––––––––––––––––––––––––––––––––––––––––––––––––––––––––––––––––––––––\n",
      "BATCH 27/90\n",
      "\n"
     ]
    },
    {
     "name": "stderr",
     "output_type": "stream",
     "text": [
      "INFO:root:Preprocessing 'genres'\n",
      "INFO:root:Encoding 'genres'\n",
      "INFO:root:Preprocessing 'overview'\n",
      "INFO:root:Vectorizing 'overview'...\n",
      "INFO:root:Vectorizing 'overview' took 29.1312 s, for a vocabulary size of 5000.\n",
      "INFO:root:Stacking vectorized overview onto encoded 'genres'\n",
      "INFO:root:Reducing dimension to 128...\n",
      "INFO:root:Dimensionality reduction took 0 s.\n",
      "INFO:root:Sparsifying embeddings...\n",
      "INFO:root:Sparsifying embeddings took 0 s.\n",
      "INFO:root:Saving embeddings to \"embeddings/movie/10k-128/embeddings-27.npz\"\n",
      "INFO:root:Embedder in [infer] mode.\n",
      "INFO:root:Preprocessing 'genres'\n"
     ]
    },
    {
     "name": "stdout",
     "output_type": "stream",
     "text": [
      "––––––––––––––––––––––––––––––––––––––––––––––––––––––––––––––––––––––––––––––––\n",
      "BATCH 28/90\n",
      "\n"
     ]
    },
    {
     "name": "stderr",
     "output_type": "stream",
     "text": [
      "INFO:root:Encoding 'genres'\n",
      "INFO:root:Preprocessing 'overview'\n",
      "INFO:root:Vectorizing 'overview'...\n",
      "INFO:root:Vectorizing 'overview' took 27.86 s, for a vocabulary size of 5000.\n",
      "INFO:root:Stacking vectorized overview onto encoded 'genres'\n",
      "INFO:root:Reducing dimension to 128...\n",
      "INFO:root:Dimensionality reduction took 0 s.\n",
      "INFO:root:Sparsifying embeddings...\n",
      "INFO:root:Sparsifying embeddings took 0 s.\n",
      "INFO:root:Saving embeddings to \"embeddings/movie/10k-128/embeddings-28.npz\"\n",
      "INFO:root:Embedder in [infer] mode.\n",
      "INFO:root:Preprocessing 'genres'\n"
     ]
    },
    {
     "name": "stdout",
     "output_type": "stream",
     "text": [
      "––––––––––––––––––––––––––––––––––––––––––––––––––––––––––––––––––––––––––––––––\n",
      "BATCH 29/90\n",
      "\n"
     ]
    },
    {
     "name": "stderr",
     "output_type": "stream",
     "text": [
      "INFO:root:Encoding 'genres'\n",
      "INFO:root:Preprocessing 'overview'\n",
      "INFO:root:Vectorizing 'overview'...\n",
      "INFO:root:Vectorizing 'overview' took 22.5615 s, for a vocabulary size of 5000.\n",
      "INFO:root:Stacking vectorized overview onto encoded 'genres'\n",
      "INFO:root:Reducing dimension to 128...\n",
      "INFO:root:Dimensionality reduction took 0 s.\n",
      "INFO:root:Sparsifying embeddings...\n",
      "INFO:root:Sparsifying embeddings took 0 s.\n",
      "INFO:root:Saving embeddings to \"embeddings/movie/10k-128/embeddings-29.npz\"\n",
      "INFO:root:Embedder in [infer] mode.\n",
      "INFO:root:Preprocessing 'genres'\n"
     ]
    },
    {
     "name": "stdout",
     "output_type": "stream",
     "text": [
      "––––––––––––––––––––––––––––––––––––––––––––––––––––––––––––––––––––––––––––––––\n",
      "BATCH 30/90\n",
      "\n"
     ]
    },
    {
     "name": "stderr",
     "output_type": "stream",
     "text": [
      "INFO:root:Encoding 'genres'\n",
      "INFO:root:Preprocessing 'overview'\n",
      "INFO:root:Vectorizing 'overview'...\n",
      "INFO:root:Vectorizing 'overview' took 22.6715 s, for a vocabulary size of 5000.\n",
      "INFO:root:Stacking vectorized overview onto encoded 'genres'\n",
      "INFO:root:Reducing dimension to 128...\n",
      "INFO:root:Dimensionality reduction took 0 s.\n",
      "INFO:root:Sparsifying embeddings...\n",
      "INFO:root:Sparsifying embeddings took 0 s.\n",
      "INFO:root:Saving embeddings to \"embeddings/movie/10k-128/embeddings-30.npz\"\n",
      "INFO:root:Embedder in [infer] mode.\n",
      "INFO:root:Preprocessing 'genres'\n"
     ]
    },
    {
     "name": "stdout",
     "output_type": "stream",
     "text": [
      "––––––––––––––––––––––––––––––––––––––––––––––––––––––––––––––––––––––––––––––––\n",
      "BATCH 31/90\n",
      "\n"
     ]
    },
    {
     "name": "stderr",
     "output_type": "stream",
     "text": [
      "INFO:root:Encoding 'genres'\n",
      "INFO:root:Preprocessing 'overview'\n",
      "INFO:root:Vectorizing 'overview'...\n",
      "INFO:root:Vectorizing 'overview' took 20.9263 s, for a vocabulary size of 5000.\n",
      "INFO:root:Stacking vectorized overview onto encoded 'genres'\n",
      "INFO:root:Reducing dimension to 128...\n",
      "INFO:root:Dimensionality reduction took 0 s.\n",
      "INFO:root:Sparsifying embeddings...\n",
      "INFO:root:Sparsifying embeddings took 0 s.\n",
      "INFO:root:Saving embeddings to \"embeddings/movie/10k-128/embeddings-31.npz\"\n",
      "INFO:root:Embedder in [infer] mode.\n",
      "INFO:root:Preprocessing 'genres'\n"
     ]
    },
    {
     "name": "stdout",
     "output_type": "stream",
     "text": [
      "––––––––––––––––––––––––––––––––––––––––––––––––––––––––––––––––––––––––––––––––\n",
      "BATCH 32/90\n",
      "\n"
     ]
    },
    {
     "name": "stderr",
     "output_type": "stream",
     "text": [
      "INFO:root:Encoding 'genres'\n",
      "INFO:root:Preprocessing 'overview'\n",
      "INFO:root:Vectorizing 'overview'...\n",
      "INFO:root:Vectorizing 'overview' took 23.396 s, for a vocabulary size of 5000.\n",
      "INFO:root:Stacking vectorized overview onto encoded 'genres'\n",
      "INFO:root:Reducing dimension to 128...\n",
      "INFO:root:Dimensionality reduction took 0 s.\n",
      "INFO:root:Sparsifying embeddings...\n",
      "INFO:root:Sparsifying embeddings took 0 s.\n",
      "INFO:root:Saving embeddings to \"embeddings/movie/10k-128/embeddings-32.npz\"\n",
      "INFO:root:Embedder in [infer] mode.\n",
      "INFO:root:Preprocessing 'genres'\n"
     ]
    },
    {
     "name": "stdout",
     "output_type": "stream",
     "text": [
      "––––––––––––––––––––––––––––––––––––––––––––––––––––––––––––––––––––––––––––––––\n",
      "BATCH 33/90\n",
      "\n"
     ]
    },
    {
     "name": "stderr",
     "output_type": "stream",
     "text": [
      "INFO:root:Encoding 'genres'\n",
      "INFO:root:Preprocessing 'overview'\n",
      "INFO:root:Vectorizing 'overview'...\n",
      "INFO:root:Vectorizing 'overview' took 21.9109 s, for a vocabulary size of 5000.\n",
      "INFO:root:Stacking vectorized overview onto encoded 'genres'\n",
      "INFO:root:Reducing dimension to 128...\n",
      "INFO:root:Dimensionality reduction took 0 s.\n",
      "INFO:root:Sparsifying embeddings...\n",
      "INFO:root:Sparsifying embeddings took 0 s.\n",
      "INFO:root:Saving embeddings to \"embeddings/movie/10k-128/embeddings-33.npz\"\n",
      "INFO:root:Embedder in [infer] mode.\n",
      "INFO:root:Preprocessing 'genres'\n"
     ]
    },
    {
     "name": "stdout",
     "output_type": "stream",
     "text": [
      "––––––––––––––––––––––––––––––––––––––––––––––––––––––––––––––––––––––––––––––––\n",
      "BATCH 34/90\n",
      "\n"
     ]
    },
    {
     "name": "stderr",
     "output_type": "stream",
     "text": [
      "INFO:root:Encoding 'genres'\n",
      "INFO:root:Preprocessing 'overview'\n",
      "INFO:root:Vectorizing 'overview'...\n",
      "INFO:root:Vectorizing 'overview' took 22.2276 s, for a vocabulary size of 5000.\n",
      "INFO:root:Stacking vectorized overview onto encoded 'genres'\n",
      "INFO:root:Reducing dimension to 128...\n",
      "INFO:root:Dimensionality reduction took 0 s.\n",
      "INFO:root:Sparsifying embeddings...\n",
      "INFO:root:Sparsifying embeddings took 0 s.\n",
      "INFO:root:Saving embeddings to \"embeddings/movie/10k-128/embeddings-34.npz\"\n",
      "INFO:root:Embedder in [infer] mode.\n",
      "INFO:root:Preprocessing 'genres'\n"
     ]
    },
    {
     "name": "stdout",
     "output_type": "stream",
     "text": [
      "––––––––––––––––––––––––––––––––––––––––––––––––––––––––––––––––––––––––––––––––\n",
      "BATCH 35/90\n",
      "\n"
     ]
    },
    {
     "name": "stderr",
     "output_type": "stream",
     "text": [
      "INFO:root:Encoding 'genres'\n",
      "INFO:root:Preprocessing 'overview'\n",
      "INFO:root:Vectorizing 'overview'...\n",
      "INFO:root:Vectorizing 'overview' took 23.2263 s, for a vocabulary size of 5000.\n",
      "INFO:root:Stacking vectorized overview onto encoded 'genres'\n",
      "INFO:root:Reducing dimension to 128...\n",
      "INFO:root:Dimensionality reduction took 0 s.\n",
      "INFO:root:Sparsifying embeddings...\n",
      "INFO:root:Sparsifying embeddings took 0 s.\n",
      "INFO:root:Saving embeddings to \"embeddings/movie/10k-128/embeddings-35.npz\"\n",
      "INFO:root:Embedder in [infer] mode.\n",
      "INFO:root:Preprocessing 'genres'\n"
     ]
    },
    {
     "name": "stdout",
     "output_type": "stream",
     "text": [
      "––––––––––––––––––––––––––––––––––––––––––––––––––––––––––––––––––––––––––––––––\n",
      "BATCH 36/90\n",
      "\n"
     ]
    },
    {
     "name": "stderr",
     "output_type": "stream",
     "text": [
      "INFO:root:Encoding 'genres'\n",
      "INFO:root:Preprocessing 'overview'\n",
      "INFO:root:Vectorizing 'overview'...\n",
      "INFO:root:Vectorizing 'overview' took 23.276 s, for a vocabulary size of 5000.\n",
      "INFO:root:Stacking vectorized overview onto encoded 'genres'\n",
      "INFO:root:Reducing dimension to 128...\n",
      "INFO:root:Dimensionality reduction took 0 s.\n",
      "INFO:root:Sparsifying embeddings...\n",
      "INFO:root:Sparsifying embeddings took 0 s.\n",
      "INFO:root:Saving embeddings to \"embeddings/movie/10k-128/embeddings-36.npz\"\n",
      "INFO:root:Embedder in [infer] mode.\n",
      "INFO:root:Preprocessing 'genres'\n"
     ]
    },
    {
     "name": "stdout",
     "output_type": "stream",
     "text": [
      "––––––––––––––––––––––––––––––––––––––––––––––––––––––––––––––––––––––––––––––––\n",
      "BATCH 37/90\n",
      "\n"
     ]
    },
    {
     "name": "stderr",
     "output_type": "stream",
     "text": [
      "INFO:root:Encoding 'genres'\n",
      "INFO:root:Preprocessing 'overview'\n",
      "INFO:root:Vectorizing 'overview'...\n",
      "INFO:root:Vectorizing 'overview' took 24.4725 s, for a vocabulary size of 5000.\n",
      "INFO:root:Stacking vectorized overview onto encoded 'genres'\n",
      "INFO:root:Reducing dimension to 128...\n",
      "INFO:root:Dimensionality reduction took 0 s.\n",
      "INFO:root:Sparsifying embeddings...\n",
      "INFO:root:Sparsifying embeddings took 0 s.\n",
      "INFO:root:Saving embeddings to \"embeddings/movie/10k-128/embeddings-37.npz\"\n",
      "INFO:root:Embedder in [infer] mode.\n",
      "INFO:root:Preprocessing 'genres'\n"
     ]
    },
    {
     "name": "stdout",
     "output_type": "stream",
     "text": [
      "––––––––––––––––––––––––––––––––––––––––––––––––––––––––––––––––––––––––––––––––\n",
      "BATCH 38/90\n",
      "\n"
     ]
    },
    {
     "name": "stderr",
     "output_type": "stream",
     "text": [
      "INFO:root:Encoding 'genres'\n",
      "INFO:root:Preprocessing 'overview'\n",
      "INFO:root:Vectorizing 'overview'...\n",
      "INFO:root:Vectorizing 'overview' took 22.9875 s, for a vocabulary size of 5000.\n",
      "INFO:root:Stacking vectorized overview onto encoded 'genres'\n",
      "INFO:root:Reducing dimension to 128...\n",
      "INFO:root:Dimensionality reduction took 0 s.\n",
      "INFO:root:Sparsifying embeddings...\n",
      "INFO:root:Sparsifying embeddings took 0 s.\n",
      "INFO:root:Saving embeddings to \"embeddings/movie/10k-128/embeddings-38.npz\"\n",
      "INFO:root:Embedder in [infer] mode.\n",
      "INFO:root:Preprocessing 'genres'\n"
     ]
    },
    {
     "name": "stdout",
     "output_type": "stream",
     "text": [
      "––––––––––––––––––––––––––––––––––––––––––––––––––––––––––––––––––––––––––––––––\n",
      "BATCH 39/90\n",
      "\n"
     ]
    },
    {
     "name": "stderr",
     "output_type": "stream",
     "text": [
      "INFO:root:Encoding 'genres'\n",
      "INFO:root:Preprocessing 'overview'\n",
      "INFO:root:Vectorizing 'overview'...\n",
      "INFO:root:Vectorizing 'overview' took 21.6878 s, for a vocabulary size of 5000.\n",
      "INFO:root:Stacking vectorized overview onto encoded 'genres'\n",
      "INFO:root:Reducing dimension to 128...\n",
      "INFO:root:Dimensionality reduction took 0 s.\n",
      "INFO:root:Sparsifying embeddings...\n",
      "INFO:root:Sparsifying embeddings took 0 s.\n",
      "INFO:root:Saving embeddings to \"embeddings/movie/10k-128/embeddings-39.npz\"\n",
      "INFO:root:Embedder in [infer] mode.\n",
      "INFO:root:Preprocessing 'genres'\n"
     ]
    },
    {
     "name": "stdout",
     "output_type": "stream",
     "text": [
      "––––––––––––––––––––––––––––––––––––––––––––––––––––––––––––––––––––––––––––––––\n",
      "BATCH 40/90\n",
      "\n"
     ]
    },
    {
     "name": "stderr",
     "output_type": "stream",
     "text": [
      "INFO:root:Encoding 'genres'\n",
      "INFO:root:Preprocessing 'overview'\n",
      "INFO:root:Vectorizing 'overview'...\n",
      "INFO:root:Vectorizing 'overview' took 20.8247 s, for a vocabulary size of 5000.\n",
      "INFO:root:Stacking vectorized overview onto encoded 'genres'\n",
      "INFO:root:Reducing dimension to 128...\n",
      "INFO:root:Dimensionality reduction took 0 s.\n",
      "INFO:root:Sparsifying embeddings...\n",
      "INFO:root:Sparsifying embeddings took 0 s.\n",
      "INFO:root:Saving embeddings to \"embeddings/movie/10k-128/embeddings-40.npz\"\n",
      "INFO:root:Embedder in [infer] mode.\n",
      "INFO:root:Preprocessing 'genres'\n"
     ]
    },
    {
     "name": "stdout",
     "output_type": "stream",
     "text": [
      "––––––––––––––––––––––––––––––––––––––––––––––––––––––––––––––––––––––––––––––––\n",
      "BATCH 41/90\n",
      "\n"
     ]
    },
    {
     "name": "stderr",
     "output_type": "stream",
     "text": [
      "INFO:root:Encoding 'genres'\n",
      "INFO:root:Preprocessing 'overview'\n",
      "INFO:root:Vectorizing 'overview'...\n",
      "INFO:root:Vectorizing 'overview' took 25.998 s, for a vocabulary size of 5000.\n",
      "INFO:root:Stacking vectorized overview onto encoded 'genres'\n",
      "INFO:root:Reducing dimension to 128...\n",
      "INFO:root:Dimensionality reduction took 0 s.\n",
      "INFO:root:Sparsifying embeddings...\n",
      "INFO:root:Sparsifying embeddings took 0 s.\n",
      "INFO:root:Saving embeddings to \"embeddings/movie/10k-128/embeddings-41.npz\"\n",
      "INFO:root:Embedder in [infer] mode.\n",
      "INFO:root:Preprocessing 'genres'\n"
     ]
    },
    {
     "name": "stdout",
     "output_type": "stream",
     "text": [
      "––––––––––––––––––––––––––––––––––––––––––––––––––––––––––––––––––––––––––––––––\n",
      "BATCH 42/90\n",
      "\n"
     ]
    },
    {
     "name": "stderr",
     "output_type": "stream",
     "text": [
      "INFO:root:Encoding 'genres'\n",
      "INFO:root:Preprocessing 'overview'\n",
      "INFO:root:Vectorizing 'overview'...\n",
      "INFO:root:Vectorizing 'overview' took 22.946 s, for a vocabulary size of 5000.\n",
      "INFO:root:Stacking vectorized overview onto encoded 'genres'\n",
      "INFO:root:Reducing dimension to 128...\n",
      "INFO:root:Dimensionality reduction took 0 s.\n",
      "INFO:root:Sparsifying embeddings...\n",
      "INFO:root:Sparsifying embeddings took 0 s.\n",
      "INFO:root:Saving embeddings to \"embeddings/movie/10k-128/embeddings-42.npz\"\n",
      "INFO:root:Embedder in [infer] mode.\n",
      "INFO:root:Preprocessing 'genres'\n"
     ]
    },
    {
     "name": "stdout",
     "output_type": "stream",
     "text": [
      "––––––––––––––––––––––––––––––––––––––––––––––––––––––––––––––––––––––––––––––––\n",
      "BATCH 43/90\n",
      "\n"
     ]
    },
    {
     "name": "stderr",
     "output_type": "stream",
     "text": [
      "INFO:root:Encoding 'genres'\n",
      "INFO:root:Preprocessing 'overview'\n",
      "INFO:root:Vectorizing 'overview'...\n",
      "INFO:root:Vectorizing 'overview' took 23.871 s, for a vocabulary size of 5000.\n",
      "INFO:root:Stacking vectorized overview onto encoded 'genres'\n",
      "INFO:root:Reducing dimension to 128...\n",
      "INFO:root:Dimensionality reduction took 0 s.\n",
      "INFO:root:Sparsifying embeddings...\n",
      "INFO:root:Sparsifying embeddings took 0 s.\n",
      "INFO:root:Saving embeddings to \"embeddings/movie/10k-128/embeddings-43.npz\"\n",
      "INFO:root:Embedder in [infer] mode.\n",
      "INFO:root:Preprocessing 'genres'\n"
     ]
    },
    {
     "name": "stdout",
     "output_type": "stream",
     "text": [
      "––––––––––––––––––––––––––––––––––––––––––––––––––––––––––––––––––––––––––––––––\n",
      "BATCH 44/90\n",
      "\n"
     ]
    },
    {
     "name": "stderr",
     "output_type": "stream",
     "text": [
      "INFO:root:Encoding 'genres'\n",
      "INFO:root:Preprocessing 'overview'\n",
      "INFO:root:Vectorizing 'overview'...\n",
      "INFO:root:Vectorizing 'overview' took 23.5178 s, for a vocabulary size of 5000.\n",
      "INFO:root:Stacking vectorized overview onto encoded 'genres'\n",
      "INFO:root:Reducing dimension to 128...\n",
      "INFO:root:Dimensionality reduction took 0 s.\n",
      "INFO:root:Sparsifying embeddings...\n",
      "INFO:root:Sparsifying embeddings took 0 s.\n",
      "INFO:root:Saving embeddings to \"embeddings/movie/10k-128/embeddings-44.npz\"\n",
      "INFO:root:Embedder in [infer] mode.\n",
      "INFO:root:Preprocessing 'genres'\n"
     ]
    },
    {
     "name": "stdout",
     "output_type": "stream",
     "text": [
      "––––––––––––––––––––––––––––––––––––––––––––––––––––––––––––––––––––––––––––––––\n",
      "BATCH 45/90\n",
      "\n"
     ]
    },
    {
     "name": "stderr",
     "output_type": "stream",
     "text": [
      "INFO:root:Encoding 'genres'\n",
      "INFO:root:Preprocessing 'overview'\n",
      "INFO:root:Vectorizing 'overview'...\n",
      "INFO:root:Vectorizing 'overview' took 22.1804 s, for a vocabulary size of 5000.\n",
      "INFO:root:Stacking vectorized overview onto encoded 'genres'\n",
      "INFO:root:Reducing dimension to 128...\n",
      "INFO:root:Dimensionality reduction took 0 s.\n",
      "INFO:root:Sparsifying embeddings...\n",
      "INFO:root:Sparsifying embeddings took 0 s.\n",
      "INFO:root:Saving embeddings to \"embeddings/movie/10k-128/embeddings-45.npz\"\n",
      "INFO:root:Embedder in [infer] mode.\n",
      "INFO:root:Preprocessing 'genres'\n"
     ]
    },
    {
     "name": "stdout",
     "output_type": "stream",
     "text": [
      "––––––––––––––––––––––––––––––––––––––––––––––––––––––––––––––––––––––––––––––––\n",
      "BATCH 46/90\n",
      "\n"
     ]
    },
    {
     "name": "stderr",
     "output_type": "stream",
     "text": [
      "INFO:root:Encoding 'genres'\n",
      "INFO:root:Preprocessing 'overview'\n",
      "INFO:root:Vectorizing 'overview'...\n",
      "INFO:root:Vectorizing 'overview' took 21.0641 s, for a vocabulary size of 5000.\n",
      "INFO:root:Stacking vectorized overview onto encoded 'genres'\n",
      "INFO:root:Reducing dimension to 128...\n",
      "INFO:root:Dimensionality reduction took 0 s.\n",
      "INFO:root:Sparsifying embeddings...\n",
      "INFO:root:Sparsifying embeddings took 0 s.\n",
      "INFO:root:Saving embeddings to \"embeddings/movie/10k-128/embeddings-46.npz\"\n",
      "INFO:root:Embedder in [infer] mode.\n",
      "INFO:root:Preprocessing 'genres'\n"
     ]
    },
    {
     "name": "stdout",
     "output_type": "stream",
     "text": [
      "––––––––––––––––––––––––––––––––––––––––––––––––––––––––––––––––––––––––––––––––\n",
      "BATCH 47/90\n",
      "\n"
     ]
    },
    {
     "name": "stderr",
     "output_type": "stream",
     "text": [
      "INFO:root:Encoding 'genres'\n",
      "INFO:root:Preprocessing 'overview'\n",
      "INFO:root:Vectorizing 'overview'...\n",
      "INFO:root:Vectorizing 'overview' took 22.4537 s, for a vocabulary size of 5000.\n",
      "INFO:root:Stacking vectorized overview onto encoded 'genres'\n",
      "INFO:root:Reducing dimension to 128...\n",
      "INFO:root:Dimensionality reduction took 0 s.\n",
      "INFO:root:Sparsifying embeddings...\n",
      "INFO:root:Sparsifying embeddings took 0 s.\n",
      "INFO:root:Saving embeddings to \"embeddings/movie/10k-128/embeddings-47.npz\"\n",
      "INFO:root:Embedder in [infer] mode.\n",
      "INFO:root:Preprocessing 'genres'\n"
     ]
    },
    {
     "name": "stdout",
     "output_type": "stream",
     "text": [
      "––––––––––––––––––––––––––––––––––––––––––––––––––––––––––––––––––––––––––––––––\n",
      "BATCH 48/90\n",
      "\n"
     ]
    },
    {
     "name": "stderr",
     "output_type": "stream",
     "text": [
      "INFO:root:Encoding 'genres'\n",
      "INFO:root:Preprocessing 'overview'\n",
      "INFO:root:Vectorizing 'overview'...\n",
      "INFO:root:Vectorizing 'overview' took 22.5545 s, for a vocabulary size of 5000.\n",
      "INFO:root:Stacking vectorized overview onto encoded 'genres'\n",
      "INFO:root:Reducing dimension to 128...\n",
      "INFO:root:Dimensionality reduction took 0 s.\n",
      "INFO:root:Sparsifying embeddings...\n",
      "INFO:root:Sparsifying embeddings took 0 s.\n",
      "INFO:root:Saving embeddings to \"embeddings/movie/10k-128/embeddings-48.npz\"\n",
      "INFO:root:Embedder in [infer] mode.\n",
      "INFO:root:Preprocessing 'genres'\n"
     ]
    },
    {
     "name": "stdout",
     "output_type": "stream",
     "text": [
      "––––––––––––––––––––––––––––––––––––––––––––––––––––––––––––––––––––––––––––––––\n",
      "BATCH 49/90\n",
      "\n"
     ]
    },
    {
     "name": "stderr",
     "output_type": "stream",
     "text": [
      "INFO:root:Encoding 'genres'\n",
      "INFO:root:Preprocessing 'overview'\n",
      "INFO:root:Vectorizing 'overview'...\n",
      "INFO:root:Vectorizing 'overview' took 21.028 s, for a vocabulary size of 5000.\n",
      "INFO:root:Stacking vectorized overview onto encoded 'genres'\n",
      "INFO:root:Reducing dimension to 128...\n",
      "INFO:root:Dimensionality reduction took 0 s.\n",
      "INFO:root:Sparsifying embeddings...\n",
      "INFO:root:Sparsifying embeddings took 0 s.\n",
      "INFO:root:Saving embeddings to \"embeddings/movie/10k-128/embeddings-49.npz\"\n",
      "INFO:root:Embedder in [infer] mode.\n",
      "INFO:root:Preprocessing 'genres'\n"
     ]
    },
    {
     "name": "stdout",
     "output_type": "stream",
     "text": [
      "––––––––––––––––––––––––––––––––––––––––––––––––––––––––––––––––––––––––––––––––\n",
      "BATCH 50/90\n",
      "\n"
     ]
    },
    {
     "name": "stderr",
     "output_type": "stream",
     "text": [
      "INFO:root:Encoding 'genres'\n",
      "INFO:root:Preprocessing 'overview'\n",
      "INFO:root:Vectorizing 'overview'...\n",
      "INFO:root:Vectorizing 'overview' took 22.4203 s, for a vocabulary size of 5000.\n",
      "INFO:root:Stacking vectorized overview onto encoded 'genres'\n",
      "INFO:root:Reducing dimension to 128...\n",
      "INFO:root:Dimensionality reduction took 0 s.\n",
      "INFO:root:Sparsifying embeddings...\n",
      "INFO:root:Sparsifying embeddings took 0 s.\n",
      "INFO:root:Saving embeddings to \"embeddings/movie/10k-128/embeddings-50.npz\"\n",
      "INFO:root:Embedder in [infer] mode.\n",
      "INFO:root:Preprocessing 'genres'\n"
     ]
    },
    {
     "name": "stdout",
     "output_type": "stream",
     "text": [
      "––––––––––––––––––––––––––––––––––––––––––––––––––––––––––––––––––––––––––––––––\n",
      "BATCH 51/90\n",
      "\n"
     ]
    },
    {
     "name": "stderr",
     "output_type": "stream",
     "text": [
      "INFO:root:Encoding 'genres'\n",
      "INFO:root:Preprocessing 'overview'\n",
      "INFO:root:Vectorizing 'overview'...\n",
      "INFO:root:Vectorizing 'overview' took 23.1836 s, for a vocabulary size of 5000.\n",
      "INFO:root:Stacking vectorized overview onto encoded 'genres'\n",
      "INFO:root:Reducing dimension to 128...\n",
      "INFO:root:Dimensionality reduction took 0 s.\n",
      "INFO:root:Sparsifying embeddings...\n",
      "INFO:root:Sparsifying embeddings took 0 s.\n",
      "INFO:root:Saving embeddings to \"embeddings/movie/10k-128/embeddings-51.npz\"\n",
      "INFO:root:Embedder in [infer] mode.\n",
      "INFO:root:Preprocessing 'genres'\n"
     ]
    },
    {
     "name": "stdout",
     "output_type": "stream",
     "text": [
      "––––––––––––––––––––––––––––––––––––––––––––––––––––––––––––––––––––––––––––––––\n",
      "BATCH 52/90\n",
      "\n"
     ]
    },
    {
     "name": "stderr",
     "output_type": "stream",
     "text": [
      "INFO:root:Encoding 'genres'\n",
      "INFO:root:Preprocessing 'overview'\n",
      "INFO:root:Vectorizing 'overview'...\n",
      "INFO:root:Vectorizing 'overview' took 24.7528 s, for a vocabulary size of 5000.\n",
      "INFO:root:Stacking vectorized overview onto encoded 'genres'\n",
      "INFO:root:Reducing dimension to 128...\n",
      "INFO:root:Dimensionality reduction took 0 s.\n",
      "INFO:root:Sparsifying embeddings...\n",
      "INFO:root:Sparsifying embeddings took 0 s.\n",
      "INFO:root:Saving embeddings to \"embeddings/movie/10k-128/embeddings-52.npz\"\n",
      "INFO:root:Embedder in [infer] mode.\n",
      "INFO:root:Preprocessing 'genres'\n"
     ]
    },
    {
     "name": "stdout",
     "output_type": "stream",
     "text": [
      "––––––––––––––––––––––––––––––––––––––––––––––––––––––––––––––––––––––––––––––––\n",
      "BATCH 53/90\n",
      "\n"
     ]
    },
    {
     "name": "stderr",
     "output_type": "stream",
     "text": [
      "INFO:root:Encoding 'genres'\n",
      "INFO:root:Preprocessing 'overview'\n",
      "INFO:root:Vectorizing 'overview'...\n",
      "INFO:root:Vectorizing 'overview' took 24.8488 s, for a vocabulary size of 5000.\n",
      "INFO:root:Stacking vectorized overview onto encoded 'genres'\n",
      "INFO:root:Reducing dimension to 128...\n",
      "INFO:root:Dimensionality reduction took 0 s.\n",
      "INFO:root:Sparsifying embeddings...\n",
      "INFO:root:Sparsifying embeddings took 0 s.\n",
      "INFO:root:Saving embeddings to \"embeddings/movie/10k-128/embeddings-53.npz\"\n",
      "INFO:root:Embedder in [infer] mode.\n",
      "INFO:root:Preprocessing 'genres'\n"
     ]
    },
    {
     "name": "stdout",
     "output_type": "stream",
     "text": [
      "––––––––––––––––––––––––––––––––––––––––––––––––––––––––––––––––––––––––––––––––\n",
      "BATCH 54/90\n",
      "\n"
     ]
    },
    {
     "name": "stderr",
     "output_type": "stream",
     "text": [
      "INFO:root:Encoding 'genres'\n",
      "INFO:root:Preprocessing 'overview'\n",
      "INFO:root:Vectorizing 'overview'...\n",
      "INFO:root:Vectorizing 'overview' took 22.8215 s, for a vocabulary size of 5000.\n",
      "INFO:root:Stacking vectorized overview onto encoded 'genres'\n",
      "INFO:root:Reducing dimension to 128...\n",
      "INFO:root:Dimensionality reduction took 0 s.\n",
      "INFO:root:Sparsifying embeddings...\n",
      "INFO:root:Sparsifying embeddings took 0 s.\n",
      "INFO:root:Saving embeddings to \"embeddings/movie/10k-128/embeddings-54.npz\"\n",
      "INFO:root:Embedder in [infer] mode.\n",
      "INFO:root:Preprocessing 'genres'\n"
     ]
    },
    {
     "name": "stdout",
     "output_type": "stream",
     "text": [
      "––––––––––––––––––––––––––––––––––––––––––––––––––––––––––––––––––––––––––––––––\n",
      "BATCH 55/90\n",
      "\n"
     ]
    },
    {
     "name": "stderr",
     "output_type": "stream",
     "text": [
      "INFO:root:Encoding 'genres'\n",
      "INFO:root:Preprocessing 'overview'\n",
      "INFO:root:Vectorizing 'overview'...\n",
      "INFO:root:Vectorizing 'overview' took 22.7309 s, for a vocabulary size of 5000.\n",
      "INFO:root:Stacking vectorized overview onto encoded 'genres'\n",
      "INFO:root:Reducing dimension to 128...\n",
      "INFO:root:Dimensionality reduction took 0 s.\n",
      "INFO:root:Sparsifying embeddings...\n",
      "INFO:root:Sparsifying embeddings took 0 s.\n",
      "INFO:root:Saving embeddings to \"embeddings/movie/10k-128/embeddings-55.npz\"\n",
      "INFO:root:Embedder in [infer] mode.\n",
      "INFO:root:Preprocessing 'genres'\n"
     ]
    },
    {
     "name": "stdout",
     "output_type": "stream",
     "text": [
      "––––––––––––––––––––––––––––––––––––––––––––––––––––––––––––––––––––––––––––––––\n",
      "BATCH 56/90\n",
      "\n"
     ]
    },
    {
     "name": "stderr",
     "output_type": "stream",
     "text": [
      "INFO:root:Encoding 'genres'\n",
      "INFO:root:Preprocessing 'overview'\n",
      "INFO:root:Vectorizing 'overview'...\n",
      "INFO:root:Vectorizing 'overview' took 25.0578 s, for a vocabulary size of 5000.\n",
      "INFO:root:Stacking vectorized overview onto encoded 'genres'\n",
      "INFO:root:Reducing dimension to 128...\n",
      "INFO:root:Dimensionality reduction took 0 s.\n",
      "INFO:root:Sparsifying embeddings...\n",
      "INFO:root:Sparsifying embeddings took 0 s.\n",
      "INFO:root:Saving embeddings to \"embeddings/movie/10k-128/embeddings-56.npz\"\n",
      "INFO:root:Embedder in [infer] mode.\n",
      "INFO:root:Preprocessing 'genres'\n"
     ]
    },
    {
     "name": "stdout",
     "output_type": "stream",
     "text": [
      "––––––––––––––––––––––––––––––––––––––––––––––––––––––––––––––––––––––––––––––––\n",
      "BATCH 57/90\n",
      "\n"
     ]
    },
    {
     "name": "stderr",
     "output_type": "stream",
     "text": [
      "INFO:root:Encoding 'genres'\n",
      "INFO:root:Preprocessing 'overview'\n",
      "INFO:root:Vectorizing 'overview'...\n",
      "INFO:root:Vectorizing 'overview' took 26.7315 s, for a vocabulary size of 5000.\n",
      "INFO:root:Stacking vectorized overview onto encoded 'genres'\n",
      "INFO:root:Reducing dimension to 128...\n",
      "INFO:root:Dimensionality reduction took 0 s.\n",
      "INFO:root:Sparsifying embeddings...\n",
      "INFO:root:Sparsifying embeddings took 0 s.\n",
      "INFO:root:Saving embeddings to \"embeddings/movie/10k-128/embeddings-57.npz\"\n",
      "INFO:root:Embedder in [infer] mode.\n",
      "INFO:root:Preprocessing 'genres'\n"
     ]
    },
    {
     "name": "stdout",
     "output_type": "stream",
     "text": [
      "––––––––––––––––––––––––––––––––––––––––––––––––––––––––––––––––––––––––––––––––\n",
      "BATCH 58/90\n",
      "\n"
     ]
    },
    {
     "name": "stderr",
     "output_type": "stream",
     "text": [
      "INFO:root:Encoding 'genres'\n",
      "INFO:root:Preprocessing 'overview'\n",
      "INFO:root:Vectorizing 'overview'...\n",
      "INFO:root:Vectorizing 'overview' took 27.4536 s, for a vocabulary size of 5000.\n",
      "INFO:root:Stacking vectorized overview onto encoded 'genres'\n",
      "INFO:root:Reducing dimension to 128...\n",
      "INFO:root:Dimensionality reduction took 0 s.\n",
      "INFO:root:Sparsifying embeddings...\n",
      "INFO:root:Sparsifying embeddings took 0 s.\n",
      "INFO:root:Saving embeddings to \"embeddings/movie/10k-128/embeddings-58.npz\"\n",
      "INFO:root:Embedder in [infer] mode.\n",
      "INFO:root:Preprocessing 'genres'\n"
     ]
    },
    {
     "name": "stdout",
     "output_type": "stream",
     "text": [
      "––––––––––––––––––––––––––––––––––––––––––––––––––––––––––––––––––––––––––––––––\n",
      "BATCH 59/90\n",
      "\n"
     ]
    },
    {
     "name": "stderr",
     "output_type": "stream",
     "text": [
      "INFO:root:Encoding 'genres'\n",
      "INFO:root:Preprocessing 'overview'\n",
      "INFO:root:Vectorizing 'overview'...\n",
      "INFO:root:Vectorizing 'overview' took 25.8699 s, for a vocabulary size of 5000.\n",
      "INFO:root:Stacking vectorized overview onto encoded 'genres'\n",
      "INFO:root:Reducing dimension to 128...\n",
      "INFO:root:Dimensionality reduction took 0 s.\n",
      "INFO:root:Sparsifying embeddings...\n",
      "INFO:root:Sparsifying embeddings took 0 s.\n",
      "INFO:root:Saving embeddings to \"embeddings/movie/10k-128/embeddings-59.npz\"\n",
      "INFO:root:Embedder in [infer] mode.\n",
      "INFO:root:Preprocessing 'genres'\n"
     ]
    },
    {
     "name": "stdout",
     "output_type": "stream",
     "text": [
      "––––––––––––––––––––––––––––––––––––––––––––––––––––––––––––––––––––––––––––––––\n",
      "BATCH 60/90\n",
      "\n"
     ]
    },
    {
     "name": "stderr",
     "output_type": "stream",
     "text": [
      "INFO:root:Encoding 'genres'\n",
      "INFO:root:Preprocessing 'overview'\n",
      "INFO:root:Vectorizing 'overview'...\n",
      "INFO:root:Vectorizing 'overview' took 27.7639 s, for a vocabulary size of 5000.\n",
      "INFO:root:Stacking vectorized overview onto encoded 'genres'\n",
      "INFO:root:Reducing dimension to 128...\n",
      "INFO:root:Dimensionality reduction took 0 s.\n",
      "INFO:root:Sparsifying embeddings...\n",
      "INFO:root:Sparsifying embeddings took 0 s.\n",
      "INFO:root:Saving embeddings to \"embeddings/movie/10k-128/embeddings-60.npz\"\n",
      "INFO:root:Embedder in [infer] mode.\n",
      "INFO:root:Preprocessing 'genres'\n"
     ]
    },
    {
     "name": "stdout",
     "output_type": "stream",
     "text": [
      "––––––––––––––––––––––––––––––––––––––––––––––––––––––––––––––––––––––––––––––––\n",
      "BATCH 61/90\n",
      "\n"
     ]
    },
    {
     "name": "stderr",
     "output_type": "stream",
     "text": [
      "INFO:root:Encoding 'genres'\n",
      "INFO:root:Preprocessing 'overview'\n",
      "INFO:root:Vectorizing 'overview'...\n",
      "INFO:root:Vectorizing 'overview' took 55.6708 s, for a vocabulary size of 5000.\n",
      "INFO:root:Stacking vectorized overview onto encoded 'genres'\n",
      "INFO:root:Reducing dimension to 128...\n",
      "INFO:root:Dimensionality reduction took 0 s.\n",
      "INFO:root:Sparsifying embeddings...\n",
      "INFO:root:Sparsifying embeddings took 0 s.\n",
      "INFO:root:Saving embeddings to \"embeddings/movie/10k-128/embeddings-61.npz\"\n",
      "INFO:root:Embedder in [infer] mode.\n"
     ]
    },
    {
     "name": "stdout",
     "output_type": "stream",
     "text": [
      "––––––––––––––––––––––––––––––––––––––––––––––––––––––––––––––––––––––––––––––––\n",
      "BATCH 62/90\n",
      "\n"
     ]
    },
    {
     "name": "stderr",
     "output_type": "stream",
     "text": [
      "INFO:root:Preprocessing 'genres'\n",
      "INFO:root:Encoding 'genres'\n",
      "INFO:root:Preprocessing 'overview'\n",
      "INFO:root:Vectorizing 'overview'...\n",
      "INFO:root:Vectorizing 'overview' took 41.9531 s, for a vocabulary size of 5000.\n",
      "INFO:root:Stacking vectorized overview onto encoded 'genres'\n",
      "INFO:root:Reducing dimension to 128...\n",
      "INFO:root:Dimensionality reduction took 0 s.\n",
      "INFO:root:Sparsifying embeddings...\n",
      "INFO:root:Sparsifying embeddings took 0 s.\n",
      "INFO:root:Saving embeddings to \"embeddings/movie/10k-128/embeddings-62.npz\"\n",
      "INFO:root:Embedder in [infer] mode.\n",
      "INFO:root:Preprocessing 'genres'\n"
     ]
    },
    {
     "name": "stdout",
     "output_type": "stream",
     "text": [
      "––––––––––––––––––––––––––––––––––––––––––––––––––––––––––––––––––––––––––––––––\n",
      "BATCH 63/90\n",
      "\n"
     ]
    },
    {
     "name": "stderr",
     "output_type": "stream",
     "text": [
      "INFO:root:Encoding 'genres'\n",
      "INFO:root:Preprocessing 'overview'\n",
      "INFO:root:Vectorizing 'overview'...\n",
      "INFO:root:Vectorizing 'overview' took 53.5724 s, for a vocabulary size of 5000.\n",
      "INFO:root:Stacking vectorized overview onto encoded 'genres'\n",
      "INFO:root:Reducing dimension to 128...\n",
      "INFO:root:Dimensionality reduction took 0 s.\n",
      "INFO:root:Sparsifying embeddings...\n",
      "INFO:root:Sparsifying embeddings took 0 s.\n",
      "INFO:root:Saving embeddings to \"embeddings/movie/10k-128/embeddings-63.npz\"\n",
      "INFO:root:Embedder in [infer] mode.\n",
      "INFO:root:Preprocessing 'genres'\n"
     ]
    },
    {
     "name": "stdout",
     "output_type": "stream",
     "text": [
      "––––––––––––––––––––––––––––––––––––––––––––––––––––––––––––––––––––––––––––––––\n",
      "BATCH 64/90\n",
      "\n"
     ]
    },
    {
     "name": "stderr",
     "output_type": "stream",
     "text": [
      "INFO:root:Encoding 'genres'\n",
      "INFO:root:Preprocessing 'overview'\n",
      "INFO:root:Vectorizing 'overview'...\n",
      "INFO:root:Vectorizing 'overview' took 40.0643 s, for a vocabulary size of 5000.\n",
      "INFO:root:Stacking vectorized overview onto encoded 'genres'\n",
      "INFO:root:Reducing dimension to 128...\n",
      "INFO:root:Dimensionality reduction took 0 s.\n",
      "INFO:root:Sparsifying embeddings...\n",
      "INFO:root:Sparsifying embeddings took 0 s.\n",
      "INFO:root:Saving embeddings to \"embeddings/movie/10k-128/embeddings-64.npz\"\n",
      "INFO:root:Embedder in [infer] mode.\n",
      "INFO:root:Preprocessing 'genres'\n"
     ]
    },
    {
     "name": "stdout",
     "output_type": "stream",
     "text": [
      "––––––––––––––––––––––––––––––––––––––––––––––––––––––––––––––––––––––––––––––––\n",
      "BATCH 65/90\n",
      "\n"
     ]
    },
    {
     "name": "stderr",
     "output_type": "stream",
     "text": [
      "INFO:root:Encoding 'genres'\n",
      "INFO:root:Preprocessing 'overview'\n",
      "INFO:root:Vectorizing 'overview'...\n",
      "INFO:root:Vectorizing 'overview' took 44.5215 s, for a vocabulary size of 5000.\n",
      "INFO:root:Stacking vectorized overview onto encoded 'genres'\n",
      "INFO:root:Reducing dimension to 128...\n",
      "INFO:root:Dimensionality reduction took 0 s.\n",
      "INFO:root:Sparsifying embeddings...\n",
      "INFO:root:Sparsifying embeddings took 0 s.\n",
      "INFO:root:Saving embeddings to \"embeddings/movie/10k-128/embeddings-65.npz\"\n",
      "INFO:root:Embedder in [infer] mode.\n",
      "INFO:root:Preprocessing 'genres'\n"
     ]
    },
    {
     "name": "stdout",
     "output_type": "stream",
     "text": [
      "––––––––––––––––––––––––––––––––––––––––––––––––––––––––––––––––––––––––––––––––\n",
      "BATCH 66/90\n",
      "\n"
     ]
    },
    {
     "name": "stderr",
     "output_type": "stream",
     "text": [
      "INFO:root:Encoding 'genres'\n",
      "INFO:root:Preprocessing 'overview'\n",
      "INFO:root:Vectorizing 'overview'...\n",
      "INFO:root:Vectorizing 'overview' took 44.5807 s, for a vocabulary size of 5000.\n",
      "INFO:root:Stacking vectorized overview onto encoded 'genres'\n",
      "INFO:root:Reducing dimension to 128...\n",
      "INFO:root:Dimensionality reduction took 0 s.\n",
      "INFO:root:Sparsifying embeddings...\n",
      "INFO:root:Sparsifying embeddings took 0 s.\n",
      "INFO:root:Saving embeddings to \"embeddings/movie/10k-128/embeddings-66.npz\"\n",
      "INFO:root:Embedder in [infer] mode.\n",
      "INFO:root:Preprocessing 'genres'\n"
     ]
    },
    {
     "name": "stdout",
     "output_type": "stream",
     "text": [
      "––––––––––––––––––––––––––––––––––––––––––––––––––––––––––––––––––––––––––––––––\n",
      "BATCH 67/90\n",
      "\n"
     ]
    },
    {
     "name": "stderr",
     "output_type": "stream",
     "text": [
      "INFO:root:Encoding 'genres'\n",
      "INFO:root:Preprocessing 'overview'\n",
      "INFO:root:Vectorizing 'overview'...\n",
      "INFO:root:Vectorizing 'overview' took 50.3946 s, for a vocabulary size of 5000.\n",
      "INFO:root:Stacking vectorized overview onto encoded 'genres'\n",
      "INFO:root:Reducing dimension to 128...\n",
      "INFO:root:Dimensionality reduction took 0 s.\n",
      "INFO:root:Sparsifying embeddings...\n",
      "INFO:root:Sparsifying embeddings took 0 s.\n",
      "INFO:root:Saving embeddings to \"embeddings/movie/10k-128/embeddings-67.npz\"\n",
      "INFO:root:Embedder in [infer] mode.\n",
      "INFO:root:Preprocessing 'genres'\n"
     ]
    },
    {
     "name": "stdout",
     "output_type": "stream",
     "text": [
      "––––––––––––––––––––––––––––––––––––––––––––––––––––––––––––––––––––––––––––––––\n",
      "BATCH 68/90\n",
      "\n"
     ]
    },
    {
     "name": "stderr",
     "output_type": "stream",
     "text": [
      "INFO:root:Encoding 'genres'\n",
      "INFO:root:Preprocessing 'overview'\n",
      "INFO:root:Vectorizing 'overview'...\n",
      "INFO:root:Vectorizing 'overview' took 41.6749 s, for a vocabulary size of 5000.\n",
      "INFO:root:Stacking vectorized overview onto encoded 'genres'\n",
      "INFO:root:Reducing dimension to 128...\n",
      "INFO:root:Dimensionality reduction took 0 s.\n",
      "INFO:root:Sparsifying embeddings...\n",
      "INFO:root:Sparsifying embeddings took 0 s.\n",
      "INFO:root:Saving embeddings to \"embeddings/movie/10k-128/embeddings-68.npz\"\n",
      "INFO:root:Embedder in [infer] mode.\n",
      "INFO:root:Preprocessing 'genres'\n"
     ]
    },
    {
     "name": "stdout",
     "output_type": "stream",
     "text": [
      "––––––––––––––––––––––––––––––––––––––––––––––––––––––––––––––––––––––––––––––––\n",
      "BATCH 69/90\n",
      "\n"
     ]
    },
    {
     "name": "stderr",
     "output_type": "stream",
     "text": [
      "INFO:root:Encoding 'genres'\n",
      "INFO:root:Preprocessing 'overview'\n",
      "INFO:root:Vectorizing 'overview'...\n",
      "INFO:root:Vectorizing 'overview' took 42.3614 s, for a vocabulary size of 5000.\n",
      "INFO:root:Stacking vectorized overview onto encoded 'genres'\n",
      "INFO:root:Reducing dimension to 128...\n",
      "INFO:root:Dimensionality reduction took 0 s.\n",
      "INFO:root:Sparsifying embeddings...\n",
      "INFO:root:Sparsifying embeddings took 0 s.\n",
      "INFO:root:Saving embeddings to \"embeddings/movie/10k-128/embeddings-69.npz\"\n",
      "INFO:root:Embedder in [infer] mode.\n",
      "INFO:root:Preprocessing 'genres'\n"
     ]
    },
    {
     "name": "stdout",
     "output_type": "stream",
     "text": [
      "––––––––––––––––––––––––––––––––––––––––––––––––––––––––––––––––––––––––––––––––\n",
      "BATCH 70/90\n",
      "\n"
     ]
    },
    {
     "name": "stderr",
     "output_type": "stream",
     "text": [
      "INFO:root:Encoding 'genres'\n",
      "INFO:root:Preprocessing 'overview'\n",
      "INFO:root:Vectorizing 'overview'...\n",
      "INFO:root:Vectorizing 'overview' took 52.609 s, for a vocabulary size of 5000.\n",
      "INFO:root:Stacking vectorized overview onto encoded 'genres'\n",
      "INFO:root:Reducing dimension to 128...\n",
      "INFO:root:Dimensionality reduction took 0 s.\n",
      "INFO:root:Sparsifying embeddings...\n",
      "INFO:root:Sparsifying embeddings took 0 s.\n",
      "INFO:root:Saving embeddings to \"embeddings/movie/10k-128/embeddings-70.npz\"\n",
      "INFO:root:Embedder in [infer] mode.\n"
     ]
    },
    {
     "name": "stdout",
     "output_type": "stream",
     "text": [
      "––––––––––––––––––––––––––––––––––––––––––––––––––––––––––––––––––––––––––––––––\n",
      "BATCH 71/90\n",
      "\n"
     ]
    },
    {
     "name": "stderr",
     "output_type": "stream",
     "text": [
      "INFO:root:Preprocessing 'genres'\n",
      "INFO:root:Encoding 'genres'\n",
      "INFO:root:Preprocessing 'overview'\n",
      "INFO:root:Vectorizing 'overview'...\n",
      "INFO:root:Vectorizing 'overview' took 48.0771 s, for a vocabulary size of 5000.\n",
      "INFO:root:Stacking vectorized overview onto encoded 'genres'\n",
      "INFO:root:Reducing dimension to 128...\n",
      "INFO:root:Dimensionality reduction took 0 s.\n",
      "INFO:root:Sparsifying embeddings...\n",
      "INFO:root:Sparsifying embeddings took 0 s.\n",
      "INFO:root:Saving embeddings to \"embeddings/movie/10k-128/embeddings-71.npz\"\n",
      "INFO:root:Embedder in [infer] mode.\n",
      "INFO:root:Preprocessing 'genres'\n"
     ]
    },
    {
     "name": "stdout",
     "output_type": "stream",
     "text": [
      "––––––––––––––––––––––––––––––––––––––––––––––––––––––––––––––––––––––––––––––––\n",
      "BATCH 72/90\n",
      "\n"
     ]
    },
    {
     "name": "stderr",
     "output_type": "stream",
     "text": [
      "INFO:root:Encoding 'genres'\n",
      "INFO:root:Preprocessing 'overview'\n",
      "INFO:root:Vectorizing 'overview'...\n",
      "INFO:root:Vectorizing 'overview' took 53.0394 s, for a vocabulary size of 5000.\n",
      "INFO:root:Stacking vectorized overview onto encoded 'genres'\n",
      "INFO:root:Reducing dimension to 128...\n",
      "INFO:root:Dimensionality reduction took 0 s.\n",
      "INFO:root:Sparsifying embeddings...\n",
      "INFO:root:Sparsifying embeddings took 0 s.\n",
      "INFO:root:Saving embeddings to \"embeddings/movie/10k-128/embeddings-72.npz\"\n",
      "INFO:root:Embedder in [infer] mode.\n",
      "INFO:root:Preprocessing 'genres'\n"
     ]
    },
    {
     "name": "stdout",
     "output_type": "stream",
     "text": [
      "––––––––––––––––––––––––––––––––––––––––––––––––––––––––––––––––––––––––––––––––\n",
      "BATCH 73/90\n",
      "\n"
     ]
    },
    {
     "name": "stderr",
     "output_type": "stream",
     "text": [
      "INFO:root:Encoding 'genres'\n",
      "INFO:root:Preprocessing 'overview'\n",
      "INFO:root:Vectorizing 'overview'...\n",
      "INFO:root:Vectorizing 'overview' took 51.1991 s, for a vocabulary size of 5000.\n",
      "INFO:root:Stacking vectorized overview onto encoded 'genres'\n",
      "INFO:root:Reducing dimension to 128...\n",
      "INFO:root:Dimensionality reduction took 0 s.\n",
      "INFO:root:Sparsifying embeddings...\n",
      "INFO:root:Sparsifying embeddings took 0 s.\n",
      "INFO:root:Saving embeddings to \"embeddings/movie/10k-128/embeddings-73.npz\"\n",
      "INFO:root:Embedder in [infer] mode.\n"
     ]
    },
    {
     "name": "stdout",
     "output_type": "stream",
     "text": [
      "––––––––––––––––––––––––––––––––––––––––––––––––––––––––––––––––––––––––––––––––\n",
      "BATCH 74/90\n",
      "\n"
     ]
    },
    {
     "name": "stderr",
     "output_type": "stream",
     "text": [
      "INFO:root:Preprocessing 'genres'\n",
      "INFO:root:Encoding 'genres'\n",
      "INFO:root:Preprocessing 'overview'\n",
      "INFO:root:Vectorizing 'overview'...\n",
      "INFO:root:Vectorizing 'overview' took 33.3186 s, for a vocabulary size of 5000.\n",
      "INFO:root:Stacking vectorized overview onto encoded 'genres'\n",
      "INFO:root:Reducing dimension to 128...\n",
      "INFO:root:Dimensionality reduction took 0 s.\n",
      "INFO:root:Sparsifying embeddings...\n",
      "INFO:root:Sparsifying embeddings took 0 s.\n",
      "INFO:root:Saving embeddings to \"embeddings/movie/10k-128/embeddings-74.npz\"\n",
      "INFO:root:Embedder in [infer] mode.\n",
      "INFO:root:Preprocessing 'genres'\n"
     ]
    },
    {
     "name": "stdout",
     "output_type": "stream",
     "text": [
      "––––––––––––––––––––––––––––––––––––––––––––––––––––––––––––––––––––––––––––––––\n",
      "BATCH 75/90\n",
      "\n"
     ]
    },
    {
     "name": "stderr",
     "output_type": "stream",
     "text": [
      "INFO:root:Encoding 'genres'\n",
      "INFO:root:Preprocessing 'overview'\n",
      "INFO:root:Vectorizing 'overview'...\n",
      "INFO:root:Vectorizing 'overview' took 31.7511 s, for a vocabulary size of 5000.\n",
      "INFO:root:Stacking vectorized overview onto encoded 'genres'\n",
      "INFO:root:Reducing dimension to 128...\n",
      "INFO:root:Dimensionality reduction took 0 s.\n",
      "INFO:root:Sparsifying embeddings...\n",
      "INFO:root:Sparsifying embeddings took 0 s.\n",
      "INFO:root:Saving embeddings to \"embeddings/movie/10k-128/embeddings-75.npz\"\n",
      "INFO:root:Embedder in [infer] mode.\n",
      "INFO:root:Preprocessing 'genres'\n"
     ]
    },
    {
     "name": "stdout",
     "output_type": "stream",
     "text": [
      "––––––––––––––––––––––––––––––––––––––––––––––––––––––––––––––––––––––––––––––––\n",
      "BATCH 76/90\n",
      "\n"
     ]
    },
    {
     "name": "stderr",
     "output_type": "stream",
     "text": [
      "INFO:root:Encoding 'genres'\n",
      "INFO:root:Preprocessing 'overview'\n",
      "INFO:root:Vectorizing 'overview'...\n",
      "INFO:root:Vectorizing 'overview' took 33.174 s, for a vocabulary size of 5000.\n",
      "INFO:root:Stacking vectorized overview onto encoded 'genres'\n",
      "INFO:root:Reducing dimension to 128...\n",
      "INFO:root:Dimensionality reduction took 0 s.\n",
      "INFO:root:Sparsifying embeddings...\n",
      "INFO:root:Sparsifying embeddings took 0 s.\n",
      "INFO:root:Saving embeddings to \"embeddings/movie/10k-128/embeddings-76.npz\"\n",
      "INFO:root:Embedder in [infer] mode.\n",
      "INFO:root:Preprocessing 'genres'\n"
     ]
    },
    {
     "name": "stdout",
     "output_type": "stream",
     "text": [
      "––––––––––––––––––––––––––––––––––––––––––––––––––––––––––––––––––––––––––––––––\n",
      "BATCH 77/90\n",
      "\n"
     ]
    },
    {
     "name": "stderr",
     "output_type": "stream",
     "text": [
      "INFO:root:Encoding 'genres'\n",
      "INFO:root:Preprocessing 'overview'\n",
      "INFO:root:Vectorizing 'overview'...\n",
      "INFO:root:Vectorizing 'overview' took 30.6183 s, for a vocabulary size of 5000.\n",
      "INFO:root:Stacking vectorized overview onto encoded 'genres'\n",
      "INFO:root:Reducing dimension to 128...\n",
      "INFO:root:Dimensionality reduction took 0 s.\n",
      "INFO:root:Sparsifying embeddings...\n",
      "INFO:root:Sparsifying embeddings took 0 s.\n",
      "INFO:root:Saving embeddings to \"embeddings/movie/10k-128/embeddings-77.npz\"\n",
      "INFO:root:Embedder in [infer] mode.\n",
      "INFO:root:Preprocessing 'genres'\n"
     ]
    },
    {
     "name": "stdout",
     "output_type": "stream",
     "text": [
      "––––––––––––––––––––––––––––––––––––––––––––––––––––––––––––––––––––––––––––––––\n",
      "BATCH 78/90\n",
      "\n"
     ]
    },
    {
     "name": "stderr",
     "output_type": "stream",
     "text": [
      "INFO:root:Encoding 'genres'\n",
      "INFO:root:Preprocessing 'overview'\n",
      "INFO:root:Vectorizing 'overview'...\n",
      "INFO:root:Vectorizing 'overview' took 26.5802 s, for a vocabulary size of 5000.\n",
      "INFO:root:Stacking vectorized overview onto encoded 'genres'\n",
      "INFO:root:Reducing dimension to 128...\n",
      "INFO:root:Dimensionality reduction took 0 s.\n",
      "INFO:root:Sparsifying embeddings...\n",
      "INFO:root:Sparsifying embeddings took 0 s.\n",
      "INFO:root:Saving embeddings to \"embeddings/movie/10k-128/embeddings-78.npz\"\n",
      "INFO:root:Embedder in [infer] mode.\n",
      "INFO:root:Preprocessing 'genres'\n"
     ]
    },
    {
     "name": "stdout",
     "output_type": "stream",
     "text": [
      "––––––––––––––––––––––––––––––––––––––––––––––––––––––––––––––––––––––––––––––––\n",
      "BATCH 79/90\n",
      "\n"
     ]
    },
    {
     "name": "stderr",
     "output_type": "stream",
     "text": [
      "INFO:root:Encoding 'genres'\n",
      "INFO:root:Preprocessing 'overview'\n",
      "INFO:root:Vectorizing 'overview'...\n",
      "INFO:root:Vectorizing 'overview' took 27.3211 s, for a vocabulary size of 5000.\n",
      "INFO:root:Stacking vectorized overview onto encoded 'genres'\n",
      "INFO:root:Reducing dimension to 128...\n",
      "INFO:root:Dimensionality reduction took 0 s.\n",
      "INFO:root:Sparsifying embeddings...\n",
      "INFO:root:Sparsifying embeddings took 0 s.\n",
      "INFO:root:Saving embeddings to \"embeddings/movie/10k-128/embeddings-79.npz\"\n",
      "INFO:root:Embedder in [infer] mode.\n",
      "INFO:root:Preprocessing 'genres'\n"
     ]
    },
    {
     "name": "stdout",
     "output_type": "stream",
     "text": [
      "––––––––––––––––––––––––––––––––––––––––––––––––––––––––––––––––––––––––––––––––\n",
      "BATCH 80/90\n",
      "\n"
     ]
    },
    {
     "name": "stderr",
     "output_type": "stream",
     "text": [
      "INFO:root:Encoding 'genres'\n",
      "INFO:root:Preprocessing 'overview'\n",
      "INFO:root:Vectorizing 'overview'...\n",
      "INFO:root:Vectorizing 'overview' took 32.0643 s, for a vocabulary size of 5000.\n",
      "INFO:root:Stacking vectorized overview onto encoded 'genres'\n",
      "INFO:root:Reducing dimension to 128...\n",
      "INFO:root:Dimensionality reduction took 0 s.\n",
      "INFO:root:Sparsifying embeddings...\n",
      "INFO:root:Sparsifying embeddings took 0 s.\n",
      "INFO:root:Saving embeddings to \"embeddings/movie/10k-128/embeddings-80.npz\"\n",
      "INFO:root:Embedder in [infer] mode.\n",
      "INFO:root:Preprocessing 'genres'\n"
     ]
    },
    {
     "name": "stdout",
     "output_type": "stream",
     "text": [
      "––––––––––––––––––––––––––––––––––––––––––––––––––––––––––––––––––––––––––––––––\n",
      "BATCH 81/90\n",
      "\n"
     ]
    },
    {
     "name": "stderr",
     "output_type": "stream",
     "text": [
      "INFO:root:Encoding 'genres'\n",
      "INFO:root:Preprocessing 'overview'\n",
      "INFO:root:Vectorizing 'overview'...\n",
      "INFO:root:Vectorizing 'overview' took 28.5211 s, for a vocabulary size of 5000.\n",
      "INFO:root:Stacking vectorized overview onto encoded 'genres'\n",
      "INFO:root:Reducing dimension to 128...\n",
      "INFO:root:Dimensionality reduction took 0 s.\n",
      "INFO:root:Sparsifying embeddings...\n",
      "INFO:root:Sparsifying embeddings took 0 s.\n",
      "INFO:root:Saving embeddings to \"embeddings/movie/10k-128/embeddings-81.npz\"\n",
      "INFO:root:Embedder in [infer] mode.\n"
     ]
    },
    {
     "name": "stdout",
     "output_type": "stream",
     "text": [
      "––––––––––––––––––––––––––––––––––––––––––––––––––––––––––––––––––––––––––––––––\n",
      "BATCH 82/90\n",
      "\n"
     ]
    },
    {
     "name": "stderr",
     "output_type": "stream",
     "text": [
      "INFO:root:Preprocessing 'genres'\n",
      "INFO:root:Encoding 'genres'\n",
      "INFO:root:Preprocessing 'overview'\n",
      "INFO:root:Vectorizing 'overview'...\n",
      "INFO:root:Vectorizing 'overview' took 31.6389 s, for a vocabulary size of 5000.\n",
      "INFO:root:Stacking vectorized overview onto encoded 'genres'\n",
      "INFO:root:Reducing dimension to 128...\n",
      "INFO:root:Dimensionality reduction took 0 s.\n",
      "INFO:root:Sparsifying embeddings...\n",
      "INFO:root:Sparsifying embeddings took 0 s.\n",
      "INFO:root:Saving embeddings to \"embeddings/movie/10k-128/embeddings-82.npz\"\n",
      "INFO:root:Embedder in [infer] mode.\n",
      "INFO:root:Preprocessing 'genres'\n"
     ]
    },
    {
     "name": "stdout",
     "output_type": "stream",
     "text": [
      "––––––––––––––––––––––––––––––––––––––––––––––––––––––––––––––––––––––––––––––––\n",
      "BATCH 83/90\n",
      "\n"
     ]
    },
    {
     "name": "stderr",
     "output_type": "stream",
     "text": [
      "INFO:root:Encoding 'genres'\n",
      "INFO:root:Preprocessing 'overview'\n",
      "INFO:root:Vectorizing 'overview'...\n",
      "INFO:root:Vectorizing 'overview' took 28.8845 s, for a vocabulary size of 5000.\n",
      "INFO:root:Stacking vectorized overview onto encoded 'genres'\n",
      "INFO:root:Reducing dimension to 128...\n",
      "INFO:root:Dimensionality reduction took 0 s.\n",
      "INFO:root:Sparsifying embeddings...\n",
      "INFO:root:Sparsifying embeddings took 0 s.\n",
      "INFO:root:Saving embeddings to \"embeddings/movie/10k-128/embeddings-83.npz\"\n",
      "INFO:root:Embedder in [infer] mode.\n"
     ]
    },
    {
     "name": "stdout",
     "output_type": "stream",
     "text": [
      "––––––––––––––––––––––––––––––––––––––––––––––––––––––––––––––––––––––––––––––––\n",
      "BATCH 84/90\n",
      "\n"
     ]
    },
    {
     "name": "stderr",
     "output_type": "stream",
     "text": [
      "INFO:root:Preprocessing 'genres'\n",
      "INFO:root:Encoding 'genres'\n",
      "INFO:root:Preprocessing 'overview'\n",
      "INFO:root:Vectorizing 'overview'...\n",
      "INFO:root:Vectorizing 'overview' took 36.4936 s, for a vocabulary size of 5000.\n",
      "INFO:root:Stacking vectorized overview onto encoded 'genres'\n",
      "INFO:root:Reducing dimension to 128...\n",
      "INFO:root:Dimensionality reduction took 0 s.\n",
      "INFO:root:Sparsifying embeddings...\n",
      "INFO:root:Sparsifying embeddings took 0 s.\n",
      "INFO:root:Saving embeddings to \"embeddings/movie/10k-128/embeddings-84.npz\"\n",
      "INFO:root:Embedder in [infer] mode.\n",
      "INFO:root:Preprocessing 'genres'\n"
     ]
    },
    {
     "name": "stdout",
     "output_type": "stream",
     "text": [
      "––––––––––––––––––––––––––––––––––––––––––––––––––––––––––––––––––––––––––––––––\n",
      "BATCH 85/90\n",
      "\n"
     ]
    },
    {
     "name": "stderr",
     "output_type": "stream",
     "text": [
      "INFO:root:Encoding 'genres'\n",
      "INFO:root:Preprocessing 'overview'\n",
      "INFO:root:Vectorizing 'overview'...\n",
      "INFO:root:Vectorizing 'overview' took 61.7164 s, for a vocabulary size of 5000.\n",
      "INFO:root:Stacking vectorized overview onto encoded 'genres'\n",
      "INFO:root:Reducing dimension to 128...\n",
      "INFO:root:Dimensionality reduction took 0 s.\n",
      "INFO:root:Sparsifying embeddings...\n",
      "INFO:root:Sparsifying embeddings took 0 s.\n",
      "INFO:root:Saving embeddings to \"embeddings/movie/10k-128/embeddings-85.npz\"\n",
      "INFO:root:Embedder in [infer] mode.\n"
     ]
    },
    {
     "name": "stdout",
     "output_type": "stream",
     "text": [
      "––––––––––––––––––––––––––––––––––––––––––––––––––––––––––––––––––––––––––––––––\n",
      "BATCH 86/90\n",
      "\n"
     ]
    },
    {
     "name": "stderr",
     "output_type": "stream",
     "text": [
      "INFO:root:Preprocessing 'genres'\n",
      "INFO:root:Encoding 'genres'\n",
      "INFO:root:Preprocessing 'overview'\n",
      "INFO:root:Vectorizing 'overview'...\n",
      "INFO:root:Vectorizing 'overview' took 70.1791 s, for a vocabulary size of 5000.\n",
      "INFO:root:Stacking vectorized overview onto encoded 'genres'\n",
      "INFO:root:Reducing dimension to 128...\n",
      "INFO:root:Dimensionality reduction took 0 s.\n",
      "INFO:root:Sparsifying embeddings...\n",
      "INFO:root:Sparsifying embeddings took 0 s.\n",
      "INFO:root:Saving embeddings to \"embeddings/movie/10k-128/embeddings-86.npz\"\n",
      "INFO:root:Embedder in [infer] mode.\n",
      "INFO:root:Preprocessing 'genres'\n"
     ]
    },
    {
     "name": "stdout",
     "output_type": "stream",
     "text": [
      "––––––––––––––––––––––––––––––––––––––––––––––––––––––––––––––––––––––––––––––––\n",
      "BATCH 87/90\n",
      "\n"
     ]
    },
    {
     "name": "stderr",
     "output_type": "stream",
     "text": [
      "INFO:root:Encoding 'genres'\n",
      "INFO:root:Preprocessing 'overview'\n",
      "INFO:root:Vectorizing 'overview'...\n",
      "INFO:root:Vectorizing 'overview' took 60.8166 s, for a vocabulary size of 5000.\n",
      "INFO:root:Stacking vectorized overview onto encoded 'genres'\n",
      "INFO:root:Reducing dimension to 128...\n",
      "INFO:root:Dimensionality reduction took 0 s.\n",
      "INFO:root:Sparsifying embeddings...\n",
      "INFO:root:Sparsifying embeddings took 0 s.\n",
      "INFO:root:Saving embeddings to \"embeddings/movie/10k-128/embeddings-87.npz\"\n",
      "INFO:root:Embedder in [infer] mode.\n",
      "INFO:root:Preprocessing 'genres'\n"
     ]
    },
    {
     "name": "stdout",
     "output_type": "stream",
     "text": [
      "––––––––––––––––––––––––––––––––––––––––––––––––––––––––––––––––––––––––––––––––\n",
      "BATCH 88/90\n",
      "\n"
     ]
    },
    {
     "name": "stderr",
     "output_type": "stream",
     "text": [
      "INFO:root:Encoding 'genres'\n",
      "INFO:root:Preprocessing 'overview'\n",
      "INFO:root:Vectorizing 'overview'...\n",
      "INFO:root:Vectorizing 'overview' took 50.3267 s, for a vocabulary size of 5000.\n",
      "INFO:root:Stacking vectorized overview onto encoded 'genres'\n",
      "INFO:root:Reducing dimension to 128...\n",
      "INFO:root:Dimensionality reduction took 0 s.\n",
      "INFO:root:Sparsifying embeddings...\n",
      "INFO:root:Sparsifying embeddings took 0 s.\n",
      "INFO:root:Saving embeddings to \"embeddings/movie/10k-128/embeddings-88.npz\"\n",
      "INFO:root:Embedder in [infer] mode.\n",
      "INFO:root:Preprocessing 'genres'\n"
     ]
    },
    {
     "name": "stdout",
     "output_type": "stream",
     "text": [
      "––––––––––––––––––––––––––––––––––––––––––––––––––––––––––––––––––––––––––––––––\n",
      "BATCH 89/90\n",
      "\n"
     ]
    },
    {
     "name": "stderr",
     "output_type": "stream",
     "text": [
      "INFO:root:Encoding 'genres'\n",
      "INFO:root:Preprocessing 'overview'\n",
      "INFO:root:Vectorizing 'overview'...\n",
      "INFO:root:Vectorizing 'overview' took 76.733 s, for a vocabulary size of 5000.\n",
      "INFO:root:Stacking vectorized overview onto encoded 'genres'\n",
      "INFO:root:Reducing dimension to 128...\n",
      "INFO:root:Dimensionality reduction took 0 s.\n",
      "INFO:root:Sparsifying embeddings...\n",
      "INFO:root:Sparsifying embeddings took 0 s.\n",
      "INFO:root:Saving embeddings to \"embeddings/movie/10k-128/embeddings-89.npz\"\n",
      "INFO:root:Embedder in [infer] mode.\n"
     ]
    },
    {
     "name": "stdout",
     "output_type": "stream",
     "text": [
      "––––––––––––––––––––––––––––––––––––––––––––––––––––––––––––––––––––––––––––––––\n",
      "BATCH 90/90\n",
      "\n"
     ]
    },
    {
     "name": "stderr",
     "output_type": "stream",
     "text": [
      "INFO:root:Preprocessing 'genres'\n",
      "INFO:root:Encoding 'genres'\n",
      "INFO:root:Preprocessing 'overview'\n",
      "INFO:root:Vectorizing 'overview'...\n",
      "INFO:root:Vectorizing 'overview' took 16.2715 s, for a vocabulary size of 5000.\n",
      "INFO:root:Stacking vectorized overview onto encoded 'genres'\n",
      "INFO:root:Reducing dimension to 128...\n",
      "INFO:root:Dimensionality reduction took 0 s.\n",
      "INFO:root:Sparsifying embeddings...\n",
      "INFO:root:Sparsifying embeddings took 0 s.\n",
      "INFO:root:Saving embeddings to \"embeddings/movie/10k-128/embeddings-90.npz\"\n"
     ]
    },
    {
     "name": "stdout",
     "output_type": "stream",
     "text": [
      "––––––––––––––––––––––––––––––––––––––––––––––––––––––––––––––––––––––––––––––––\n"
     ]
    }
   ],
   "source": [
    "# %%script false --no-raise-error\n",
    "\n",
    "embedder = Embedder.load(MODEL_PATH)\n",
    "embedder.embed_batches(medias, 10000, os.path.join(MODEL_PATH))"
   ]
  },
  {
   "cell_type": "code",
   "execution_count": 9,
   "metadata": {},
   "outputs": [],
   "source": [
    "embeddings, ids = Embedder.load_embeddings(MODEL_PATH)\n",
    "assert embeddings.shape[0] == medias.shape[0]\n",
    "rec = Recommender(embeddings, ids)"
   ]
  },
  {
   "attachments": {},
   "cell_type": "markdown",
   "metadata": {},
   "source": [
    "## In-sample performance"
   ]
  },
  {
   "cell_type": "code",
   "execution_count": 10,
   "metadata": {},
   "outputs": [
    {
     "name": "stdout",
     "output_type": "stream",
     "text": [
      "Top 10 similar movies to \"Iron Man 2\":\n",
      "* The Humanity Bureau\n",
      "* Kamen Rider Ex-Aid Trilogy: Another Ending - Kamen Rider Genm VS Lazer\n",
      "* Duke Nukem\n",
      "* Mad Max: The Wasteland\n",
      "* Avatar 5\n",
      "* Kalimán, the Incredible Man\n",
      "* Heavy Armor 4: Monster Attack\n",
      "* 2067\n",
      "* 佣兵特战队\n",
      "* Ultraman Mebius Side Story: Hikari Saga - SAGA 1: Arb's Tragedy\n"
     ]
    }
   ],
   "source": [
    "rec.recommend_pprint(10138, medias['title'])"
   ]
  },
  {
   "cell_type": "code",
   "execution_count": 11,
   "metadata": {},
   "outputs": [
    {
     "name": "stdout",
     "output_type": "stream",
     "text": [
      "Top 10 similar movies to \"Scarface\":\n",
      "* Drug War\n",
      "* Drug Hunter\n",
      "* Contrabandistas del Caribe\n",
      "* Narcocorrido\n",
      "* Elite Squad\n",
      "* Udta Punjab\n",
      "* The Ghost Outlaws\n",
      "* The Amsterdam Kill\n",
      "* The Tigers\n",
      "* Wild Youth\n"
     ]
    }
   ],
   "source": [
    "rec.recommend_pprint(111, medias['title'])"
   ]
  },
  {
   "attachments": {},
   "cell_type": "markdown",
   "metadata": {},
   "source": [
    "## Out-of-sample performance"
   ]
  },
  {
   "cell_type": "code",
   "execution_count": 12,
   "metadata": {},
   "outputs": [
    {
     "name": "stdout",
     "output_type": "stream",
     "text": [
      "Top 10 similar movies to \"Alvin and the Chipmunks Meet the Wolfman\":\n",
      "* Walt Disney Treasures: More Silly Symphonies\n",
      "* Music Land\n",
      "* Symphony No. 5\n",
      "* The Emperor's Newest Clothes\n",
      "* VeggieTales: An Easter Carol\n",
      "* Mexico: Pátzcuaro, Veracruz and Acapulco\n",
      "* Rock-A-Doodle\n",
      "* Alvin and the Chipmunks: The Squeakquel\n",
      "* Baía\n",
      "* Mad Monster Party?\n"
     ]
    }
   ],
   "source": [
    "rec.recommend_pprint(48246, medias['title'])"
   ]
  },
  {
   "cell_type": "code",
   "execution_count": 13,
   "metadata": {},
   "outputs": [
    {
     "data": {
      "text/plain": [
       "False"
      ]
     },
     "execution_count": 13,
     "metadata": {},
     "output_type": "execute_result"
    }
   ],
   "source": [
    "48246 in train.index"
   ]
  },
  {
   "cell_type": "code",
   "execution_count": 14,
   "metadata": {},
   "outputs": [
    {
     "name": "stdout",
     "output_type": "stream",
     "text": [
      "Top 10 similar movies to \"Alexander the Great\":\n",
      "* 1911\n",
      "* Red Cliff\n",
      "* Red Cliff II\n",
      "* The Breath\n",
      "* The Messenger: The Story of Joan of Arc\n",
      "* Rob Roy\n",
      "* This Was Pancho Villa: Third chapter\n",
      "* Rules of Engagement\n",
      "* Kingdom of Heaven\n",
      "* Battle for Haditha\n"
     ]
    }
   ],
   "source": [
    "rec.recommend_pprint(42668, medias['title'])"
   ]
  },
  {
   "cell_type": "code",
   "execution_count": 15,
   "metadata": {},
   "outputs": [
    {
     "data": {
      "text/plain": [
       "False"
      ]
     },
     "execution_count": 15,
     "metadata": {},
     "output_type": "execute_result"
    }
   ],
   "source": [
    "42668 in train.index"
   ]
  },
  {
   "cell_type": "code",
   "execution_count": 16,
   "metadata": {},
   "outputs": [
    {
     "name": "stdout",
     "output_type": "stream",
     "text": [
      "Top 10 similar movies to \"Munich: The Edge of War\":\n",
      "* The Fires of Baku\n",
      "* Rosa Luxemburg\n",
      "* Julius Caesar\n",
      "* Antigone\n",
      "* Nainsukh\n",
      "* Roosevelt\n",
      "* The Black Duke\n",
      "* Once Upon a Time in Croatia\n",
      "* The Kingmaker Connection\n",
      "* Soekarno\n"
     ]
    }
   ],
   "source": [
    "rec.recommend_pprint(760336, medias['title'])"
   ]
  }
 ],
 "metadata": {
  "kernelspec": {
   "display_name": "venv",
   "language": "python",
   "name": "python3"
  },
  "language_info": {
   "codemirror_mode": {
    "name": "ipython",
    "version": 3
   },
   "file_extension": ".py",
   "mimetype": "text/x-python",
   "name": "python",
   "nbconvert_exporter": "python",
   "pygments_lexer": "ipython3",
   "version": "3.7.12"
  },
  "orig_nbformat": 4
 },
 "nbformat": 4,
 "nbformat_minor": 2
}
