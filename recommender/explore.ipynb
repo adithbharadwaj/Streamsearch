{
 "cells": [
  {
   "cell_type": "code",
   "execution_count": 77,
   "metadata": {},
   "outputs": [],
   "source": [
    "import json\n",
    "import os\n",
    "import unicodedata\n",
    "from functools import partial"
   ]
  },
  {
   "cell_type": "code",
   "execution_count": 120,
   "metadata": {},
   "outputs": [],
   "source": [
    "import matplotlib.pyplot as plt\n",
    "import numpy as np\n",
    "import pandas as pd\n",
    "from nltk.corpus import stopwords, wordnet\n",
    "from nltk.stem import WordNetLemmatizer\n",
    "from nltk.tag import pos_tag\n",
    "from nltk.tokenize import word_tokenize\n",
    "from sklearn.feature_extraction.text import ENGLISH_STOP_WORDS, TfidfVectorizer\n",
    "from sklearn.metrics.pairwise import cosine_similarity\n",
    "from sklearn.preprocessing import MultiLabelBinarizer"
   ]
  },
  {
   "cell_type": "code",
   "execution_count": 79,
   "metadata": {},
   "outputs": [],
   "source": [
    "plt.rcParams.update({\n",
    "    'text.usetex': True,\n",
    "    'font.family': 'sans-serif'\n",
    "})"
   ]
  },
  {
   "cell_type": "code",
   "execution_count": 80,
   "metadata": {},
   "outputs": [],
   "source": [
    "credits = pd.read_csv(os.path.join('data', 'tmdb_5000_credits.csv'), index_col='movie_id')\n",
    "movies = pd.read_csv(os.path.join('data', 'tmdb_5000_movies.csv'), index_col='id')\n",
    "\n",
    "credits = credits.drop(columns=['title'])\n",
    "movies = movies.join(credits)\n",
    "\n",
    "del credits"
   ]
  },
  {
   "attachments": {},
   "cell_type": "markdown",
   "metadata": {},
   "source": [
    "## Feature processing"
   ]
  },
  {
   "cell_type": "code",
   "execution_count": 81,
   "metadata": {},
   "outputs": [
    {
     "data": {
      "text/plain": [
       "Index(['budget', 'genres', 'homepage', 'keywords', 'original_language',\n",
       "       'original_title', 'overview', 'popularity', 'production_companies',\n",
       "       'production_countries', 'release_date', 'revenue', 'runtime',\n",
       "       'spoken_languages', 'status', 'tagline', 'title', 'vote_average',\n",
       "       'vote_count', 'cast', 'crew'],\n",
       "      dtype='object')"
      ]
     },
     "execution_count": 81,
     "metadata": {},
     "output_type": "execute_result"
    }
   ],
   "source": [
    "movies.columns"
   ]
  },
  {
   "cell_type": "code",
   "execution_count": 82,
   "metadata": {},
   "outputs": [],
   "source": [
    "movies.drop(columns=[\n",
    "    'budget',\n",
    "    'homepage',\n",
    "    'original_title',\n",
    "    'revenue',\n",
    "    'status',\n",
    "    'tagline',\n",
    "    'vote_count',\n",
    "    'crew'\n",
    "], inplace=True)"
   ]
  },
  {
   "attachments": {},
   "cell_type": "markdown",
   "metadata": {},
   "source": [
    "### `genres`"
   ]
  },
  {
   "cell_type": "code",
   "execution_count": 83,
   "metadata": {},
   "outputs": [
    {
     "data": {
      "text/plain": [
       "'[{\"id\": 28, \"name\": \"Action\"}, {\"id\": 12, \"name\": \"Adventure\"}, {\"id\": 14, \"name\": \"Fantasy\"}, {\"id\": 878, \"name\": \"Science Fiction\"}]'"
      ]
     },
     "execution_count": 83,
     "metadata": {},
     "output_type": "execute_result"
    }
   ],
   "source": [
    "movies.loc[19995, 'genres']"
   ]
  },
  {
   "cell_type": "code",
   "execution_count": 84,
   "metadata": {},
   "outputs": [],
   "source": [
    "def extract_genre_names(json_str):\n",
    "    genres = map(lambda genre: genre['name'], json.loads(json_str))\n",
    "    genres = map(lambda genre: genre.lower().replace(' ', '-'), genres)\n",
    "    return set(genres)"
   ]
  },
  {
   "cell_type": "code",
   "execution_count": 85,
   "metadata": {},
   "outputs": [],
   "source": [
    "movies['genres'] = movies['genres'].apply(extract_genre_names)"
   ]
  },
  {
   "cell_type": "code",
   "execution_count": 86,
   "metadata": {},
   "outputs": [],
   "source": [
    "encoder_genres = MultiLabelBinarizer()\n",
    "genres_enc = encoder_genres.fit_transform(movies['genres'])\n",
    "\n",
    "genre_columns = list(map(lambda genre: f'is_{genre}', encoder_genres.classes_))\n",
    "genres_enc = pd.DataFrame(genres_enc, columns=genre_columns, index=movies.index)\n",
    "\n",
    "movies = movies.join(genres_enc)\n",
    "movies = movies.drop(columns=['genres'])"
   ]
  },
  {
   "cell_type": "code",
   "execution_count": 87,
   "metadata": {},
   "outputs": [
    {
     "data": {
      "text/plain": [
       "title                 Avatar\n",
       "is_action                  1\n",
       "is_adventure               1\n",
       "is_animation               0\n",
       "is_comedy                  0\n",
       "is_crime                   0\n",
       "is_documentary             0\n",
       "is_drama                   0\n",
       "is_family                  0\n",
       "is_fantasy                 1\n",
       "is_foreign                 0\n",
       "is_history                 0\n",
       "is_horror                  0\n",
       "is_music                   0\n",
       "is_mystery                 0\n",
       "is_romance                 0\n",
       "is_science-fiction         1\n",
       "is_thriller                0\n",
       "is_tv-movie                0\n",
       "is_war                     0\n",
       "is_western                 0\n",
       "Name: 19995, dtype: object"
      ]
     },
     "execution_count": 87,
     "metadata": {},
     "output_type": "execute_result"
    }
   ],
   "source": [
    "movies.loc[19995, ['title'] + genre_columns]"
   ]
  },
  {
   "cell_type": "code",
   "execution_count": 88,
   "metadata": {},
   "outputs": [
    {
     "data": {
      "text/plain": [
       "title                 Saving Private Ryan\n",
       "is_action                               0\n",
       "is_adventure                            0\n",
       "is_animation                            0\n",
       "is_comedy                               0\n",
       "is_crime                                0\n",
       "is_documentary                          0\n",
       "is_drama                                1\n",
       "is_family                               0\n",
       "is_fantasy                              0\n",
       "is_foreign                              0\n",
       "is_history                              1\n",
       "is_horror                               0\n",
       "is_music                                0\n",
       "is_mystery                              0\n",
       "is_romance                              0\n",
       "is_science-fiction                      0\n",
       "is_thriller                             0\n",
       "is_tv-movie                             0\n",
       "is_war                                  1\n",
       "is_western                              0\n",
       "Name: 857, dtype: object"
      ]
     },
     "execution_count": 88,
     "metadata": {},
     "output_type": "execute_result"
    }
   ],
   "source": [
    "movies.loc[857, ['title'] + genre_columns]"
   ]
  },
  {
   "cell_type": "code",
   "execution_count": 89,
   "metadata": {},
   "outputs": [
    {
     "data": {
      "text/plain": [
       "id\n",
       "19995     In the 22nd century, a paraplegic Marine is di...\n",
       "285       Captain Barbossa, long believed to be dead, ha...\n",
       "206647    A cryptic message from Bond’s past sends him o...\n",
       "49026     Following the death of District Attorney Harve...\n",
       "49529     John Carter is a war-weary, former military ca...\n",
       "                                ...                        \n",
       "9367      El Mariachi just wants to play his guitar and ...\n",
       "72766     A newlywed couple's honeymoon is upended by th...\n",
       "231617    \"Signed, Sealed, Delivered\" introduces a dedic...\n",
       "126186    When ambitious New York attorney Sam is sent t...\n",
       "25975     Ever since the second grade when he first saw ...\n",
       "Length: 4803, dtype: object"
      ]
     },
     "execution_count": 89,
     "metadata": {},
     "output_type": "execute_result"
    }
   ],
   "source": [
    "(movies['overview'] + movies['keywords'])"
   ]
  },
  {
   "attachments": {},
   "cell_type": "markdown",
   "metadata": {},
   "source": [
    "### `overview` and `keywords`"
   ]
  },
  {
   "cell_type": "code",
   "execution_count": 90,
   "metadata": {},
   "outputs": [
    {
     "data": {
      "text/plain": [
       "id\n",
       "19995     In the 22nd century, a paraplegic Marine is di...\n",
       "285       Captain Barbossa, long believed to be dead, ha...\n",
       "206647    A cryptic message from Bond’s past sends him o...\n",
       "49026     Following the death of District Attorney Harve...\n",
       "49529     John Carter is a war-weary, former military ca...\n",
       "                                ...                        \n",
       "9367      El Mariachi just wants to play his guitar and ...\n",
       "72766     A newlywed couple's honeymoon is upended by th...\n",
       "231617    \"Signed, Sealed, Delivered\" introduces a dedic...\n",
       "126186    When ambitious New York attorney Sam is sent t...\n",
       "25975     Ever since the second grade when he first saw ...\n",
       "Name: overview, Length: 4803, dtype: object"
      ]
     },
     "execution_count": 90,
     "metadata": {},
     "output_type": "execute_result"
    }
   ],
   "source": [
    "movies['overview']"
   ]
  },
  {
   "cell_type": "code",
   "execution_count": 91,
   "metadata": {},
   "outputs": [
    {
     "data": {
      "image/png": "[encoded data removed]",
      "text/plain": [
       "<Figure size 640x480 with 1 Axes>"
      ]
     },
     "metadata": {},
     "output_type": "display_data"
    }
   ],
   "source": [
    "plt.hist(movies['overview'].str.len(), color='#1b9e77', edgecolor='k')\n",
    "plt.xlabel(r'\\texttt{overview}')\n",
    "plt.ylabel(r'Count');"
   ]
  },
  {
   "cell_type": "code",
   "execution_count": 92,
   "metadata": {},
   "outputs": [
    {
     "data": {
      "text/plain": [
       "3"
      ]
     },
     "execution_count": 92,
     "metadata": {},
     "output_type": "execute_result"
    }
   ],
   "source": [
    "movies['overview'].isna().sum()"
   ]
  },
  {
   "cell_type": "code",
   "execution_count": 93,
   "metadata": {},
   "outputs": [],
   "source": [
    "movies['overview'].fillna('', inplace=True)"
   ]
  },
  {
   "cell_type": "code",
   "execution_count": 94,
   "metadata": {},
   "outputs": [],
   "source": [
    "def tokenize(raw_str):\n",
    "    try:\n",
    "        tokens = word_tokenize(raw_str)\n",
    "    except LookupError:\n",
    "        import nltk\n",
    "        nltk.download('punkt')\n",
    "    tokens = filter(lambda token: token.isalpha(), tokens)\n",
    "    tokens = map(lambda token: token.lower(), tokens)\n",
    "    tokens = map(partial(unicodedata.normalize, 'NFKC'), tokens)\n",
    "    return list(tokens)"
   ]
  },
  {
   "cell_type": "code",
   "execution_count": 95,
   "metadata": {},
   "outputs": [],
   "source": [
    "def to_wordnet_pos(penn_pos):\n",
    "    if penn_pos.startswith('V'):\n",
    "        return wordnet.VERB\n",
    "    elif penn_pos.startswith('J'):\n",
    "        return wordnet.ADJ\n",
    "    elif penn_pos.startswith('R'):\n",
    "        return wordnet.ADV\n",
    "    else:\n",
    "        return wordnet.NOUN"
   ]
  },
  {
   "cell_type": "code",
   "execution_count": 96,
   "metadata": {},
   "outputs": [],
   "source": [
    "def lemmatize(tokens):\n",
    "    lemmatizer = WordNetLemmatizer()\n",
    "\n",
    "    try:\n",
    "        poss = list(map(lambda tag: to_wordnet_pos(tag[1]), pos_tag(tokens)))\n",
    "    except LookupError:\n",
    "        import nltk\n",
    "        nltk.download('averaged_perceptron_tagger')\n",
    "\n",
    "    tokens = [\n",
    "        lemmatizer.lemmatize(token, pos=poss[i])\n",
    "        for i, token in enumerate(tokens)\n",
    "    ]\n",
    "\n",
    "    return tokens"
   ]
  },
  {
   "cell_type": "code",
   "execution_count": 97,
   "metadata": {},
   "outputs": [
    {
     "data": {
      "text/plain": [
       "['be', 'be', 'be']"
      ]
     },
     "execution_count": 97,
     "metadata": {},
     "output_type": "execute_result"
    }
   ],
   "source": [
    "lemmatize(['was', 'were', 'being'])"
   ]
  },
  {
   "cell_type": "code",
   "execution_count": 98,
   "metadata": {},
   "outputs": [
    {
     "data": {
      "text/plain": [
       "['do', 'do', 'do']"
      ]
     },
     "execution_count": 98,
     "metadata": {},
     "output_type": "execute_result"
    }
   ],
   "source": [
    "lemmatize(['did', 'does', 'done'])"
   ]
  },
  {
   "cell_type": "code",
   "execution_count": 99,
   "metadata": {},
   "outputs": [],
   "source": [
    "def normalize(raw_str):\n",
    "    tokens = tokenize(raw_str)\n",
    "    tokens = lemmatize(tokens)\n",
    "    return tokens"
   ]
  },
  {
   "cell_type": "code",
   "execution_count": 100,
   "metadata": {},
   "outputs": [
    {
     "data": {
      "text/plain": [
       "'In the 22nd century, a paraplegic Marine is dispatched to the moon Pandora on a unique mission, but becomes torn between following orders and protecting an alien civilization.'"
      ]
     },
     "execution_count": 100,
     "metadata": {},
     "output_type": "execute_result"
    }
   ],
   "source": [
    "movies.loc[19995, 'overview']"
   ]
  },
  {
   "cell_type": "code",
   "execution_count": 101,
   "metadata": {},
   "outputs": [
    {
     "data": {
      "text/plain": [
       "'in the century a paraplegic marine be dispatch to the moon pandora on a unique mission but become torn between follow order and protect an alien civilization'"
      ]
     },
     "execution_count": 101,
     "metadata": {},
     "output_type": "execute_result"
    }
   ],
   "source": [
    "' '.join(normalize(movies.loc[19995, 'overview']))"
   ]
  },
  {
   "cell_type": "code",
   "execution_count": 102,
   "metadata": {},
   "outputs": [],
   "source": [
    "movies['overview'] = movies['overview'] + movies['keywords']\n",
    "movies.drop(columns=['keywords'], inplace=True)"
   ]
  },
  {
   "cell_type": "code",
   "execution_count": 103,
   "metadata": {},
   "outputs": [
    {
     "data": {
      "text/plain": [
       "id\n",
       "19995     [in, the, century, a, paraplegic, marine, be, ...\n",
       "285       [captain, barbossa, long, believe, to, be, dea...\n",
       "206647    [a, cryptic, message, from, bond, s, past, sen...\n",
       "49026     [follow, the, death, of, district, attorney, h...\n",
       "49529     [john, carter, be, a, former, military, captai...\n",
       "                                ...                        \n",
       "9367      [el, mariachi, just, want, to, play, his, guit...\n",
       "72766     [a, newlywed, couple, honeymoon, be, upend, by...\n",
       "231617    [sign, seal, deliver, introduces, a, dedicated...\n",
       "126186    [when, ambitious, new, york, attorney, sam, be...\n",
       "25975     [ever, since, the, second, grade, when, he, fi...\n",
       "Name: overview, Length: 4803, dtype: object"
      ]
     },
     "execution_count": 103,
     "metadata": {},
     "output_type": "execute_result"
    }
   ],
   "source": [
    "movies['overview'].apply(normalize)"
   ]
  },
  {
   "cell_type": "code",
   "execution_count": 104,
   "metadata": {},
   "outputs": [],
   "source": [
    "try:\n",
    "    stopwords.words('english')\n",
    "except LookupError:\n",
    "    import nltk\n",
    "    nltk.download('stopwords')\n",
    "stopwords_list = ENGLISH_STOP_WORDS.union(stopwords.words('english'))"
   ]
  },
  {
   "cell_type": "code",
   "execution_count": 106,
   "metadata": {},
   "outputs": [],
   "source": [
    "encoder_overview = TfidfVectorizer(\n",
    "    strip_accents=False,\n",
    "    lowercase=False,\n",
    "    preprocessor=None,\n",
    "    tokenizer=None,\n",
    "    analyzer=normalize,\n",
    "    stop_words=stopwords_list,\n",
    "    norm='l2',\n",
    "    max_features=None\n",
    ")\n",
    "overview_enc = encoder_overview.fit_transform(movies['overview'])\n",
    "\n",
    "overview_columns = list(map(lambda token: f'tfidf_{token}', encoder_overview.get_feature_names_out()))\n",
    "overview_enc = pd.DataFrame(overview_enc.todense(), columns=overview_columns, index=movies.index)\n",
    "\n",
    "movies = movies.join(overview_enc)\n",
    "movies = movies.drop(columns=['overview'])"
   ]
  },
  {
   "cell_type": "code",
   "execution_count": 107,
   "metadata": {},
   "outputs": [
    {
     "data": {
      "text/plain": [
       "Index(['original_language', 'popularity', 'production_companies',\n",
       "       'production_countries', 'release_date', 'runtime', 'spoken_languages',\n",
       "       'title', 'vote_average', 'vote_count', 'cast', 'is_action',\n",
       "       'is_adventure', 'is_animation', 'is_comedy', 'is_crime',\n",
       "       'is_documentary', 'is_drama', 'is_family', 'is_fantasy'],\n",
       "      dtype='object')"
      ]
     },
     "execution_count": 107,
     "metadata": {},
     "output_type": "execute_result"
    }
   ],
   "source": [
    "movies.columns[:20]"
   ]
  },
  {
   "attachments": {},
   "cell_type": "markdown",
   "metadata": {},
   "source": [
    "### `popularity` and `vote_average`"
   ]
  },
  {
   "cell_type": "code",
   "execution_count": null,
   "metadata": {},
   "outputs": [],
   "source": [
    "movies['popularity'].describe()"
   ]
  },
  {
   "attachments": {},
   "cell_type": "markdown",
   "metadata": {},
   "source": [
    "Not sure if we should include this? Just because two movies have a similar\n",
    "popularity doesn't mean they might be similar in content. (However, a movie with\n",
    "a high `popularity` or `vote_average` might be a good recommendation *by pure\n",
    "chance*, in the sense that it an average user is likelier to enjoy it.)"
   ]
  },
  {
   "cell_type": "code",
   "execution_count": 108,
   "metadata": {},
   "outputs": [],
   "source": [
    "movies.drop(columns=['popularity', 'vote_average'], inplace=True)"
   ]
  },
  {
   "attachments": {},
   "cell_type": "markdown",
   "metadata": {},
   "source": [
    "### Potentially useful features with cardinality issues"
   ]
  },
  {
   "attachments": {},
   "cell_type": "markdown",
   "metadata": {},
   "source": [
    "* `production_companies` / `production_countries`\n",
    "* `original_language` / `spoken_languages`\n",
    "* `cast`\n",
    "* `runtime`: English vs Hindi (weak determinant?)\n",
    "* `release_date`: Variance within an era vs across eras (very weak determinant?)"
   ]
  },
  {
   "cell_type": "code",
   "execution_count": 109,
   "metadata": {},
   "outputs": [],
   "source": [
    "movies.drop(columns=[\n",
    "    'production_companies',\n",
    "    'production_countries',\n",
    "    'original_language',\n",
    "    'spoken_languages',\n",
    "    'cast',\n",
    "    'runtime',\n",
    "    'release_date'\n",
    "], inplace=True)"
   ]
  },
  {
   "cell_type": "code",
   "execution_count": 111,
   "metadata": {},
   "outputs": [
    {
     "data": {
      "text/plain": [
       "Index(['title', 'vote_count', 'is_action', 'is_adventure', 'is_animation',\n",
       "       'is_comedy', 'is_crime', 'is_documentary', 'is_drama', 'is_family',\n",
       "       ...\n",
       "       'tfidf_zuckerberg', 'tfidf_zula', 'tfidf_zurich', 'tfidf_zuzu',\n",
       "       'tfidf_zyklon', 'tfidf_à', 'tfidf_æon', 'tfidf_éloigne', 'tfidf_émigré',\n",
       "       'tfidf_única'],\n",
       "      dtype='object', length=18860)"
      ]
     },
     "execution_count": 111,
     "metadata": {},
     "output_type": "execute_result"
    }
   ],
   "source": [
    "movies.columns"
   ]
  },
  {
   "attachments": {},
   "cell_type": "markdown",
   "metadata": {},
   "source": [
    "## Similarity"
   ]
  },
  {
   "cell_type": "code",
   "execution_count": 117,
   "metadata": {},
   "outputs": [],
   "source": [
    "titles = movies['title']\n",
    "movies.drop(columns=['title'], inplace=True)"
   ]
  },
  {
   "cell_type": "code",
   "execution_count": 118,
   "metadata": {},
   "outputs": [
    {
     "data": {
      "text/html": [
       "<div>\n",
       "<style scoped>\n",
       "    .dataframe tbody tr th:only-of-type {\n",
       "        vertical-align: middle;\n",
       "    }\n",
       "\n",
       "    .dataframe tbody tr th {\n",
       "        vertical-align: top;\n",
       "    }\n",
       "\n",
       "    .dataframe thead th {\n",
       "        text-align: right;\n",
       "    }\n",
       "</style>\n",
       "<table border=\"1\" class=\"dataframe\">\n",
       "  <thead>\n",
       "    <tr style=\"text-align: right;\">\n",
       "      <th></th>\n",
       "      <th>is_action</th>\n",
       "      <th>is_adventure</th>\n",
       "      <th>is_animation</th>\n",
       "      <th>is_comedy</th>\n",
       "      <th>is_crime</th>\n",
       "      <th>is_documentary</th>\n",
       "      <th>is_drama</th>\n",
       "      <th>is_family</th>\n",
       "      <th>is_fantasy</th>\n",
       "      <th>is_foreign</th>\n",
       "      <th>...</th>\n",
       "      <th>tfidf_zuckerberg</th>\n",
       "      <th>tfidf_zula</th>\n",
       "      <th>tfidf_zurich</th>\n",
       "      <th>tfidf_zuzu</th>\n",
       "      <th>tfidf_zyklon</th>\n",
       "      <th>tfidf_à</th>\n",
       "      <th>tfidf_æon</th>\n",
       "      <th>tfidf_éloigne</th>\n",
       "      <th>tfidf_émigré</th>\n",
       "      <th>tfidf_única</th>\n",
       "    </tr>\n",
       "    <tr>\n",
       "      <th>id</th>\n",
       "      <th></th>\n",
       "      <th></th>\n",
       "      <th></th>\n",
       "      <th></th>\n",
       "      <th></th>\n",
       "      <th></th>\n",
       "      <th></th>\n",
       "      <th></th>\n",
       "      <th></th>\n",
       "      <th></th>\n",
       "      <th></th>\n",
       "      <th></th>\n",
       "      <th></th>\n",
       "      <th></th>\n",
       "      <th></th>\n",
       "      <th></th>\n",
       "      <th></th>\n",
       "      <th></th>\n",
       "      <th></th>\n",
       "      <th></th>\n",
       "      <th></th>\n",
       "    </tr>\n",
       "  </thead>\n",
       "  <tbody>\n",
       "    <tr>\n",
       "      <th>19995</th>\n",
       "      <td>1</td>\n",
       "      <td>1</td>\n",
       "      <td>0</td>\n",
       "      <td>0</td>\n",
       "      <td>0</td>\n",
       "      <td>0</td>\n",
       "      <td>0</td>\n",
       "      <td>0</td>\n",
       "      <td>1</td>\n",
       "      <td>0</td>\n",
       "      <td>...</td>\n",
       "      <td>0.0</td>\n",
       "      <td>0.0</td>\n",
       "      <td>0.0</td>\n",
       "      <td>0.0</td>\n",
       "      <td>0.0</td>\n",
       "      <td>0.0</td>\n",
       "      <td>0.0</td>\n",
       "      <td>0.0</td>\n",
       "      <td>0.0</td>\n",
       "      <td>0.0</td>\n",
       "    </tr>\n",
       "    <tr>\n",
       "      <th>285</th>\n",
       "      <td>1</td>\n",
       "      <td>1</td>\n",
       "      <td>0</td>\n",
       "      <td>0</td>\n",
       "      <td>0</td>\n",
       "      <td>0</td>\n",
       "      <td>0</td>\n",
       "      <td>0</td>\n",
       "      <td>1</td>\n",
       "      <td>0</td>\n",
       "      <td>...</td>\n",
       "      <td>0.0</td>\n",
       "      <td>0.0</td>\n",
       "      <td>0.0</td>\n",
       "      <td>0.0</td>\n",
       "      <td>0.0</td>\n",
       "      <td>0.0</td>\n",
       "      <td>0.0</td>\n",
       "      <td>0.0</td>\n",
       "      <td>0.0</td>\n",
       "      <td>0.0</td>\n",
       "    </tr>\n",
       "    <tr>\n",
       "      <th>206647</th>\n",
       "      <td>1</td>\n",
       "      <td>1</td>\n",
       "      <td>0</td>\n",
       "      <td>0</td>\n",
       "      <td>1</td>\n",
       "      <td>0</td>\n",
       "      <td>0</td>\n",
       "      <td>0</td>\n",
       "      <td>0</td>\n",
       "      <td>0</td>\n",
       "      <td>...</td>\n",
       "      <td>0.0</td>\n",
       "      <td>0.0</td>\n",
       "      <td>0.0</td>\n",
       "      <td>0.0</td>\n",
       "      <td>0.0</td>\n",
       "      <td>0.0</td>\n",
       "      <td>0.0</td>\n",
       "      <td>0.0</td>\n",
       "      <td>0.0</td>\n",
       "      <td>0.0</td>\n",
       "    </tr>\n",
       "    <tr>\n",
       "      <th>49026</th>\n",
       "      <td>1</td>\n",
       "      <td>0</td>\n",
       "      <td>0</td>\n",
       "      <td>0</td>\n",
       "      <td>1</td>\n",
       "      <td>0</td>\n",
       "      <td>1</td>\n",
       "      <td>0</td>\n",
       "      <td>0</td>\n",
       "      <td>0</td>\n",
       "      <td>...</td>\n",
       "      <td>0.0</td>\n",
       "      <td>0.0</td>\n",
       "      <td>0.0</td>\n",
       "      <td>0.0</td>\n",
       "      <td>0.0</td>\n",
       "      <td>0.0</td>\n",
       "      <td>0.0</td>\n",
       "      <td>0.0</td>\n",
       "      <td>0.0</td>\n",
       "      <td>0.0</td>\n",
       "    </tr>\n",
       "    <tr>\n",
       "      <th>49529</th>\n",
       "      <td>1</td>\n",
       "      <td>1</td>\n",
       "      <td>0</td>\n",
       "      <td>0</td>\n",
       "      <td>0</td>\n",
       "      <td>0</td>\n",
       "      <td>0</td>\n",
       "      <td>0</td>\n",
       "      <td>0</td>\n",
       "      <td>0</td>\n",
       "      <td>...</td>\n",
       "      <td>0.0</td>\n",
       "      <td>0.0</td>\n",
       "      <td>0.0</td>\n",
       "      <td>0.0</td>\n",
       "      <td>0.0</td>\n",
       "      <td>0.0</td>\n",
       "      <td>0.0</td>\n",
       "      <td>0.0</td>\n",
       "      <td>0.0</td>\n",
       "      <td>0.0</td>\n",
       "    </tr>\n",
       "    <tr>\n",
       "      <th>...</th>\n",
       "      <td>...</td>\n",
       "      <td>...</td>\n",
       "      <td>...</td>\n",
       "      <td>...</td>\n",
       "      <td>...</td>\n",
       "      <td>...</td>\n",
       "      <td>...</td>\n",
       "      <td>...</td>\n",
       "      <td>...</td>\n",
       "      <td>...</td>\n",
       "      <td>...</td>\n",
       "      <td>...</td>\n",
       "      <td>...</td>\n",
       "      <td>...</td>\n",
       "      <td>...</td>\n",
       "      <td>...</td>\n",
       "      <td>...</td>\n",
       "      <td>...</td>\n",
       "      <td>...</td>\n",
       "      <td>...</td>\n",
       "      <td>...</td>\n",
       "    </tr>\n",
       "    <tr>\n",
       "      <th>9367</th>\n",
       "      <td>1</td>\n",
       "      <td>0</td>\n",
       "      <td>0</td>\n",
       "      <td>0</td>\n",
       "      <td>1</td>\n",
       "      <td>0</td>\n",
       "      <td>0</td>\n",
       "      <td>0</td>\n",
       "      <td>0</td>\n",
       "      <td>0</td>\n",
       "      <td>...</td>\n",
       "      <td>0.0</td>\n",
       "      <td>0.0</td>\n",
       "      <td>0.0</td>\n",
       "      <td>0.0</td>\n",
       "      <td>0.0</td>\n",
       "      <td>0.0</td>\n",
       "      <td>0.0</td>\n",
       "      <td>0.0</td>\n",
       "      <td>0.0</td>\n",
       "      <td>0.0</td>\n",
       "    </tr>\n",
       "    <tr>\n",
       "      <th>72766</th>\n",
       "      <td>0</td>\n",
       "      <td>0</td>\n",
       "      <td>0</td>\n",
       "      <td>1</td>\n",
       "      <td>0</td>\n",
       "      <td>0</td>\n",
       "      <td>0</td>\n",
       "      <td>0</td>\n",
       "      <td>0</td>\n",
       "      <td>0</td>\n",
       "      <td>...</td>\n",
       "      <td>0.0</td>\n",
       "      <td>0.0</td>\n",
       "      <td>0.0</td>\n",
       "      <td>0.0</td>\n",
       "      <td>0.0</td>\n",
       "      <td>0.0</td>\n",
       "      <td>0.0</td>\n",
       "      <td>0.0</td>\n",
       "      <td>0.0</td>\n",
       "      <td>0.0</td>\n",
       "    </tr>\n",
       "    <tr>\n",
       "      <th>231617</th>\n",
       "      <td>0</td>\n",
       "      <td>0</td>\n",
       "      <td>0</td>\n",
       "      <td>1</td>\n",
       "      <td>0</td>\n",
       "      <td>0</td>\n",
       "      <td>1</td>\n",
       "      <td>0</td>\n",
       "      <td>0</td>\n",
       "      <td>0</td>\n",
       "      <td>...</td>\n",
       "      <td>0.0</td>\n",
       "      <td>0.0</td>\n",
       "      <td>0.0</td>\n",
       "      <td>0.0</td>\n",
       "      <td>0.0</td>\n",
       "      <td>0.0</td>\n",
       "      <td>0.0</td>\n",
       "      <td>0.0</td>\n",
       "      <td>0.0</td>\n",
       "      <td>0.0</td>\n",
       "    </tr>\n",
       "    <tr>\n",
       "      <th>126186</th>\n",
       "      <td>0</td>\n",
       "      <td>0</td>\n",
       "      <td>0</td>\n",
       "      <td>0</td>\n",
       "      <td>0</td>\n",
       "      <td>0</td>\n",
       "      <td>0</td>\n",
       "      <td>0</td>\n",
       "      <td>0</td>\n",
       "      <td>0</td>\n",
       "      <td>...</td>\n",
       "      <td>0.0</td>\n",
       "      <td>0.0</td>\n",
       "      <td>0.0</td>\n",
       "      <td>0.0</td>\n",
       "      <td>0.0</td>\n",
       "      <td>0.0</td>\n",
       "      <td>0.0</td>\n",
       "      <td>0.0</td>\n",
       "      <td>0.0</td>\n",
       "      <td>0.0</td>\n",
       "    </tr>\n",
       "    <tr>\n",
       "      <th>25975</th>\n",
       "      <td>0</td>\n",
       "      <td>0</td>\n",
       "      <td>0</td>\n",
       "      <td>0</td>\n",
       "      <td>0</td>\n",
       "      <td>1</td>\n",
       "      <td>0</td>\n",
       "      <td>0</td>\n",
       "      <td>0</td>\n",
       "      <td>0</td>\n",
       "      <td>...</td>\n",
       "      <td>0.0</td>\n",
       "      <td>0.0</td>\n",
       "      <td>0.0</td>\n",
       "      <td>0.0</td>\n",
       "      <td>0.0</td>\n",
       "      <td>0.0</td>\n",
       "      <td>0.0</td>\n",
       "      <td>0.0</td>\n",
       "      <td>0.0</td>\n",
       "      <td>0.0</td>\n",
       "    </tr>\n",
       "  </tbody>\n",
       "</table>\n",
       "<p>4803 rows × 18858 columns</p>\n",
       "</div>"
      ],
      "text/plain": [
       "        is_action  is_adventure  is_animation  is_comedy  is_crime  \\\n",
       "id                                                                   \n",
       "19995           1             1             0          0         0   \n",
       "285             1             1             0          0         0   \n",
       "206647          1             1             0          0         1   \n",
       "49026           1             0             0          0         1   \n",
       "49529           1             1             0          0         0   \n",
       "...           ...           ...           ...        ...       ...   \n",
       "9367            1             0             0          0         1   \n",
       "72766           0             0             0          1         0   \n",
       "231617          0             0             0          1         0   \n",
       "126186          0             0             0          0         0   \n",
       "25975           0             0             0          0         0   \n",
       "\n",
       "        is_documentary  is_drama  is_family  is_fantasy  is_foreign  ...  \\\n",
       "id                                                                   ...   \n",
       "19995                0         0          0           1           0  ...   \n",
       "285                  0         0          0           1           0  ...   \n",
       "206647               0         0          0           0           0  ...   \n",
       "49026                0         1          0           0           0  ...   \n",
       "49529                0         0          0           0           0  ...   \n",
       "...                ...       ...        ...         ...         ...  ...   \n",
       "9367                 0         0          0           0           0  ...   \n",
       "72766                0         0          0           0           0  ...   \n",
       "231617               0         1          0           0           0  ...   \n",
       "126186               0         0          0           0           0  ...   \n",
       "25975                1         0          0           0           0  ...   \n",
       "\n",
       "        tfidf_zuckerberg  tfidf_zula  tfidf_zurich  tfidf_zuzu  tfidf_zyklon  \\\n",
       "id                                                                             \n",
       "19995                0.0         0.0           0.0         0.0           0.0   \n",
       "285                  0.0         0.0           0.0         0.0           0.0   \n",
       "206647               0.0         0.0           0.0         0.0           0.0   \n",
       "49026                0.0         0.0           0.0         0.0           0.0   \n",
       "49529                0.0         0.0           0.0         0.0           0.0   \n",
       "...                  ...         ...           ...         ...           ...   \n",
       "9367                 0.0         0.0           0.0         0.0           0.0   \n",
       "72766                0.0         0.0           0.0         0.0           0.0   \n",
       "231617               0.0         0.0           0.0         0.0           0.0   \n",
       "126186               0.0         0.0           0.0         0.0           0.0   \n",
       "25975                0.0         0.0           0.0         0.0           0.0   \n",
       "\n",
       "        tfidf_à  tfidf_æon  tfidf_éloigne  tfidf_émigré  tfidf_única  \n",
       "id                                                                    \n",
       "19995       0.0        0.0            0.0           0.0          0.0  \n",
       "285         0.0        0.0            0.0           0.0          0.0  \n",
       "206647      0.0        0.0            0.0           0.0          0.0  \n",
       "49026       0.0        0.0            0.0           0.0          0.0  \n",
       "49529       0.0        0.0            0.0           0.0          0.0  \n",
       "...         ...        ...            ...           ...          ...  \n",
       "9367        0.0        0.0            0.0           0.0          0.0  \n",
       "72766       0.0        0.0            0.0           0.0          0.0  \n",
       "231617      0.0        0.0            0.0           0.0          0.0  \n",
       "126186      0.0        0.0            0.0           0.0          0.0  \n",
       "25975       0.0        0.0            0.0           0.0          0.0  \n",
       "\n",
       "[4803 rows x 18858 columns]"
      ]
     },
     "execution_count": 118,
     "metadata": {},
     "output_type": "execute_result"
    }
   ],
   "source": [
    "movies"
   ]
  },
  {
   "cell_type": "code",
   "execution_count": 135,
   "metadata": {},
   "outputs": [],
   "source": [
    "similarity = cosine_similarity(movies)\n",
    "similarity = pd.DataFrame(similarity, index=movies.index, columns=movies.index)"
   ]
  },
  {
   "cell_type": "code",
   "execution_count": 149,
   "metadata": {},
   "outputs": [],
   "source": [
    "def topn_similar(similarity, id, n=10):\n",
    "    return list(similarity[id].sort_values(ascending=False).index[1:(n+1)])"
   ]
  },
  {
   "cell_type": "code",
   "execution_count": 154,
   "metadata": {},
   "outputs": [],
   "source": [
    "def pprint_topn_similar(similarity, id, titles, n=10):\n",
    "    print(f'Top {n} similar movies to \\\"{titles[id]}\\\":')\n",
    "    for similar_id in topn_similar(similarity, id, n=n):\n",
    "        print(f'* {titles[similar_id]}')"
   ]
  },
  {
   "cell_type": "code",
   "execution_count": 156,
   "metadata": {},
   "outputs": [
    {
     "name": "stdout",
     "output_type": "stream",
     "text": [
      "Top 10 similar movies to \"Ice Age\":\n",
      "* Ice Age: The Meltdown\n",
      "* Ice Age: Dawn of the Dinosaurs\n",
      "* Ice Age: Continental Drift\n",
      "* Kung Fu Panda\n",
      "* TMNT\n",
      "* Cars\n",
      "* Curious George\n",
      "* Antz\n",
      "* Up\n",
      "* Bolt\n"
     ]
    }
   ],
   "source": [
    "pprint_topn_similar(similarity, 425, titles, n=10)"
   ]
  },
  {
   "cell_type": "code",
   "execution_count": 157,
   "metadata": {},
   "outputs": [
    {
     "name": "stdout",
     "output_type": "stream",
     "text": [
      "Top 10 similar movies to \"Toy Story\":\n",
      "* Toy Story 3\n",
      "* Toy Story 2\n",
      "* Hotel Transylvania 2\n",
      "* Monsters, Inc.\n",
      "* The Simpsons Movie\n",
      "* Despicable Me 2\n",
      "* Over the Hedge\n",
      "* Free Birds\n",
      "* Doug's 1st Movie\n",
      "* Chicken Little\n"
     ]
    }
   ],
   "source": [
    "pprint_topn_similar(similarity, 862, titles, n=10)"
   ]
  },
  {
   "cell_type": "code",
   "execution_count": 162,
   "metadata": {},
   "outputs": [
    {
     "name": "stdout",
     "output_type": "stream",
     "text": [
      "Top 10 similar movies to \"The Chronicles of Narnia: The Lion, the Witch and the Wardrobe\":\n",
      "* The Chronicles of Narnia: Prince Caspian\n",
      "* The Wizard of Oz\n",
      "* The Chronicles of Narnia: The Voyage of the Dawn Treader\n",
      "* Harry Potter and the Chamber of Secrets\n",
      "* Harry Potter and the Philosopher's Stone\n",
      "* Oz: The Great and Powerful\n",
      "* The Spiderwick Chronicles\n",
      "* Harry Potter and the Half-Blood Prince\n",
      "* The Indian in the Cupboard\n",
      "* Harry Potter and the Prisoner of Azkaban\n"
     ]
    }
   ],
   "source": [
    "pprint_topn_similar(similarity, 411, titles, n=10)"
   ]
  },
  {
   "cell_type": "code",
   "execution_count": 155,
   "metadata": {},
   "outputs": [
    {
     "name": "stdout",
     "output_type": "stream",
     "text": [
      "Top 10 similar movies to \"Saving Private Ryan\":\n",
      "* The Thin Red Line\n",
      "* The Wind That Shakes the Barley\n",
      "* Downfall\n",
      "* Schindler's List\n",
      "* Gettysburg\n",
      "* Patton\n",
      "* City of Life and Death\n",
      "* Hotel Rwanda\n",
      "* Gods and Generals\n",
      "* Amigo\n"
     ]
    }
   ],
   "source": [
    "pprint_topn_similar(similarity, 857, titles, n=10)"
   ]
  },
  {
   "cell_type": "code",
   "execution_count": 161,
   "metadata": {},
   "outputs": [],
   "source": [
    "titles.to_csv('temp.csv')"
   ]
  },
  {
   "cell_type": "code",
   "execution_count": null,
   "metadata": {},
   "outputs": [],
   "source": []
  }
 ],
 "metadata": {
  "kernelspec": {
   "display_name": "ml-hw01",
   "language": "python",
   "name": "python3"
  },
  "language_info": {
   "codemirror_mode": {
    "name": "ipython",
    "version": 3
   },
   "file_extension": ".py",
   "mimetype": "text/x-python",
   "name": "python",
   "nbconvert_exporter": "python",
   "pygments_lexer": "ipython3",
   "version": "3.7.12"
  },
  "orig_nbformat": 4
 },
 "nbformat": 4,
 "nbformat_minor": 2
}
