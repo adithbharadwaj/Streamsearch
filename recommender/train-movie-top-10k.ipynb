{
 "cells": [
  {
   "attachments": {},
   "cell_type": "markdown",
   "metadata": {},
   "source": [
    "# Top $10,000$ movies\n",
    "\n",
    "Generates train (in-sample) and test (out-of-sample) embeddings using TF-IDF\n",
    "trained on top $10,000$ movies."
   ]
  },
  {
   "cell_type": "code",
   "execution_count": 9,
   "metadata": {},
   "outputs": [],
   "source": [
    "import logging\n",
    "import os\n",
    "import sys\n",
    "\n",
    "import pandas as pd"
   ]
  },
  {
   "cell_type": "code",
   "execution_count": 10,
   "metadata": {},
   "outputs": [],
   "source": [
    "sys.path.append(os.path.join('..'))\n",
    "from recommender.model import Embedder, Recommender"
   ]
  },
  {
   "cell_type": "code",
   "execution_count": 11,
   "metadata": {},
   "outputs": [],
   "source": [
    "logging.basicConfig(level=logging.INFO)"
   ]
  },
  {
   "cell_type": "code",
   "execution_count": 12,
   "metadata": {},
   "outputs": [],
   "source": [
    "medias = pd.read_csv(os.path.join('data', 'movies.csv'), index_col='id')\n",
    "medias = medias.sort_values(by='popularity', ascending=False)"
   ]
  },
  {
   "cell_type": "code",
   "execution_count": 13,
   "metadata": {},
   "outputs": [],
   "source": [
    "TOP_N = 10000\n",
    "\n",
    "train = medias.iloc[:TOP_N, :]\n",
    "test = medias.iloc[TOP_N:, :]"
   ]
  },
  {
   "cell_type": "code",
   "execution_count": 14,
   "metadata": {},
   "outputs": [],
   "source": [
    "MODEL_PATH = os.path.join('embeddings', 'movie', 'top-10k')"
   ]
  },
  {
   "cell_type": "code",
   "execution_count": 15,
   "metadata": {},
   "outputs": [],
   "source": [
    "%%script false --no-raise-error\n",
    "\n",
    "embedder = Embedder()\n",
    "embedder.train(train, vocab_size=5000, embedding_dim=64)\n",
    "embedder.save(MODEL_PATH)"
   ]
  },
  {
   "cell_type": "code",
   "execution_count": 16,
   "metadata": {},
   "outputs": [],
   "source": [
    "%%script false --no-raise-error\n",
    "\n",
    "embedder = Embedder.load(MODEL_PATH)\n",
    "embedder.embed_batches(medias, 10000, os.path.join(MODEL_PATH))"
   ]
  },
  {
   "cell_type": "code",
   "execution_count": 18,
   "metadata": {},
   "outputs": [],
   "source": [
    "embeddings, ids = Embedder.load_embeddings(MODEL_PATH)\n",
    "assert embeddings.shape[0] == medias.shape[0]\n",
    "rec = Recommender(embeddings, ids)"
   ]
  },
  {
   "attachments": {},
   "cell_type": "markdown",
   "metadata": {},
   "source": [
    "## In-sample performance"
   ]
  },
  {
   "cell_type": "code",
   "execution_count": 56,
   "metadata": {},
   "outputs": [
    {
     "name": "stdout",
     "output_type": "stream",
     "text": [
      "Top 10 similar movies to \"Iron Man 2\":\n",
      "* Captain America: Civil War\n",
      "* Raiders of the Sun\n",
      "* Kamen Rider Drive Saga: Kamen Rider Chaser\n",
      "* Steel\n",
      "* Kamen Rider Blade: Missing Ace\n",
      "* Kamen Rider Gaim the Movie: The Great Soccer Match! The Golden Fruit Cup!\n",
      "* Kamen Rider V3 vs. Destron Mutants\n",
      "* Kamen Rider × Super Sentai × Space Sheriff: Super Hero Wars Z\n",
      "* Avengers: Infinity War\n",
      "* Iron Man 3\n"
     ]
    }
   ],
   "source": [
    "rec.recommend_pprint(10138, medias['title'])"
   ]
  },
  {
   "cell_type": "code",
   "execution_count": 54,
   "metadata": {},
   "outputs": [
    {
     "name": "stdout",
     "output_type": "stream",
     "text": [
      "Top 10 similar movies to \"Scarface\":\n",
      "* The Weed of Crime\n",
      "* The Janitor\n",
      "* To Award (Posthumously)\n",
      "* Drug Hunter\n",
      "* Drug War\n",
      "* No Way Back\n",
      "* Elite Squad: The Enemy Within\n",
      "* Rinchi\n",
      "* Elite Squad\n",
      "* Fearless Match\n"
     ]
    }
   ],
   "source": [
    "rec.recommend_pprint(111, medias['title'])"
   ]
  },
  {
   "attachments": {},
   "cell_type": "markdown",
   "metadata": {},
   "source": [
    "## Out-of-sample performance"
   ]
  },
  {
   "cell_type": "code",
   "execution_count": 70,
   "metadata": {},
   "outputs": [
    {
     "name": "stdout",
     "output_type": "stream",
     "text": [
      "Top 10 similar movies to \"Alvin and the Chipmunks Meet the Wolfman\":\n",
      "* Alvin and the Chipmunks: The Squeakquel\n",
      "* Mad Monster Party?\n",
      "* Mickey Mouse Clubhouse: Road Rally\n",
      "* VeggieTales: An Easter Carol\n",
      "* Walt Disney Treasures: More Silly Symphonies\n",
      "* Music Land\n",
      "* Rock-A-Doodle\n",
      "* My Little Pony: Equestria Girls\n",
      "* Mexico: Pátzcuaro, Veracruz and Acapulco\n",
      "* The Emperor's Newest Clothes\n"
     ]
    }
   ],
   "source": [
    "rec.recommend_pprint(48246, medias['title'])"
   ]
  },
  {
   "cell_type": "code",
   "execution_count": 71,
   "metadata": {},
   "outputs": [
    {
     "data": {
      "text/plain": [
       "False"
      ]
     },
     "execution_count": 71,
     "metadata": {},
     "output_type": "execute_result"
    }
   ],
   "source": [
    "48246 in train.index"
   ]
  },
  {
   "cell_type": "code",
   "execution_count": 73,
   "metadata": {},
   "outputs": [
    {
     "name": "stdout",
     "output_type": "stream",
     "text": [
      "Top 10 similar movies to \"Alexander the Great\":\n",
      "* Rules of Engagement\n",
      "* 1911\n",
      "* Red Cliff\n",
      "* The Messenger: The Story of Joan of Arc\n",
      "* The Dragon Kid\n",
      "* Red Cliff II\n",
      "* Kingdom of Heaven\n",
      "* Night Ambush\n",
      "* The Red Baron\n",
      "* By the Will of Chingis Khan\n"
     ]
    }
   ],
   "source": [
    "rec.recommend_pprint(42668, medias['title'])"
   ]
  },
  {
   "cell_type": "code",
   "execution_count": 74,
   "metadata": {},
   "outputs": [
    {
     "data": {
      "text/plain": [
       "False"
      ]
     },
     "execution_count": 74,
     "metadata": {},
     "output_type": "execute_result"
    }
   ],
   "source": [
    "42668 in train.index"
   ]
  },
  {
   "cell_type": "code",
   "execution_count": 77,
   "metadata": {},
   "outputs": [
    {
     "name": "stdout",
     "output_type": "stream",
     "text": [
      "Top 10 similar movies to \"Munich: The Edge of War\":\n",
      "* Taras. Return\n",
      "* Das Zeugenhaus\n",
      "* Urho – Between the Hammer and the Sickle\n",
      "* The Sixth of July\n",
      "* Final Portrait\n",
      "* The Secret Diary of Symon Petliura\n",
      "* Julius Caesar\n",
      "* The Leader's Way. The Sky Of My Childhood\n",
      "* Spy of Napoleon\n",
      "* Once Upon a Time in Croatia\n"
     ]
    }
   ],
   "source": [
    "rec.recommend_pprint(760336, medias['title'])"
   ]
  }
 ],
 "metadata": {
  "kernelspec": {
   "display_name": "venv",
   "language": "python",
   "name": "python3"
  },
  "language_info": {
   "codemirror_mode": {
    "name": "ipython",
    "version": 3
   },
   "file_extension": ".py",
   "mimetype": "text/x-python",
   "name": "python",
   "nbconvert_exporter": "python",
   "pygments_lexer": "ipython3",
   "version": "3.7.12"
  },
  "orig_nbformat": 4
 },
 "nbformat": 4,
 "nbformat_minor": 2
}
